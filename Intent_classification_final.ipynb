{
 "cells": [
  {
   "cell_type": "markdown",
   "metadata": {
    "colab_type": "text",
    "id": "view-in-github"
   },
   "source": [
    "<a href=\"https://colab.research.google.com/github/Dark-Sied/Intent_Classification/blob/master/Intent_classification_final.ipynb\" target=\"_parent\"><img src=\"https://colab.research.google.com/assets/colab-badge.svg\" alt=\"Open In Colab\"/></a>"
   ]
  },
  {
   "cell_type": "markdown",
   "metadata": {},
   "source": [
    "# Intent Recognition\n",
    "Article: https://towardsdatascience.com/a-brief-introduction-to-intent-classification-96fda6b1f557    \n",
    "Changed by Christoph Windheuser, April 2020"
   ]
  },
  {
   "cell_type": "code",
   "execution_count": 1,
   "metadata": {
    "colab": {
     "base_uri": "https://localhost:8080/",
     "height": 34
    },
    "colab_type": "code",
    "id": "a_WypuUXi92e",
    "outputId": "133d026e-4236-4ff6-f21d-739bfb9640db"
   },
   "outputs": [
    {
     "name": "stderr",
     "output_type": "stream",
     "text": [
      "Using TensorFlow backend.\n"
     ]
    }
   ],
   "source": [
    "import numpy as np\n",
    "import pandas as pd\n",
    "from nltk.corpus import stopwords\n",
    "from nltk.tokenize import word_tokenize\n",
    "from nltk.stem.lancaster import LancasterStemmer\n",
    "import nltk\n",
    "import re\n",
    "from sklearn.preprocessing import OneHotEncoder\n",
    "import matplotlib.pyplot as plt\n",
    "from keras.preprocessing.text import Tokenizer\n",
    "from keras.preprocessing.sequence import pad_sequences\n",
    "from keras.utils import to_categorical\n",
    "from keras.models import Sequential, load_model\n",
    "from keras.layers import Dense, LSTM, Bidirectional, Embedding, Dropout\n",
    "from keras.callbacks import ModelCheckpoint\n"
   ]
  },
  {
   "cell_type": "code",
   "execution_count": 6,
   "metadata": {
    "colab": {},
    "colab_type": "code",
    "id": "LE6wywJrN2ih"
   },
   "outputs": [
    {
     "name": "stdout",
     "output_type": "stream",
     "text": [
      "                Sentence          Intent\n",
      "0       Need help pleese  commonQ.assist\n",
      "1              Need help  commonQ.assist\n",
      "2       I need some info  commonQ.assist\n",
      "3      Will you help me?  commonQ.assist\n",
      "4  What else can you do?  commonQ.assist\n"
     ]
    }
   ],
   "source": [
    "df = pd.read_csv(\"Dataset.csv\", encoding = \"latin1\", names = [\"Sentence\", \"Intent\"])\n",
    "print(df.head())\n",
    "intent = df[\"Intent\"]\n",
    "unique_intent = list(set(intent))\n",
    "sentences = list(df[\"Sentence\"])\n"
   ]
  },
  {
   "cell_type": "code",
   "execution_count": 7,
   "metadata": {
    "colab": {
     "base_uri": "https://localhost:8080/",
     "height": 119
    },
    "colab_type": "code",
    "id": "tF0FQA7gjOCX",
    "outputId": "c609b42a-05da-49f5-8d11-bd670210f635",
    "scrolled": true
   },
   "outputs": [],
   "source": [
    "#intent, unique_intent, sentences = load_dataset(\"Dataset.csv\")"
   ]
  },
  {
   "cell_type": "code",
   "execution_count": 8,
   "metadata": {
    "scrolled": true
   },
   "outputs": [
    {
     "data": {
      "text/html": [
       "<div>\n",
       "<style scoped>\n",
       "    .dataframe tbody tr th:only-of-type {\n",
       "        vertical-align: middle;\n",
       "    }\n",
       "\n",
       "    .dataframe tbody tr th {\n",
       "        vertical-align: top;\n",
       "    }\n",
       "\n",
       "    .dataframe thead th {\n",
       "        text-align: right;\n",
       "    }\n",
       "</style>\n",
       "<table border=\"1\" class=\"dataframe\">\n",
       "  <thead>\n",
       "    <tr style=\"text-align: right;\">\n",
       "      <th></th>\n",
       "      <th>Sentence</th>\n",
       "      <th>Intent</th>\n",
       "    </tr>\n",
       "  </thead>\n",
       "  <tbody>\n",
       "    <tr>\n",
       "      <th>0</th>\n",
       "      <td>Need help pleese</td>\n",
       "      <td>commonQ.assist</td>\n",
       "    </tr>\n",
       "    <tr>\n",
       "      <th>1</th>\n",
       "      <td>Need help</td>\n",
       "      <td>commonQ.assist</td>\n",
       "    </tr>\n",
       "    <tr>\n",
       "      <th>2</th>\n",
       "      <td>I need some info</td>\n",
       "      <td>commonQ.assist</td>\n",
       "    </tr>\n",
       "    <tr>\n",
       "      <th>3</th>\n",
       "      <td>Will you help me?</td>\n",
       "      <td>commonQ.assist</td>\n",
       "    </tr>\n",
       "    <tr>\n",
       "      <th>4</th>\n",
       "      <td>What else can you do?</td>\n",
       "      <td>commonQ.assist</td>\n",
       "    </tr>\n",
       "  </tbody>\n",
       "</table>\n",
       "</div>"
      ],
      "text/plain": [
       "                Sentence          Intent\n",
       "0       Need help pleese  commonQ.assist\n",
       "1              Need help  commonQ.assist\n",
       "2       I need some info  commonQ.assist\n",
       "3      Will you help me?  commonQ.assist\n",
       "4  What else can you do?  commonQ.assist"
      ]
     },
     "execution_count": 8,
     "metadata": {},
     "output_type": "execute_result"
    }
   ],
   "source": [
    "df.head()"
   ]
  },
  {
   "cell_type": "code",
   "execution_count": 9,
   "metadata": {},
   "outputs": [
    {
     "data": {
      "text/plain": [
       "(1113, 2)"
      ]
     },
     "execution_count": 9,
     "metadata": {},
     "output_type": "execute_result"
    }
   ],
   "source": [
    "df.shape"
   ]
  },
  {
   "cell_type": "code",
   "execution_count": 11,
   "metadata": {},
   "outputs": [
    {
     "name": "stdout",
     "output_type": "stream",
     "text": [
      "No of intents:  21\n",
      "['commonQ.wait', 'commonQ.just_details', 'commonQ.not_giving', 'commonQ.name', 'faq.borrow_use', 'commonQ.query', 'commonQ.bot', 'contact.contact', 'faq.borrow_limit', 'faq.address_proof', 'commonQ.assist', 'faq.approval_time', 'faq.biz_category_missing', 'faq.banking_option_missing', 'faq.apply_register', 'faq.aadhaar_missing', 'faq.bad_service', 'faq.application_process', 'faq.biz_new', 'faq.biz_simpler', 'commonQ.how']\n"
     ]
    }
   ],
   "source": [
    "print (\"No of intents: \", len(unique_intent))\n",
    "print (unique_intent)\n"
   ]
  },
  {
   "cell_type": "code",
   "execution_count": 12,
   "metadata": {
    "colab": {
     "base_uri": "https://localhost:8080/",
     "height": 34
    },
    "colab_type": "code",
    "id": "O8LLUZlokg0S",
    "outputId": "c15c21dc-2ef2-43b7-b4af-e7ee9e014091"
   },
   "outputs": [
    {
     "name": "stdout",
     "output_type": "stream",
     "text": [
      "['Need help pleese', 'Need help', 'I need some info', 'Will you help me?', 'What else can you do?']\n"
     ]
    }
   ],
   "source": [
    "print(sentences[:5])"
   ]
  },
  {
   "cell_type": "code",
   "execution_count": 13,
   "metadata": {
    "colab": {
     "base_uri": "https://localhost:8080/",
     "height": 102
    },
    "colab_type": "code",
    "id": "MhrziINPGHbW",
    "outputId": "0861af1b-4b82-4c92-b8f4-b6b57bb3e380"
   },
   "outputs": [
    {
     "name": "stderr",
     "output_type": "stream",
     "text": [
      "[nltk_data] Downloading package stopwords to\n",
      "[nltk_data]     /Users/cwindheu/nltk_data...\n",
      "[nltk_data]   Unzipping corpora/stopwords.zip.\n",
      "[nltk_data] Downloading package punkt to /Users/cwindheu/nltk_data...\n",
      "[nltk_data]   Package punkt is already up-to-date!\n"
     ]
    },
    {
     "data": {
      "text/plain": [
       "True"
      ]
     },
     "execution_count": 13,
     "metadata": {},
     "output_type": "execute_result"
    }
   ],
   "source": [
    "nltk.download(\"stopwords\")\n",
    "nltk.download(\"punkt\")"
   ]
  },
  {
   "cell_type": "code",
   "execution_count": 14,
   "metadata": {
    "colab": {},
    "colab_type": "code",
    "id": "OmNLu2YSXePb"
   },
   "outputs": [],
   "source": [
    "#define stemmer\n",
    "stemmer = LancasterStemmer()"
   ]
  },
  {
   "cell_type": "code",
   "execution_count": 15,
   "metadata": {
    "colab": {},
    "colab_type": "code",
    "id": "j-7q3iG5PKYI"
   },
   "outputs": [],
   "source": [
    "def cleaning(sentences):\n",
    "  words = []\n",
    "  for s in sentences:\n",
    "    clean = re.sub(r'[^ a-z A-Z 0-9]', \" \", s)\n",
    "    w = word_tokenize(clean)\n",
    "    #stemming\n",
    "    words.append([i.lower() for i in w])\n",
    "    \n",
    "  return words  "
   ]
  },
  {
   "cell_type": "code",
   "execution_count": 16,
   "metadata": {
    "colab": {
     "base_uri": "https://localhost:8080/",
     "height": 51
    },
    "colab_type": "code",
    "id": "p1j2GJgDG6qj",
    "outputId": "c7232a8e-6833-4a1d-e71a-4bc7014084a9"
   },
   "outputs": [
    {
     "name": "stdout",
     "output_type": "stream",
     "text": [
      "1113\n",
      "[['need', 'help', 'pleese'], ['need', 'help']]\n"
     ]
    }
   ],
   "source": [
    "cleaned_words = cleaning(sentences)\n",
    "print(len(cleaned_words))\n",
    "print(cleaned_words[:2])  \n",
    "  \n"
   ]
  },
  {
   "cell_type": "code",
   "execution_count": 17,
   "metadata": {
    "colab": {},
    "colab_type": "code",
    "id": "SJCQ_YhBJW7t"
   },
   "outputs": [],
   "source": [
    "def create_tokenizer(words, filters = '!\"#$%&()*+,-./:;<=>?@[\\]^_`{|}~'):\n",
    "  token = Tokenizer(filters = filters)\n",
    "  token.fit_on_texts(words)\n",
    "  return token"
   ]
  },
  {
   "cell_type": "code",
   "execution_count": 18,
   "metadata": {
    "colab": {},
    "colab_type": "code",
    "id": "QJhdIJC5Q3Q6"
   },
   "outputs": [],
   "source": [
    "def max_length(words):\n",
    "  return(len(max(words, key = len)))\n",
    "  "
   ]
  },
  {
   "cell_type": "code",
   "execution_count": 19,
   "metadata": {
    "colab": {
     "base_uri": "https://localhost:8080/",
     "height": 34
    },
    "colab_type": "code",
    "id": "JWjxPGsZZJNX",
    "outputId": "b02c8f6b-d0df-4e90-fa3a-2ff730c88300"
   },
   "outputs": [
    {
     "name": "stdout",
     "output_type": "stream",
     "text": [
      "Vocab Size = 492 and Maximum length = 28\n"
     ]
    }
   ],
   "source": [
    "word_tokenizer = create_tokenizer(cleaned_words)\n",
    "vocab_size = len(word_tokenizer.word_index) + 1\n",
    "max_length = max_length(cleaned_words)\n",
    "\n",
    "print(\"Vocab Size = %d and Maximum length = %d\" % (vocab_size, max_length))"
   ]
  },
  {
   "cell_type": "code",
   "execution_count": 20,
   "metadata": {
    "colab": {},
    "colab_type": "code",
    "id": "D0TXu2xsR8jq"
   },
   "outputs": [],
   "source": [
    "def encoding_doc(token, words):\n",
    "  return(token.texts_to_sequences(words))"
   ]
  },
  {
   "cell_type": "code",
   "execution_count": 21,
   "metadata": {
    "colab": {},
    "colab_type": "code",
    "id": "dE92Hk1Va--H"
   },
   "outputs": [],
   "source": [
    "encoded_doc = encoding_doc(word_tokenizer, cleaned_words)"
   ]
  },
  {
   "cell_type": "code",
   "execution_count": 22,
   "metadata": {
    "colab": {},
    "colab_type": "code",
    "id": "fyOzLEboc4LZ"
   },
   "outputs": [],
   "source": [
    "def padding_doc(encoded_doc, max_length):\n",
    "  return(pad_sequences(encoded_doc, maxlen = max_length, padding = \"post\"))"
   ]
  },
  {
   "cell_type": "code",
   "execution_count": 23,
   "metadata": {
    "colab": {},
    "colab_type": "code",
    "id": "WdejoJrlc-tc"
   },
   "outputs": [],
   "source": [
    "padded_doc = padding_doc(encoded_doc, max_length)"
   ]
  },
  {
   "cell_type": "code",
   "execution_count": 24,
   "metadata": {
    "colab": {
     "base_uri": "https://localhost:8080/",
     "height": 272
    },
    "colab_type": "code",
    "id": "gDgTCS2KdI2p",
    "outputId": "ac5332cd-0a0f-4311-8db4-22df92728d90"
   },
   "outputs": [
    {
     "data": {
      "text/plain": [
       "array([[ 25,  77, 332,   0,   0,   0,   0,   0,   0,   0,   0,   0,   0,\n",
       "          0,   0,   0,   0,   0,   0,   0,   0,   0,   0,   0,   0,   0,\n",
       "          0,   0],\n",
       "       [ 25,  77,   0,   0,   0,   0,   0,   0,   0,   0,   0,   0,   0,\n",
       "          0,   0,   0,   0,   0,   0,   0,   0,   0,   0,   0,   0,   0,\n",
       "          0,   0],\n",
       "       [  1,  25, 198, 181,   0,   0,   0,   0,   0,   0,   0,   0,   0,\n",
       "          0,   0,   0,   0,   0,   0,   0,   0,   0,   0,   0,   0,   0,\n",
       "          0,   0],\n",
       "       [ 51,  10,  77,  16,   0,   0,   0,   0,   0,   0,   0,   0,   0,\n",
       "          0,   0,   0,   0,   0,   0,   0,   0,   0,   0,   0,   0,   0,\n",
       "          0,   0],\n",
       "       [  8, 268,   4,  10,  30,   0,   0,   0,   0,   0,   0,   0,   0,\n",
       "          0,   0,   0,   0,   0,   0,   0,   0,   0,   0,   0,   0,   0,\n",
       "          0,   0]], dtype=int32)"
      ]
     },
     "execution_count": 24,
     "metadata": {},
     "output_type": "execute_result"
    }
   ],
   "source": [
    "padded_doc[:5]"
   ]
  },
  {
   "cell_type": "code",
   "execution_count": 25,
   "metadata": {
    "colab": {
     "base_uri": "https://localhost:8080/",
     "height": 34
    },
    "colab_type": "code",
    "id": "3eaSIDi0dNf1",
    "outputId": "4ab6b6dd-ffa4-4061-9e9d-7a01decfa837"
   },
   "outputs": [
    {
     "name": "stdout",
     "output_type": "stream",
     "text": [
      "Shape of padded docs =  (1113, 28)\n"
     ]
    }
   ],
   "source": [
    "print(\"Shape of padded docs = \",padded_doc.shape)"
   ]
  },
  {
   "cell_type": "code",
   "execution_count": 26,
   "metadata": {
    "colab": {},
    "colab_type": "code",
    "id": "X0rXzenSpgFR"
   },
   "outputs": [],
   "source": [
    "#tokenizer with filter changed\n",
    "output_tokenizer = create_tokenizer(unique_intent, filters = '!\"#$%&()*+,-/:;<=>?@[\\]^`{|}~')\n"
   ]
  },
  {
   "cell_type": "code",
   "execution_count": 27,
   "metadata": {
    "colab": {
     "base_uri": "https://localhost:8080/",
     "height": 374
    },
    "colab_type": "code",
    "id": "yNHQtkszskxr",
    "outputId": "f5babc01-89e3-4392-e8e6-c9f257de3d07"
   },
   "outputs": [
    {
     "data": {
      "text/plain": [
       "{'commonq.wait': 1,\n",
       " 'commonq.just_details': 2,\n",
       " 'commonq.not_giving': 3,\n",
       " 'commonq.name': 4,\n",
       " 'faq.borrow_use': 5,\n",
       " 'commonq.query': 6,\n",
       " 'commonq.bot': 7,\n",
       " 'contact.contact': 8,\n",
       " 'faq.borrow_limit': 9,\n",
       " 'faq.address_proof': 10,\n",
       " 'commonq.assist': 11,\n",
       " 'faq.approval_time': 12,\n",
       " 'faq.biz_category_missing': 13,\n",
       " 'faq.banking_option_missing': 14,\n",
       " 'faq.apply_register': 15,\n",
       " 'faq.aadhaar_missing': 16,\n",
       " 'faq.bad_service': 17,\n",
       " 'faq.application_process': 18,\n",
       " 'faq.biz_new': 19,\n",
       " 'faq.biz_simpler': 20,\n",
       " 'commonq.how': 21}"
      ]
     },
     "execution_count": 27,
     "metadata": {},
     "output_type": "execute_result"
    }
   ],
   "source": [
    "output_tokenizer.word_index"
   ]
  },
  {
   "cell_type": "code",
   "execution_count": 28,
   "metadata": {
    "colab": {},
    "colab_type": "code",
    "id": "7OOx9qdBto1-"
   },
   "outputs": [],
   "source": [
    "encoded_output = encoding_doc(output_tokenizer, intent)"
   ]
  },
  {
   "cell_type": "code",
   "execution_count": 29,
   "metadata": {
    "colab": {},
    "colab_type": "code",
    "id": "0_5Lv5PiyG-z"
   },
   "outputs": [],
   "source": [
    "encoded_output = np.array(encoded_output).reshape(len(encoded_output), 1)"
   ]
  },
  {
   "cell_type": "code",
   "execution_count": 30,
   "metadata": {
    "colab": {
     "base_uri": "https://localhost:8080/",
     "height": 34
    },
    "colab_type": "code",
    "id": "dpM86WrVQlx5",
    "outputId": "71ff52a6-b3d0-4b5c-850d-5dc0a56c8aa9"
   },
   "outputs": [
    {
     "data": {
      "text/plain": [
       "(1113, 1)"
      ]
     },
     "execution_count": 30,
     "metadata": {},
     "output_type": "execute_result"
    }
   ],
   "source": [
    "encoded_output.shape"
   ]
  },
  {
   "cell_type": "code",
   "execution_count": 31,
   "metadata": {
    "colab": {},
    "colab_type": "code",
    "id": "rD3QN-RPzfet"
   },
   "outputs": [],
   "source": [
    "def one_hot(encode):\n",
    "  o = OneHotEncoder(sparse = False)\n",
    "  return(o.fit_transform(encode))"
   ]
  },
  {
   "cell_type": "code",
   "execution_count": 32,
   "metadata": {
    "colab": {},
    "colab_type": "code",
    "id": "Z6wP_Xed7RNR"
   },
   "outputs": [],
   "source": [
    "output_one_hot = one_hot(encoded_output)"
   ]
  },
  {
   "cell_type": "code",
   "execution_count": 33,
   "metadata": {
    "colab": {
     "base_uri": "https://localhost:8080/",
     "height": 34
    },
    "colab_type": "code",
    "id": "A6HVslLTHgOM",
    "outputId": "752962df-02d8-409b-fb8f-adb06227161d"
   },
   "outputs": [
    {
     "data": {
      "text/plain": [
       "(1113, 21)"
      ]
     },
     "execution_count": 33,
     "metadata": {},
     "output_type": "execute_result"
    }
   ],
   "source": [
    "output_one_hot.shape"
   ]
  },
  {
   "cell_type": "code",
   "execution_count": 34,
   "metadata": {
    "colab": {},
    "colab_type": "code",
    "id": "EqABUESD7xi9"
   },
   "outputs": [],
   "source": [
    "from sklearn.model_selection import train_test_split"
   ]
  },
  {
   "cell_type": "code",
   "execution_count": 35,
   "metadata": {
    "colab": {},
    "colab_type": "code",
    "id": "h8P4HTz6A4E-"
   },
   "outputs": [],
   "source": [
    "train_X, val_X, train_Y, val_Y = train_test_split(padded_doc, output_one_hot, shuffle = True, test_size = 0.2)\n"
   ]
  },
  {
   "cell_type": "code",
   "execution_count": 36,
   "metadata": {
    "colab": {
     "base_uri": "https://localhost:8080/",
     "height": 51
    },
    "colab_type": "code",
    "id": "7E0uhC2OCtTx",
    "outputId": "6ce0e215-aa3f-43f1-ba5a-0b584b25a35c"
   },
   "outputs": [
    {
     "name": "stdout",
     "output_type": "stream",
     "text": [
      "Shape of train_X = (890, 28) and train_Y = (890, 21)\n",
      "Shape of val_X = (223, 28) and val_Y = (223, 21)\n"
     ]
    }
   ],
   "source": [
    "print(\"Shape of train_X = %s and train_Y = %s\" % (train_X.shape, train_Y.shape))\n",
    "print(\"Shape of val_X = %s and val_Y = %s\" % (val_X.shape, val_Y.shape))"
   ]
  },
  {
   "cell_type": "code",
   "execution_count": 37,
   "metadata": {
    "colab": {},
    "colab_type": "code",
    "id": "e5BU_x74DNEb"
   },
   "outputs": [],
   "source": [
    "def create_model(vocab_size, max_length):\n",
    "  model = Sequential()\n",
    "  model.add(Embedding(vocab_size, 128, input_length = max_length, trainable = False))\n",
    "  model.add(Bidirectional(LSTM(128)))\n",
    "#   model.add(LSTM(128))\n",
    "  model.add(Dense(32, activation = \"relu\"))\n",
    "  model.add(Dropout(0.5))\n",
    "  model.add(Dense(21, activation = \"softmax\"))\n",
    "  \n",
    "  return model"
   ]
  },
  {
   "cell_type": "code",
   "execution_count": 38,
   "metadata": {
    "colab": {
     "base_uri": "https://localhost:8080/",
     "height": 306
    },
    "colab_type": "code",
    "id": "f-NvE0P7MFCe",
    "outputId": "8f07056b-579e-4c15-e1af-bdfa8f681e79"
   },
   "outputs": [
    {
     "name": "stdout",
     "output_type": "stream",
     "text": [
      "WARNING:tensorflow:From /Users/cwindheu/anaconda3/lib/python3.7/site-packages/tensorflow/python/framework/op_def_library.py:263: colocate_with (from tensorflow.python.framework.ops) is deprecated and will be removed in a future version.\n",
      "Instructions for updating:\n",
      "Colocations handled automatically by placer.\n",
      "WARNING:tensorflow:From /Users/cwindheu/anaconda3/lib/python3.7/site-packages/keras/backend/tensorflow_backend.py:3733: calling dropout (from tensorflow.python.ops.nn_ops) with keep_prob is deprecated and will be removed in a future version.\n",
      "Instructions for updating:\n",
      "Please use `rate` instead of `keep_prob`. Rate should be set to `rate = 1 - keep_prob`.\n",
      "Model: \"sequential_1\"\n",
      "_________________________________________________________________\n",
      "Layer (type)                 Output Shape              Param #   \n",
      "=================================================================\n",
      "embedding_1 (Embedding)      (None, 28, 128)           62976     \n",
      "_________________________________________________________________\n",
      "bidirectional_1 (Bidirection (None, 256)               263168    \n",
      "_________________________________________________________________\n",
      "dense_1 (Dense)              (None, 32)                8224      \n",
      "_________________________________________________________________\n",
      "dropout_1 (Dropout)          (None, 32)                0         \n",
      "_________________________________________________________________\n",
      "dense_2 (Dense)              (None, 21)                693       \n",
      "=================================================================\n",
      "Total params: 335,061\n",
      "Trainable params: 272,085\n",
      "Non-trainable params: 62,976\n",
      "_________________________________________________________________\n"
     ]
    }
   ],
   "source": [
    "model = create_model(vocab_size, max_length)\n",
    "\n",
    "model.compile(loss = \"categorical_crossentropy\", optimizer = \"adam\", metrics = [\"accuracy\"])\n",
    "model.summary()"
   ]
  },
  {
   "cell_type": "code",
   "execution_count": 39,
   "metadata": {
    "colab": {
     "base_uri": "https://localhost:8080/",
     "height": 6834
    },
    "colab_type": "code",
    "id": "_r-dxm2sMQ-d",
    "outputId": "3c37b4f8-fc4e-4c82-ab46-2aa1d8b47ffd"
   },
   "outputs": [
    {
     "name": "stdout",
     "output_type": "stream",
     "text": [
      "WARNING:tensorflow:From /Users/cwindheu/anaconda3/lib/python3.7/site-packages/tensorflow/python/ops/math_ops.py:3066: to_int32 (from tensorflow.python.ops.math_ops) is deprecated and will be removed in a future version.\n",
      "Instructions for updating:\n",
      "Use tf.cast instead.\n",
      "Train on 890 samples, validate on 223 samples\n",
      "Epoch 1/100\n",
      "890/890 [==============================] - 2s 3ms/step - loss: 2.9474 - acc: 0.1708 - val_loss: 2.7870 - val_acc: 0.1794\n",
      "\n",
      "Epoch 00001: val_loss improved from inf to 2.78701, saving model to model.h5\n",
      "Epoch 2/100\n",
      "890/890 [==============================] - 1s 1ms/step - loss: 2.8336 - acc: 0.1674 - val_loss: 2.7424 - val_acc: 0.1794\n",
      "\n",
      "Epoch 00002: val_loss improved from 2.78701 to 2.74238, saving model to model.h5\n",
      "Epoch 3/100\n",
      "890/890 [==============================] - 1s 1ms/step - loss: 2.7862 - acc: 0.1607 - val_loss: 2.6757 - val_acc: 0.1794\n",
      "\n",
      "Epoch 00003: val_loss improved from 2.74238 to 2.67568, saving model to model.h5\n",
      "Epoch 4/100\n",
      "890/890 [==============================] - 1s 1ms/step - loss: 2.7413 - acc: 0.1730 - val_loss: 2.6069 - val_acc: 0.1794\n",
      "\n",
      "Epoch 00004: val_loss improved from 2.67568 to 2.60689, saving model to model.h5\n",
      "Epoch 5/100\n",
      "890/890 [==============================] - 1s 1ms/step - loss: 2.6506 - acc: 0.1742 - val_loss: 2.5058 - val_acc: 0.1794\n",
      "\n",
      "Epoch 00005: val_loss improved from 2.60689 to 2.50581, saving model to model.h5\n",
      "Epoch 6/100\n",
      "890/890 [==============================] - 1s 1ms/step - loss: 2.5679 - acc: 0.1989 - val_loss: 2.4346 - val_acc: 0.1794\n",
      "\n",
      "Epoch 00006: val_loss improved from 2.50581 to 2.43463, saving model to model.h5\n",
      "Epoch 7/100\n",
      "890/890 [==============================] - 1s 1ms/step - loss: 2.5080 - acc: 0.2034 - val_loss: 2.3993 - val_acc: 0.1839\n",
      "\n",
      "Epoch 00007: val_loss improved from 2.43463 to 2.39932, saving model to model.h5\n",
      "Epoch 8/100\n",
      "890/890 [==============================] - 2s 2ms/step - loss: 2.4297 - acc: 0.2247 - val_loss: 2.3821 - val_acc: 0.2691\n",
      "\n",
      "Epoch 00008: val_loss improved from 2.39932 to 2.38209, saving model to model.h5\n",
      "Epoch 9/100\n",
      "890/890 [==============================] - 2s 2ms/step - loss: 2.3677 - acc: 0.2236 - val_loss: 2.3188 - val_acc: 0.2735\n",
      "\n",
      "Epoch 00009: val_loss improved from 2.38209 to 2.31879, saving model to model.h5\n",
      "Epoch 10/100\n",
      "890/890 [==============================] - 1s 1ms/step - loss: 2.2783 - acc: 0.2730 - val_loss: 2.1803 - val_acc: 0.3229\n",
      "\n",
      "Epoch 00010: val_loss improved from 2.31879 to 2.18026, saving model to model.h5\n",
      "Epoch 11/100\n",
      "890/890 [==============================] - 1s 2ms/step - loss: 2.2005 - acc: 0.3067 - val_loss: 2.1003 - val_acc: 0.3767\n",
      "\n",
      "Epoch 00011: val_loss improved from 2.18026 to 2.10026, saving model to model.h5\n",
      "Epoch 12/100\n",
      "890/890 [==============================] - 2s 2ms/step - loss: 2.1873 - acc: 0.3146 - val_loss: 2.0710 - val_acc: 0.3991\n",
      "\n",
      "Epoch 00012: val_loss improved from 2.10026 to 2.07097, saving model to model.h5\n",
      "Epoch 13/100\n",
      "890/890 [==============================] - 1s 1ms/step - loss: 2.0329 - acc: 0.3607 - val_loss: 1.9307 - val_acc: 0.4350\n",
      "\n",
      "Epoch 00013: val_loss improved from 2.07097 to 1.93068, saving model to model.h5\n",
      "Epoch 14/100\n",
      "890/890 [==============================] - 1s 1ms/step - loss: 1.9347 - acc: 0.4000 - val_loss: 1.7849 - val_acc: 0.4933\n",
      "\n",
      "Epoch 00014: val_loss improved from 1.93068 to 1.78495, saving model to model.h5\n",
      "Epoch 15/100\n",
      "890/890 [==============================] - 1s 1ms/step - loss: 1.8320 - acc: 0.4360 - val_loss: 1.7528 - val_acc: 0.5605\n",
      "\n",
      "Epoch 00015: val_loss improved from 1.78495 to 1.75280, saving model to model.h5\n",
      "Epoch 16/100\n",
      "890/890 [==============================] - 1s 2ms/step - loss: 1.7442 - acc: 0.4584 - val_loss: 1.6988 - val_acc: 0.5516\n",
      "\n",
      "Epoch 00016: val_loss improved from 1.75280 to 1.69879, saving model to model.h5\n",
      "Epoch 17/100\n",
      "890/890 [==============================] - 1s 2ms/step - loss: 1.6407 - acc: 0.5000 - val_loss: 1.6405 - val_acc: 0.5605\n",
      "\n",
      "Epoch 00017: val_loss improved from 1.69879 to 1.64045, saving model to model.h5\n",
      "Epoch 18/100\n",
      "890/890 [==============================] - 1s 1ms/step - loss: 1.6381 - acc: 0.4921 - val_loss: 1.5591 - val_acc: 0.5471\n",
      "\n",
      "Epoch 00018: val_loss improved from 1.64045 to 1.55908, saving model to model.h5\n",
      "Epoch 19/100\n",
      "890/890 [==============================] - 1s 1ms/step - loss: 1.5489 - acc: 0.5416 - val_loss: 1.5017 - val_acc: 0.5695\n",
      "\n",
      "Epoch 00019: val_loss improved from 1.55908 to 1.50169, saving model to model.h5\n",
      "Epoch 20/100\n",
      "890/890 [==============================] - 1s 1ms/step - loss: 1.4777 - acc: 0.5483 - val_loss: 1.4623 - val_acc: 0.6188\n",
      "\n",
      "Epoch 00020: val_loss improved from 1.50169 to 1.46231, saving model to model.h5\n",
      "Epoch 21/100\n",
      "890/890 [==============================] - 2s 2ms/step - loss: 1.3750 - acc: 0.5876 - val_loss: 1.4411 - val_acc: 0.6054\n",
      "\n",
      "Epoch 00021: val_loss improved from 1.46231 to 1.44114, saving model to model.h5\n",
      "Epoch 22/100\n",
      "890/890 [==============================] - 1s 2ms/step - loss: 1.3776 - acc: 0.5787 - val_loss: 1.4329 - val_acc: 0.6009\n",
      "\n",
      "Epoch 00022: val_loss improved from 1.44114 to 1.43292, saving model to model.h5\n",
      "Epoch 23/100\n",
      "890/890 [==============================] - 2s 2ms/step - loss: 1.3158 - acc: 0.5933 - val_loss: 1.3597 - val_acc: 0.6099\n",
      "\n",
      "Epoch 00023: val_loss improved from 1.43292 to 1.35971, saving model to model.h5\n",
      "Epoch 24/100\n",
      "890/890 [==============================] - 1s 2ms/step - loss: 1.2968 - acc: 0.6090 - val_loss: 1.7796 - val_acc: 0.5426\n",
      "\n",
      "Epoch 00024: val_loss did not improve from 1.35971\n",
      "Epoch 25/100\n",
      "890/890 [==============================] - 2s 2ms/step - loss: 1.4414 - acc: 0.5685 - val_loss: 1.4189 - val_acc: 0.6009\n",
      "\n",
      "Epoch 00025: val_loss did not improve from 1.35971\n",
      "Epoch 26/100\n",
      "890/890 [==============================] - 1s 1ms/step - loss: 1.2767 - acc: 0.6034 - val_loss: 1.3652 - val_acc: 0.6413\n",
      "\n",
      "Epoch 00026: val_loss did not improve from 1.35971\n",
      "Epoch 27/100\n",
      "890/890 [==============================] - 1s 2ms/step - loss: 1.2141 - acc: 0.6236 - val_loss: 1.3575 - val_acc: 0.6502\n",
      "\n",
      "Epoch 00027: val_loss improved from 1.35971 to 1.35753, saving model to model.h5\n",
      "Epoch 28/100\n",
      "890/890 [==============================] - 2s 2ms/step - loss: 1.1611 - acc: 0.6348 - val_loss: 1.3018 - val_acc: 0.6592\n",
      "\n",
      "Epoch 00028: val_loss improved from 1.35753 to 1.30180, saving model to model.h5\n",
      "Epoch 29/100\n",
      "890/890 [==============================] - 2s 2ms/step - loss: 1.1808 - acc: 0.6337 - val_loss: 1.3603 - val_acc: 0.6413\n",
      "\n",
      "Epoch 00029: val_loss did not improve from 1.30180\n",
      "Epoch 30/100\n",
      "890/890 [==============================] - 1s 1ms/step - loss: 1.1560 - acc: 0.6584 - val_loss: 1.4348 - val_acc: 0.6323\n",
      "\n",
      "Epoch 00030: val_loss did not improve from 1.30180\n",
      "Epoch 31/100\n",
      "890/890 [==============================] - 1s 2ms/step - loss: 1.1176 - acc: 0.6618 - val_loss: 1.3229 - val_acc: 0.6726\n",
      "\n",
      "Epoch 00031: val_loss did not improve from 1.30180\n",
      "Epoch 32/100\n",
      "890/890 [==============================] - 2s 2ms/step - loss: 1.0873 - acc: 0.6652 - val_loss: 1.2837 - val_acc: 0.6592\n",
      "\n",
      "Epoch 00032: val_loss improved from 1.30180 to 1.28367, saving model to model.h5\n",
      "Epoch 33/100\n",
      "890/890 [==============================] - 1s 2ms/step - loss: 1.0264 - acc: 0.6753 - val_loss: 1.2037 - val_acc: 0.6682\n",
      "\n",
      "Epoch 00033: val_loss improved from 1.28367 to 1.20370, saving model to model.h5\n",
      "Epoch 34/100\n",
      "890/890 [==============================] - 1s 2ms/step - loss: 1.0290 - acc: 0.6562 - val_loss: 1.2443 - val_acc: 0.6771\n",
      "\n",
      "Epoch 00034: val_loss did not improve from 1.20370\n",
      "Epoch 35/100\n",
      "890/890 [==============================] - 1s 2ms/step - loss: 1.0198 - acc: 0.6798 - val_loss: 1.2523 - val_acc: 0.6861\n",
      "\n",
      "Epoch 00035: val_loss did not improve from 1.20370\n",
      "Epoch 36/100\n",
      "890/890 [==============================] - 2s 2ms/step - loss: 0.9434 - acc: 0.7034 - val_loss: 1.1752 - val_acc: 0.6906\n",
      "\n",
      "Epoch 00036: val_loss improved from 1.20370 to 1.17524, saving model to model.h5\n",
      "Epoch 37/100\n",
      "890/890 [==============================] - 2s 2ms/step - loss: 0.9934 - acc: 0.6978 - val_loss: 1.2707 - val_acc: 0.6099\n",
      "\n",
      "Epoch 00037: val_loss did not improve from 1.17524\n",
      "Epoch 38/100\n",
      "890/890 [==============================] - 2s 2ms/step - loss: 0.9683 - acc: 0.6944 - val_loss: 1.1941 - val_acc: 0.6861\n",
      "\n",
      "Epoch 00038: val_loss did not improve from 1.17524\n",
      "Epoch 39/100\n"
     ]
    },
    {
     "name": "stdout",
     "output_type": "stream",
     "text": [
      "890/890 [==============================] - 1s 1ms/step - loss: 0.9320 - acc: 0.7124 - val_loss: 1.1737 - val_acc: 0.6996\n",
      "\n",
      "Epoch 00039: val_loss improved from 1.17524 to 1.17370, saving model to model.h5\n",
      "Epoch 40/100\n",
      "890/890 [==============================] - 1s 1ms/step - loss: 0.9072 - acc: 0.7101 - val_loss: 1.1283 - val_acc: 0.7175\n",
      "\n",
      "Epoch 00040: val_loss improved from 1.17370 to 1.12828, saving model to model.h5\n",
      "Epoch 41/100\n",
      "890/890 [==============================] - 1s 1ms/step - loss: 0.8516 - acc: 0.7281 - val_loss: 1.0959 - val_acc: 0.7130\n",
      "\n",
      "Epoch 00041: val_loss improved from 1.12828 to 1.09588, saving model to model.h5\n",
      "Epoch 42/100\n",
      "890/890 [==============================] - 1s 1ms/step - loss: 0.8470 - acc: 0.7236 - val_loss: 1.0947 - val_acc: 0.6816\n",
      "\n",
      "Epoch 00042: val_loss improved from 1.09588 to 1.09468, saving model to model.h5\n",
      "Epoch 43/100\n",
      "890/890 [==============================] - 1s 1ms/step - loss: 0.8334 - acc: 0.7416 - val_loss: 1.3204 - val_acc: 0.6816\n",
      "\n",
      "Epoch 00043: val_loss did not improve from 1.09468\n",
      "Epoch 44/100\n",
      "890/890 [==============================] - 1s 1ms/step - loss: 0.8002 - acc: 0.7551 - val_loss: 1.1472 - val_acc: 0.6996\n",
      "\n",
      "Epoch 00044: val_loss did not improve from 1.09468\n",
      "Epoch 45/100\n",
      "890/890 [==============================] - 1s 1ms/step - loss: 0.7841 - acc: 0.7461 - val_loss: 1.3222 - val_acc: 0.6816\n",
      "\n",
      "Epoch 00045: val_loss did not improve from 1.09468\n",
      "Epoch 46/100\n",
      "890/890 [==============================] - 1s 1ms/step - loss: 0.9012 - acc: 0.7124 - val_loss: 1.2004 - val_acc: 0.6861\n",
      "\n",
      "Epoch 00046: val_loss did not improve from 1.09468\n",
      "Epoch 47/100\n",
      "890/890 [==============================] - 1s 1ms/step - loss: 0.7972 - acc: 0.7449 - val_loss: 1.2024 - val_acc: 0.7085\n",
      "\n",
      "Epoch 00047: val_loss did not improve from 1.09468\n",
      "Epoch 48/100\n",
      "890/890 [==============================] - 1s 1ms/step - loss: 0.7760 - acc: 0.7607 - val_loss: 1.1095 - val_acc: 0.6996\n",
      "\n",
      "Epoch 00048: val_loss did not improve from 1.09468\n",
      "Epoch 49/100\n",
      "890/890 [==============================] - 1s 1ms/step - loss: 0.7641 - acc: 0.7506 - val_loss: 1.1417 - val_acc: 0.7040\n",
      "\n",
      "Epoch 00049: val_loss did not improve from 1.09468\n",
      "Epoch 50/100\n",
      "890/890 [==============================] - 1s 1ms/step - loss: 0.7352 - acc: 0.7629 - val_loss: 1.1606 - val_acc: 0.7040\n",
      "\n",
      "Epoch 00050: val_loss did not improve from 1.09468\n",
      "Epoch 51/100\n",
      "890/890 [==============================] - 1s 1ms/step - loss: 0.6773 - acc: 0.7742 - val_loss: 1.0835 - val_acc: 0.7130\n",
      "\n",
      "Epoch 00051: val_loss improved from 1.09468 to 1.08354, saving model to model.h5\n",
      "Epoch 52/100\n",
      "890/890 [==============================] - 1s 1ms/step - loss: 0.7064 - acc: 0.7640 - val_loss: 1.0812 - val_acc: 0.7309\n",
      "\n",
      "Epoch 00052: val_loss improved from 1.08354 to 1.08115, saving model to model.h5\n",
      "Epoch 53/100\n",
      "890/890 [==============================] - 1s 1ms/step - loss: 0.6643 - acc: 0.7888 - val_loss: 1.1866 - val_acc: 0.7085\n",
      "\n",
      "Epoch 00053: val_loss did not improve from 1.08115\n",
      "Epoch 54/100\n",
      "890/890 [==============================] - 1s 1ms/step - loss: 0.6926 - acc: 0.7730 - val_loss: 1.1776 - val_acc: 0.6861\n",
      "\n",
      "Epoch 00054: val_loss did not improve from 1.08115\n",
      "Epoch 55/100\n",
      "890/890 [==============================] - 1s 1ms/step - loss: 0.7661 - acc: 0.7528 - val_loss: 1.1551 - val_acc: 0.6906\n",
      "\n",
      "Epoch 00055: val_loss did not improve from 1.08115\n",
      "Epoch 56/100\n",
      "890/890 [==============================] - 1s 1ms/step - loss: 0.7130 - acc: 0.7584 - val_loss: 1.2087 - val_acc: 0.7220\n",
      "\n",
      "Epoch 00056: val_loss did not improve from 1.08115\n",
      "Epoch 57/100\n",
      "890/890 [==============================] - 1s 1ms/step - loss: 0.6673 - acc: 0.7854 - val_loss: 1.0594 - val_acc: 0.7130\n",
      "\n",
      "Epoch 00057: val_loss improved from 1.08115 to 1.05936, saving model to model.h5\n",
      "Epoch 58/100\n",
      "890/890 [==============================] - 1s 1ms/step - loss: 0.6609 - acc: 0.7888 - val_loss: 1.0058 - val_acc: 0.7444\n",
      "\n",
      "Epoch 00058: val_loss improved from 1.05936 to 1.00580, saving model to model.h5\n",
      "Epoch 59/100\n",
      "890/890 [==============================] - 1s 1ms/step - loss: 0.6253 - acc: 0.7899 - val_loss: 0.9925 - val_acc: 0.7534\n",
      "\n",
      "Epoch 00059: val_loss improved from 1.00580 to 0.99249, saving model to model.h5\n",
      "Epoch 60/100\n",
      "890/890 [==============================] - 1s 1ms/step - loss: 0.6012 - acc: 0.8056 - val_loss: 1.0749 - val_acc: 0.7354\n",
      "\n",
      "Epoch 00060: val_loss did not improve from 0.99249\n",
      "Epoch 61/100\n",
      "890/890 [==============================] - 1s 1ms/step - loss: 0.5781 - acc: 0.8067 - val_loss: 1.0265 - val_acc: 0.7399\n",
      "\n",
      "Epoch 00061: val_loss did not improve from 0.99249\n",
      "Epoch 62/100\n",
      "890/890 [==============================] - 1s 1ms/step - loss: 0.6688 - acc: 0.7742 - val_loss: 1.0718 - val_acc: 0.7265\n",
      "\n",
      "Epoch 00062: val_loss did not improve from 0.99249\n",
      "Epoch 63/100\n",
      "890/890 [==============================] - 1s 1ms/step - loss: 0.6849 - acc: 0.7820 - val_loss: 1.1457 - val_acc: 0.7130\n",
      "\n",
      "Epoch 00063: val_loss did not improve from 0.99249\n",
      "Epoch 64/100\n",
      "890/890 [==============================] - 1s 1ms/step - loss: 0.7092 - acc: 0.7921 - val_loss: 0.9447 - val_acc: 0.7175\n",
      "\n",
      "Epoch 00064: val_loss improved from 0.99249 to 0.94471, saving model to model.h5\n",
      "Epoch 65/100\n",
      "890/890 [==============================] - 1s 1ms/step - loss: 0.6197 - acc: 0.7989 - val_loss: 1.0154 - val_acc: 0.7578\n",
      "\n",
      "Epoch 00065: val_loss did not improve from 0.94471\n",
      "Epoch 66/100\n",
      "890/890 [==============================] - 1s 1ms/step - loss: 0.5821 - acc: 0.7989 - val_loss: 0.9989 - val_acc: 0.7578\n",
      "\n",
      "Epoch 00066: val_loss did not improve from 0.94471\n",
      "Epoch 67/100\n",
      "890/890 [==============================] - 1s 1ms/step - loss: 0.5327 - acc: 0.8281 - val_loss: 0.9962 - val_acc: 0.7399\n",
      "\n",
      "Epoch 00067: val_loss did not improve from 0.94471\n",
      "Epoch 68/100\n",
      "890/890 [==============================] - 1s 1ms/step - loss: 0.5211 - acc: 0.8281 - val_loss: 1.0214 - val_acc: 0.7399\n",
      "\n",
      "Epoch 00068: val_loss did not improve from 0.94471\n",
      "Epoch 69/100\n",
      "890/890 [==============================] - 1s 1ms/step - loss: 0.5378 - acc: 0.8337 - val_loss: 1.2565 - val_acc: 0.7399\n",
      "\n",
      "Epoch 00069: val_loss did not improve from 0.94471\n",
      "Epoch 70/100\n",
      "890/890 [==============================] - 1s 1ms/step - loss: 0.5663 - acc: 0.8247 - val_loss: 1.1982 - val_acc: 0.7309\n",
      "\n",
      "Epoch 00070: val_loss did not improve from 0.94471\n",
      "Epoch 71/100\n",
      "890/890 [==============================] - 1s 1ms/step - loss: 0.5469 - acc: 0.8146 - val_loss: 1.2668 - val_acc: 0.7265\n",
      "\n",
      "Epoch 00071: val_loss did not improve from 0.94471\n",
      "Epoch 72/100\n",
      "890/890 [==============================] - 1s 1ms/step - loss: 0.5445 - acc: 0.8101 - val_loss: 1.0619 - val_acc: 0.7444\n",
      "\n",
      "Epoch 00072: val_loss did not improve from 0.94471\n",
      "Epoch 73/100\n",
      "890/890 [==============================] - 1s 1ms/step - loss: 0.5254 - acc: 0.8303 - val_loss: 1.1087 - val_acc: 0.7534\n",
      "\n",
      "Epoch 00073: val_loss did not improve from 0.94471\n",
      "Epoch 74/100\n",
      "890/890 [==============================] - 1s 1ms/step - loss: 0.5093 - acc: 0.8303 - val_loss: 1.0831 - val_acc: 0.7489\n",
      "\n",
      "Epoch 00074: val_loss did not improve from 0.94471\n",
      "Epoch 75/100\n",
      "890/890 [==============================] - 1s 1ms/step - loss: 0.5490 - acc: 0.8247 - val_loss: 1.0229 - val_acc: 0.7489\n",
      "\n",
      "Epoch 00075: val_loss did not improve from 0.94471\n",
      "Epoch 76/100\n",
      "890/890 [==============================] - 1s 1ms/step - loss: 0.5047 - acc: 0.8517 - val_loss: 1.0268 - val_acc: 0.7444\n",
      "\n",
      "Epoch 00076: val_loss did not improve from 0.94471\n",
      "Epoch 77/100\n",
      "890/890 [==============================] - 1s 1ms/step - loss: 0.4674 - acc: 0.8337 - val_loss: 1.0513 - val_acc: 0.7399\n",
      "\n",
      "Epoch 00077: val_loss did not improve from 0.94471\n",
      "Epoch 78/100\n",
      "890/890 [==============================] - 1s 1ms/step - loss: 0.4819 - acc: 0.8303 - val_loss: 1.0670 - val_acc: 0.7489\n",
      "\n",
      "Epoch 00078: val_loss did not improve from 0.94471\n",
      "Epoch 79/100\n",
      "890/890 [==============================] - 1s 1ms/step - loss: 0.4868 - acc: 0.8506 - val_loss: 1.0775 - val_acc: 0.7534\n",
      "\n",
      "Epoch 00079: val_loss did not improve from 0.94471\n",
      "Epoch 80/100\n",
      "890/890 [==============================] - 1s 1ms/step - loss: 0.4678 - acc: 0.8494 - val_loss: 1.1237 - val_acc: 0.7444\n",
      "\n",
      "Epoch 00080: val_loss did not improve from 0.94471\n",
      "Epoch 81/100\n",
      "890/890 [==============================] - 1s 1ms/step - loss: 0.4456 - acc: 0.8483 - val_loss: 0.9568 - val_acc: 0.7713\n"
     ]
    },
    {
     "name": "stdout",
     "output_type": "stream",
     "text": [
      "\n",
      "Epoch 00081: val_loss did not improve from 0.94471\n",
      "Epoch 82/100\n",
      "890/890 [==============================] - 1s 1ms/step - loss: 0.4604 - acc: 0.8461 - val_loss: 0.9999 - val_acc: 0.7668\n",
      "\n",
      "Epoch 00082: val_loss did not improve from 0.94471\n",
      "Epoch 83/100\n",
      "890/890 [==============================] - 1s 1ms/step - loss: 0.4500 - acc: 0.8584 - val_loss: 1.1473 - val_acc: 0.7399\n",
      "\n",
      "Epoch 00083: val_loss did not improve from 0.94471\n",
      "Epoch 84/100\n",
      "890/890 [==============================] - 1s 1ms/step - loss: 0.4470 - acc: 0.8551 - val_loss: 1.2442 - val_acc: 0.7309\n",
      "\n",
      "Epoch 00084: val_loss did not improve from 0.94471\n",
      "Epoch 85/100\n",
      "890/890 [==============================] - 1s 1ms/step - loss: 0.7944 - acc: 0.7674 - val_loss: 1.0499 - val_acc: 0.7265\n",
      "\n",
      "Epoch 00085: val_loss did not improve from 0.94471\n",
      "Epoch 86/100\n",
      "890/890 [==============================] - 1s 1ms/step - loss: 0.7429 - acc: 0.7865 - val_loss: 0.9816 - val_acc: 0.7578\n",
      "\n",
      "Epoch 00086: val_loss did not improve from 0.94471\n",
      "Epoch 87/100\n",
      "890/890 [==============================] - 1s 1ms/step - loss: 0.5138 - acc: 0.8449 - val_loss: 0.9795 - val_acc: 0.7489\n",
      "\n",
      "Epoch 00087: val_loss did not improve from 0.94471\n",
      "Epoch 88/100\n",
      "890/890 [==============================] - 1s 1ms/step - loss: 0.4689 - acc: 0.8404 - val_loss: 1.1478 - val_acc: 0.7309\n",
      "\n",
      "Epoch 00088: val_loss did not improve from 0.94471\n",
      "Epoch 89/100\n",
      "890/890 [==============================] - 1s 1ms/step - loss: 0.4395 - acc: 0.8584 - val_loss: 1.1476 - val_acc: 0.7399\n",
      "\n",
      "Epoch 00089: val_loss did not improve from 0.94471\n",
      "Epoch 90/100\n",
      "890/890 [==============================] - 1s 1ms/step - loss: 0.4355 - acc: 0.8506 - val_loss: 1.2081 - val_acc: 0.7175\n",
      "\n",
      "Epoch 00090: val_loss did not improve from 0.94471\n",
      "Epoch 91/100\n",
      "890/890 [==============================] - 1s 1ms/step - loss: 0.4518 - acc: 0.8517 - val_loss: 1.2433 - val_acc: 0.7534\n",
      "\n",
      "Epoch 00091: val_loss did not improve from 0.94471\n",
      "Epoch 92/100\n",
      "890/890 [==============================] - 1s 1ms/step - loss: 0.4496 - acc: 0.8438 - val_loss: 1.1515 - val_acc: 0.7354\n",
      "\n",
      "Epoch 00092: val_loss did not improve from 0.94471\n",
      "Epoch 93/100\n",
      "890/890 [==============================] - 1s 1ms/step - loss: 0.4593 - acc: 0.8663 - val_loss: 1.0237 - val_acc: 0.7534\n",
      "\n",
      "Epoch 00093: val_loss did not improve from 0.94471\n",
      "Epoch 94/100\n",
      "890/890 [==============================] - 1s 1ms/step - loss: 0.4769 - acc: 0.8427 - val_loss: 1.2098 - val_acc: 0.7354\n",
      "\n",
      "Epoch 00094: val_loss did not improve from 0.94471\n",
      "Epoch 95/100\n",
      "890/890 [==============================] - 1s 1ms/step - loss: 0.4862 - acc: 0.8315 - val_loss: 0.9341 - val_acc: 0.7534\n",
      "\n",
      "Epoch 00095: val_loss improved from 0.94471 to 0.93405, saving model to model.h5\n",
      "Epoch 96/100\n",
      "890/890 [==============================] - 1s 1ms/step - loss: 0.4338 - acc: 0.8528 - val_loss: 0.9650 - val_acc: 0.7354\n",
      "\n",
      "Epoch 00096: val_loss did not improve from 0.93405\n",
      "Epoch 97/100\n",
      "890/890 [==============================] - 1s 1ms/step - loss: 0.3941 - acc: 0.8573 - val_loss: 1.0134 - val_acc: 0.7623\n",
      "\n",
      "Epoch 00097: val_loss did not improve from 0.93405\n",
      "Epoch 98/100\n",
      "890/890 [==============================] - 1s 1ms/step - loss: 0.3969 - acc: 0.8742 - val_loss: 1.1457 - val_acc: 0.7534\n",
      "\n",
      "Epoch 00098: val_loss did not improve from 0.93405\n",
      "Epoch 99/100\n",
      "890/890 [==============================] - 1s 1ms/step - loss: 0.4186 - acc: 0.8697 - val_loss: 1.1704 - val_acc: 0.7399\n",
      "\n",
      "Epoch 00099: val_loss did not improve from 0.93405\n",
      "Epoch 100/100\n",
      "890/890 [==============================] - 1s 1ms/step - loss: 0.3773 - acc: 0.8719 - val_loss: 1.2327 - val_acc: 0.7399\n",
      "\n",
      "Epoch 00100: val_loss did not improve from 0.93405\n"
     ]
    }
   ],
   "source": [
    "filename = 'model.h5'\n",
    "checkpoint = ModelCheckpoint(filename, monitor='val_loss', verbose=1, save_best_only=True, mode='min')\n",
    "\n",
    "hist = model.fit(train_X, train_Y, epochs = 100, batch_size = 32, validation_data = (val_X, val_Y), callbacks = [checkpoint])\n"
   ]
  },
  {
   "cell_type": "code",
   "execution_count": 40,
   "metadata": {
    "colab": {},
    "colab_type": "code",
    "id": "YjXKos8ocXvw"
   },
   "outputs": [],
   "source": [
    " model = load_model(\"model.h5\")"
   ]
  },
  {
   "cell_type": "code",
   "execution_count": 41,
   "metadata": {
    "colab": {},
    "colab_type": "code",
    "id": "qSTEzrlzcuya"
   },
   "outputs": [],
   "source": [
    "def predictions(text):\n",
    "  clean = re.sub(r'[^ a-z A-Z 0-9]', \" \", text)\n",
    "  test_word = word_tokenize(clean)\n",
    "  test_word = [w.lower() for w in test_word]\n",
    "  test_ls = word_tokenizer.texts_to_sequences(test_word)\n",
    "  print(test_word)\n",
    "  #Check for unknown words\n",
    "  if [] in test_ls:\n",
    "    test_ls = list(filter(None, test_ls))\n",
    "    \n",
    "  test_ls = np.array(test_ls).reshape(1, len(test_ls))\n",
    " \n",
    "  x = padding_doc(test_ls, max_length)\n",
    "  \n",
    "  pred = model.predict_proba(x)\n",
    "  \n",
    "  \n",
    "  return pred\n",
    "\n",
    "\n",
    "  "
   ]
  },
  {
   "cell_type": "code",
   "execution_count": 42,
   "metadata": {
    "colab": {},
    "colab_type": "code",
    "id": "P1ddofshmdzK"
   },
   "outputs": [],
   "source": [
    "def get_final_output(pred, classes):\n",
    "  predictions = pred[0]\n",
    " \n",
    "  classes = np.array(classes)\n",
    "  ids = np.argsort(-predictions)\n",
    "  classes = classes[ids]\n",
    "  predictions = -np.sort(-predictions)\n",
    " \n",
    "  for i in range(pred.shape[1]):\n",
    "    print(\"%s has confidence = %s\" % (classes[i], (predictions[i])))\n",
    "\n"
   ]
  },
  {
   "cell_type": "code",
   "execution_count": 45,
   "metadata": {
    "colab": {
     "base_uri": "https://localhost:8080/",
     "height": 391
    },
    "colab_type": "code",
    "id": "23VpGuihMdEU",
    "outputId": "cd36c932-0fb0-4166-92ae-546a7676e645"
   },
   "outputs": [
    {
     "name": "stdout",
     "output_type": "stream",
     "text": [
      "['can', 'you', 'help', 'me', 'with', 'registration']\n",
      "commonQ.name has confidence = 0.22885664\n",
      "commonQ.assist has confidence = 0.1676464\n",
      "contact.contact has confidence = 0.16310427\n",
      "commonQ.bot has confidence = 0.16069105\n",
      "commonQ.how has confidence = 0.08810879\n",
      "faq.apply_register has confidence = 0.069628015\n",
      "commonQ.query has confidence = 0.049808335\n",
      "faq.bad_service has confidence = 0.024044132\n",
      "commonQ.not_giving has confidence = 0.023743084\n",
      "commonQ.wait has confidence = 0.016602974\n",
      "faq.biz_new has confidence = 0.0029173347\n",
      "commonQ.just_details has confidence = 0.0027844\n",
      "faq.borrow_use has confidence = 0.0010256921\n",
      "faq.application_process has confidence = 0.00058372103\n",
      "faq.aadhaar_missing has confidence = 0.00022147712\n",
      "faq.biz_simpler has confidence = 7.344989e-05\n",
      "faq.address_proof has confidence = 7.184449e-05\n",
      "faq.banking_option_missing has confidence = 4.4712117e-05\n",
      "faq.borrow_limit has confidence = 2.8277327e-05\n",
      "faq.biz_category_missing has confidence = 1.4730535e-05\n",
      "faq.approval_time has confidence = 5.9027985e-07\n"
     ]
    }
   ],
   "source": [
    "text = \"Can you help me with registration?\"\n",
    "pred = predictions(text)\n",
    "get_final_output(pred, unique_intent)"
   ]
  },
  {
   "cell_type": "code",
   "execution_count": 0,
   "metadata": {
    "colab": {},
    "colab_type": "code",
    "id": "bKUBDT36IHKO"
   },
   "outputs": [],
   "source": []
  }
 ],
 "metadata": {
  "accelerator": "TPU",
  "colab": {
   "collapsed_sections": [],
   "include_colab_link": true,
   "name": "Intent_classification_final.ipynb",
   "provenance": [],
   "version": "0.3.2"
  },
  "kernelspec": {
   "display_name": "Python 3",
   "language": "python",
   "name": "python3"
  },
  "language_info": {
   "codemirror_mode": {
    "name": "ipython",
    "version": 3
   },
   "file_extension": ".py",
   "mimetype": "text/x-python",
   "name": "python",
   "nbconvert_exporter": "python",
   "pygments_lexer": "ipython3",
   "version": "3.7.3"
  }
 },
 "nbformat": 4,
 "nbformat_minor": 1
}
