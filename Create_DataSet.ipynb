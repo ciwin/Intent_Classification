{
 "cells": [
  {
   "cell_type": "markdown",
   "metadata": {},
   "source": [
    "# Create_DataSet\n",
    "Simple Notebook to create a valid training and testing dataset for the Intent Classifier. \n",
    "The Program is able to read the Mowgli Datasets and creates datasets compatible with the Intent Classifier.    \n",
    "Christoph Windheuser, May 2020"
   ]
  },
  {
   "cell_type": "code",
   "execution_count": 7,
   "metadata": {},
   "outputs": [],
   "source": [
    "import csv\n",
    "\n",
    "with open('mowgli_labels.csv', newline='') as csvfile:\n",
    "    intent_dic = dict(csv.reader(csvfile))\n"
   ]
  },
  {
   "cell_type": "code",
   "execution_count": 8,
   "metadata": {},
   "outputs": [
    {
     "data": {
      "text/plain": [
       "{'0': 'confirm',\n",
       " '1': 'what_is_your_name',\n",
       " '2': 'greet',\n",
       " '3': 'thanks',\n",
       " '4': 'leave_budget',\n",
       " '5': 'deny',\n",
       " '6': 'are_you_a_robot',\n",
       " '7': 'sorry',\n",
       " '8': 'insult',\n",
       " '9': 'conversation_restart',\n",
       " '10': 'goodbye',\n",
       " '11': 'skills',\n",
       " '12': 'personal_question',\n",
       " '13': 'how_are_you'}"
      ]
     },
     "execution_count": 8,
     "metadata": {},
     "output_type": "execute_result"
    }
   ],
   "source": [
    "intent_dic"
   ]
  },
  {
   "cell_type": "code",
   "execution_count": 19,
   "metadata": {},
   "outputs": [],
   "source": [
    "with open('mowgli_test.csv', newline='') as csvfile:\n",
    "    infile = list(csv.reader(csvfile))\n"
   ]
  },
  {
   "cell_type": "code",
   "execution_count": 20,
   "metadata": {},
   "outputs": [
    {
     "data": {
      "text/plain": [
       "[['2', 'Whats up my bot'],\n",
       " ['4', 'how many days did i take this year?'],\n",
       " ['0', 'oki doki'],\n",
       " ['3', 'thanks'],\n",
       " ['3', 'thanks this is great news'],\n",
       " ['3', 'merci'],\n",
       " ['13', 'how is your evening'],\n",
       " ['13', \"How's it hanging?\"],\n",
       " ['0', 'how nice!'],\n",
       " ['0', 'definitely'],\n",
       " ['5', 'never'],\n",
       " ['13', 'Do you feel good?'],\n",
       " ['4', 'what amount of days i already took off?'],\n",
       " ['0', 'yep if i have to'],\n",
       " ['4', 'vacation days for this year?'],\n",
       " ['5', \"i don't want either of those\"],\n",
       " ['2', 'hi there'],\n",
       " ['5', 'no you did it wrong'],\n",
       " ['8', 'worthless'],\n",
       " ['10', 'thanks bye'],\n",
       " ['2', 'greetings'],\n",
       " ['0', 'sure!'],\n",
       " ['2', 'hello friend'],\n",
       " ['0', 'cool!'],\n",
       " ['3', 'thanks for the help'],\n",
       " ['11', 'where am i'],\n",
       " ['0', 'confirm'],\n",
       " ['10', 'have a nice day'],\n",
       " ['5', 'nope'],\n",
       " ['10', \"i'm off\"],\n",
       " ['4', 'planned leaves'],\n",
       " ['4', 'how much vacation do i have planned?'],\n",
       " ['3', 'thanks a bunch for everything'],\n",
       " ['2', \"hi there it's me\"],\n",
       " ['13', \"What's new?\"],\n",
       " ['0', 'correct'],\n",
       " ['4', 'how many vacation days do i have for this year?'],\n",
       " ['0', 'Oh', ' ok'],\n",
       " ['7', 'i apologize'],\n",
       " ['2', 'hey there'],\n",
       " ['0', 'hm', \" i'd like that\"],\n",
       " ['0', 'certainly'],\n",
       " ['0', 'I accept'],\n",
       " ['8', \"yes you're stupid\"],\n",
       " ['0', 'okie dokie'],\n",
       " ['3', 'amazing', ' thanks'],\n",
       " ['0', 'ok'],\n",
       " ['13', 'are you having a good day'],\n",
       " ['4', 'how many leave days do i have already taken?'],\n",
       " ['3', 'thanks buddy'],\n",
       " ['11', 'Do you have an answer for me?'],\n",
       " ['0', 'yas'],\n",
       " ['7', 'sorry for what i just said'],\n",
       " ['4', 'how many days of vacation i have left?'],\n",
       " ['1', 'what is your name?'],\n",
       " ['2', 'Hey'],\n",
       " ['0', 'jo'],\n",
       " ['2', 'Hey bot'],\n",
       " ['4', 'how many vacation days do i have in total?'],\n",
       " ['11', 'what can you do for me?'],\n",
       " ['2', 'hello everybody'],\n",
       " ['4', 'what are my total leave days?'],\n",
       " ['5', 'no sorry'],\n",
       " ['4', 'how many days i have already used up?'],\n",
       " ['7', 'very sorry'],\n",
       " ['4', 'days left for vacation'],\n",
       " ['2', 'hey'],\n",
       " ['9', 'restart please'],\n",
       " ['5', 'i decline'],\n",
       " ['8', \"you're utterly useless\"],\n",
       " ['4', 'I wonder how many leave days I have left. Can you help me with that?'],\n",
       " ['13', \"how's life\"],\n",
       " ['13', 'how are you doing?'],\n",
       " ['2', \"hey let's talk\"],\n",
       " ['5', 'no sir'],\n",
       " ['11', 'What are your features?'],\n",
       " ['11', 'what can you do?'],\n",
       " ['11', 'who am i'],\n",
       " ['5', 'not yet'],\n",
       " ['5', 'no!!!!'],\n",
       " ['5', 'not really'],\n",
       " ['4', 'how much is left?'],\n",
       " ['9', 'stop!'],\n",
       " ['3', 'perfect thank you'],\n",
       " ['0', 'yep', ' will do thank you'],\n",
       " ['4', 'how much vacation can i still take?'],\n",
       " ['10', 'see you']]"
      ]
     },
     "execution_count": 20,
     "metadata": {},
     "output_type": "execute_result"
    }
   ],
   "source": [
    "infile"
   ]
  },
  {
   "cell_type": "code",
   "execution_count": 21,
   "metadata": {},
   "outputs": [
    {
     "data": {
      "text/plain": [
       "[['Whats up my bot', 'greet'],\n",
       " ['how many days did i take this year?', 'leave_budget'],\n",
       " ['oki doki', 'confirm'],\n",
       " ['thanks', 'thanks'],\n",
       " ['thanks this is great news', 'thanks'],\n",
       " ['merci', 'thanks'],\n",
       " ['how is your evening', 'how_are_you'],\n",
       " [\"How's it hanging?\", 'how_are_you'],\n",
       " ['how nice!', 'confirm'],\n",
       " ['definitely', 'confirm'],\n",
       " ['never', 'deny'],\n",
       " ['Do you feel good?', 'how_are_you'],\n",
       " ['what amount of days i already took off?', 'leave_budget'],\n",
       " ['yep if i have to', 'confirm'],\n",
       " ['vacation days for this year?', 'leave_budget'],\n",
       " [\"i don't want either of those\", 'deny'],\n",
       " ['hi there', 'greet'],\n",
       " ['no you did it wrong', 'deny'],\n",
       " ['worthless', 'insult'],\n",
       " ['thanks bye', 'goodbye'],\n",
       " ['greetings', 'greet'],\n",
       " ['sure!', 'confirm'],\n",
       " ['hello friend', 'greet'],\n",
       " ['cool!', 'confirm'],\n",
       " ['thanks for the help', 'thanks'],\n",
       " ['where am i', 'skills'],\n",
       " ['confirm', 'confirm'],\n",
       " ['have a nice day', 'goodbye'],\n",
       " ['nope', 'deny'],\n",
       " [\"i'm off\", 'goodbye'],\n",
       " ['planned leaves', 'leave_budget'],\n",
       " ['how much vacation do i have planned?', 'leave_budget'],\n",
       " ['thanks a bunch for everything', 'thanks'],\n",
       " [\"hi there it's me\", 'greet'],\n",
       " [\"What's new?\", 'how_are_you'],\n",
       " ['correct', 'confirm'],\n",
       " ['how many vacation days do i have for this year?', 'leave_budget'],\n",
       " ['Oh', 'confirm'],\n",
       " ['i apologize', 'sorry'],\n",
       " ['hey there', 'greet'],\n",
       " ['hm', 'confirm'],\n",
       " ['certainly', 'confirm'],\n",
       " ['I accept', 'confirm'],\n",
       " [\"yes you're stupid\", 'insult'],\n",
       " ['okie dokie', 'confirm'],\n",
       " ['amazing', 'thanks'],\n",
       " ['ok', 'confirm'],\n",
       " ['are you having a good day', 'how_are_you'],\n",
       " ['how many leave days do i have already taken?', 'leave_budget'],\n",
       " ['thanks buddy', 'thanks'],\n",
       " ['Do you have an answer for me?', 'skills'],\n",
       " ['yas', 'confirm'],\n",
       " ['sorry for what i just said', 'sorry'],\n",
       " ['how many days of vacation i have left?', 'leave_budget'],\n",
       " ['what is your name?', 'what_is_your_name'],\n",
       " ['Hey', 'greet'],\n",
       " ['jo', 'confirm'],\n",
       " ['Hey bot', 'greet'],\n",
       " ['how many vacation days do i have in total?', 'leave_budget'],\n",
       " ['what can you do for me?', 'skills'],\n",
       " ['hello everybody', 'greet'],\n",
       " ['what are my total leave days?', 'leave_budget'],\n",
       " ['no sorry', 'deny'],\n",
       " ['how many days i have already used up?', 'leave_budget'],\n",
       " ['very sorry', 'sorry'],\n",
       " ['days left for vacation', 'leave_budget'],\n",
       " ['hey', 'greet'],\n",
       " ['restart please', 'conversation_restart'],\n",
       " ['i decline', 'deny'],\n",
       " [\"you're utterly useless\", 'insult'],\n",
       " ['I wonder how many leave days I have left. Can you help me with that?',\n",
       "  'leave_budget'],\n",
       " [\"how's life\", 'how_are_you'],\n",
       " ['how are you doing?', 'how_are_you'],\n",
       " [\"hey let's talk\", 'greet'],\n",
       " ['no sir', 'deny'],\n",
       " ['What are your features?', 'skills'],\n",
       " ['what can you do?', 'skills'],\n",
       " ['who am i', 'skills'],\n",
       " ['not yet', 'deny'],\n",
       " ['no!!!!', 'deny'],\n",
       " ['not really', 'deny'],\n",
       " ['how much is left?', 'leave_budget'],\n",
       " ['stop!', 'conversation_restart'],\n",
       " ['perfect thank you', 'thanks'],\n",
       " ['yep', 'confirm'],\n",
       " ['how much vacation can i still take?', 'leave_budget'],\n",
       " ['see you', 'goodbye']]"
      ]
     },
     "execution_count": 21,
     "metadata": {},
     "output_type": "execute_result"
    }
   ],
   "source": [
    "outfile = []\n",
    "l = []\n",
    "for s in infile:\n",
    "    l = [s[1], intent_dic[s[0]]]\n",
    "    outfile.append (l)\n",
    "outfile"
   ]
  },
  {
   "cell_type": "code",
   "execution_count": 22,
   "metadata": {},
   "outputs": [],
   "source": [
    "with open('mowgli_test_new.csv','w', newline='') as csvfile:\n",
    "    wr = csv.writer(csvfile)\n",
    "    wr.writerows(outfile)\n"
   ]
  },
  {
   "cell_type": "code",
   "execution_count": null,
   "metadata": {},
   "outputs": [],
   "source": []
  }
 ],
 "metadata": {
  "kernelspec": {
   "display_name": "Python 3",
   "language": "python",
   "name": "python3"
  },
  "language_info": {
   "codemirror_mode": {
    "name": "ipython",
    "version": 3
   },
   "file_extension": ".py",
   "mimetype": "text/x-python",
   "name": "python",
   "nbconvert_exporter": "python",
   "pygments_lexer": "ipython3",
   "version": "3.7.3"
  }
 },
 "nbformat": 4,
 "nbformat_minor": 2
}
