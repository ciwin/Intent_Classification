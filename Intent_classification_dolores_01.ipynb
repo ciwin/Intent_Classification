{
 "cells": [
  {
   "cell_type": "markdown",
   "metadata": {
    "colab_type": "text",
    "id": "view-in-github"
   },
   "source": [
    "<a href=\"https://colab.research.google.com/github/Dark-Sied/Intent_Classification/blob/master/Intent_classification_final.ipynb\" target=\"_parent\"><img src=\"https://colab.research.google.com/assets/colab-badge.svg\" alt=\"Open In Colab\"/></a>"
   ]
  },
  {
   "cell_type": "markdown",
   "metadata": {},
   "source": [
    "# Intent Recognition Dolores V01\n",
    "Using a new vocabulary and training set.  \n",
    "Intent Recognition is based on Intent_classification_final\n",
    "Created by Christoph Windheuser, April 2020"
   ]
  },
  {
   "cell_type": "code",
   "execution_count": 1,
   "metadata": {
    "colab": {
     "base_uri": "https://localhost:8080/",
     "height": 34
    },
    "colab_type": "code",
    "id": "a_WypuUXi92e",
    "outputId": "133d026e-4236-4ff6-f21d-739bfb9640db"
   },
   "outputs": [
    {
     "name": "stderr",
     "output_type": "stream",
     "text": [
      "Using TensorFlow backend.\n"
     ]
    }
   ],
   "source": [
    "import numpy as np\n",
    "import pandas as pd\n",
    "from nltk.corpus import stopwords\n",
    "from nltk.tokenize import word_tokenize\n",
    "from nltk.stem.lancaster import LancasterStemmer\n",
    "import nltk\n",
    "import re\n",
    "from sklearn.preprocessing import OneHotEncoder\n",
    "import matplotlib.pyplot as plt\n",
    "from keras.preprocessing.text import Tokenizer\n",
    "from keras.preprocessing.sequence import pad_sequences\n",
    "from keras.utils import to_categorical\n",
    "from keras.models import Sequential, load_model\n",
    "from keras.layers import Dense, LSTM, Bidirectional, Embedding, Dropout\n",
    "from keras.callbacks import ModelCheckpoint\n"
   ]
  },
  {
   "cell_type": "code",
   "execution_count": null,
   "metadata": {},
   "outputs": [],
   "source": [
    "# DEFINE GLOBAL VARIABLES:\n",
    "NUM_SENT = 0\n",
    "NUM_INTENTS = 0\n",
    "NUM_INTENTS_UNIQUE = 0\n",
    "VOCABULARY_SIZE = 0\n",
    "MAX_SENT_LENGTH = 0"
   ]
  },
  {
   "cell_type": "code",
   "execution_count": 64,
   "metadata": {},
   "outputs": [
    {
     "name": "stdout",
     "output_type": "stream",
     "text": [
      "NUM_SENT:            32\n",
      "NUM_INTENTS:         32\n",
      "NUM_INTENTS_UNIQUE:  8\n",
      "VOCABULARY_SIZE:     39\n",
      "MAX_SENT_LENGTH:     5\n"
     ]
    }
   ],
   "source": [
    "# SHOW GLOBAL VARIABLES\n",
    "print (\"NUM_SENT:           \", NUM_SENT)\n",
    "print (\"NUM_INTENTS:        \", NUM_INTENTS)\n",
    "print (\"NUM_INTENTS_UNIQUE: \", NUM_INTENTS_UNIQUE)\n",
    "print (\"VOCABULARY_SIZE:    \", VOCABULARY_SIZE)\n",
    "print (\"MAX_SENT_LENGTH:    \", MAX_SENT_LENGTH)"
   ]
  },
  {
   "cell_type": "markdown",
   "metadata": {},
   "source": [
    "# Read the data"
   ]
  },
  {
   "cell_type": "code",
   "execution_count": 112,
   "metadata": {
    "colab": {},
    "colab_type": "code",
    "id": "LE6wywJrN2ih"
   },
   "outputs": [
    {
     "name": "stdout",
     "output_type": "stream",
     "text": [
      "               Sentence      Intent\n",
      "0          Good Morning   greetings\n",
      "1                    Hi   greetings\n",
      "2  Good morning Dolores   greetings\n",
      "3           Hey Dolores   greetings\n",
      "4                 Hello   greetings\n"
     ]
    }
   ],
   "source": [
    "df = pd.read_csv(\"Dolores_Dataset_v01.csv\", encoding = \"latin1\", names = [\"Sentence\", \"Intent\"])\n",
    "print(df.head())\n",
    "intents            = df[\"Intent\"]\n",
    "NUM_INTENTS        = len(list(df[\"Intent\"]))\n",
    "intents_unique     = list(set(df[\"Intent\"]))\n",
    "NUM_INTENTS_UNIQUE = len(intents_unique)\n",
    "sentences          = list(df[\"Sentence\"])\n",
    "NUM_SENT           = len(sentences)\n",
    "\n"
   ]
  },
  {
   "cell_type": "code",
   "execution_count": 113,
   "metadata": {
    "colab": {
     "base_uri": "https://localhost:8080/",
     "height": 119
    },
    "colab_type": "code",
    "id": "tF0FQA7gjOCX",
    "outputId": "c609b42a-05da-49f5-8d11-bd670210f635",
    "scrolled": true
   },
   "outputs": [
    {
     "name": "stdout",
     "output_type": "stream",
     "text": [
      "Unique Intents: \n",
      "[' getTime', ' saveAppoint', ' greetings', ' toSetDownSomeOfThisNaturalSplendor', ' haveViolentEnds', ' getDate', ' saveLink', ' goodBye']\n",
      "Num of unique Intents:  8\n"
     ]
    }
   ],
   "source": [
    "print (\"Unique Intents: \")\n",
    "print (intents_unique)\n",
    "print (\"Num of unique Intents: \", len(intents_unique))\n"
   ]
  },
  {
   "cell_type": "code",
   "execution_count": 13,
   "metadata": {
    "scrolled": true
   },
   "outputs": [
    {
     "data": {
      "text/html": [
       "<div>\n",
       "<style scoped>\n",
       "    .dataframe tbody tr th:only-of-type {\n",
       "        vertical-align: middle;\n",
       "    }\n",
       "\n",
       "    .dataframe tbody tr th {\n",
       "        vertical-align: top;\n",
       "    }\n",
       "\n",
       "    .dataframe thead th {\n",
       "        text-align: right;\n",
       "    }\n",
       "</style>\n",
       "<table border=\"1\" class=\"dataframe\">\n",
       "  <thead>\n",
       "    <tr style=\"text-align: right;\">\n",
       "      <th></th>\n",
       "      <th>Sentence</th>\n",
       "      <th>Intent</th>\n",
       "    </tr>\n",
       "  </thead>\n",
       "  <tbody>\n",
       "    <tr>\n",
       "      <th>0</th>\n",
       "      <td>Good Morning</td>\n",
       "      <td>greetings</td>\n",
       "    </tr>\n",
       "    <tr>\n",
       "      <th>1</th>\n",
       "      <td>Hi</td>\n",
       "      <td>greetings</td>\n",
       "    </tr>\n",
       "    <tr>\n",
       "      <th>2</th>\n",
       "      <td>Good morning Dolores</td>\n",
       "      <td>greetings</td>\n",
       "    </tr>\n",
       "    <tr>\n",
       "      <th>3</th>\n",
       "      <td>Hey Dolores</td>\n",
       "      <td>greetings</td>\n",
       "    </tr>\n",
       "    <tr>\n",
       "      <th>4</th>\n",
       "      <td>Hello</td>\n",
       "      <td>greetings</td>\n",
       "    </tr>\n",
       "  </tbody>\n",
       "</table>\n",
       "</div>"
      ],
      "text/plain": [
       "               Sentence      Intent\n",
       "0          Good Morning   greetings\n",
       "1                    Hi   greetings\n",
       "2  Good morning Dolores   greetings\n",
       "3           Hey Dolores   greetings\n",
       "4                 Hello   greetings"
      ]
     },
     "execution_count": 13,
     "metadata": {},
     "output_type": "execute_result"
    }
   ],
   "source": [
    "df.head()"
   ]
  },
  {
   "cell_type": "code",
   "execution_count": 14,
   "metadata": {},
   "outputs": [
    {
     "data": {
      "text/plain": [
       "(32, 2)"
      ]
     },
     "execution_count": 14,
     "metadata": {},
     "output_type": "execute_result"
    }
   ],
   "source": [
    "df.shape"
   ]
  },
  {
   "cell_type": "code",
   "execution_count": 15,
   "metadata": {
    "colab": {
     "base_uri": "https://localhost:8080/",
     "height": 34
    },
    "colab_type": "code",
    "id": "O8LLUZlokg0S",
    "outputId": "c15c21dc-2ef2-43b7-b4af-e7ee9e014091"
   },
   "outputs": [
    {
     "name": "stdout",
     "output_type": "stream",
     "text": [
      "['Good Morning', 'Hi', 'Good morning Dolores', 'Hey Dolores', 'Hello']\n"
     ]
    }
   ],
   "source": [
    "print(sentences[:5])"
   ]
  },
  {
   "cell_type": "markdown",
   "metadata": {},
   "source": [
    "# Word Cleaning\n",
    "re.sub is a routine from the \"Regular Expression\" Library.     \n",
    "r'string' means that this is a \"raw string\", where backslashes are treated as charachters.    \n",
    "re.sub(r'[^ a-z A-Z 0-9]', \" \", s) means that all characters exept a-z, A-Z and 0-9 will be replaced by space."
   ]
  },
  {
   "cell_type": "code",
   "execution_count": 20,
   "metadata": {
    "colab": {},
    "colab_type": "code",
    "id": "j-7q3iG5PKYI"
   },
   "outputs": [
    {
     "name": "stdout",
     "output_type": "stream",
     "text": [
      "[['good', 'morning'], ['hi'], ['good', 'morning', 'dolores'], ['hey', 'dolores'], ['hello']]\n",
      "Len of clean_sent:  32\n"
     ]
    }
   ],
   "source": [
    "clean_sent = []\n",
    "for s in sentences:\n",
    "    clean = re.sub(r'[^ a-z A-Z 0-9]', \" \", s)\n",
    "    w = word_tokenize(clean)\n",
    "    clean_sent.append([i.lower() for i in w])\n",
    "\n",
    "print (clean_sent[:5])\n",
    "print(\"Len of clean_sent: \", len(clean_sent))\n"
   ]
  },
  {
   "cell_type": "markdown",
   "metadata": {},
   "source": [
    "### Documentation for Tokenizer:\n",
    "https://www.tensorflow.org/api_docs/python/tf/keras/preprocessing/text/Tokenizer"
   ]
  },
  {
   "cell_type": "code",
   "execution_count": 65,
   "metadata": {
    "colab": {},
    "colab_type": "code",
    "id": "SJCQ_YhBJW7t"
   },
   "outputs": [
    {
     "name": "stdout",
     "output_type": "stream",
     "text": [
      "Max sent length:  5\n"
     ]
    }
   ],
   "source": [
    "token = Tokenizer(filters = '!\"#$%&()*+,-./:;<=>?@[\\]^_`{|}~')\n",
    "token.fit_on_texts(clean_sent)\n",
    "VOCABULARY_SIZE = len(token.word_index) + 1\n",
    "MAX_SENT_LENGTH = len(max(clean_sent, key = len))\n",
    "\n",
    "#print(\"Vocab Size = %d. Maximum sent length = %d\" % (vocab_size, max_sent_length))\n",
    "print (\"Max sent length: \", MAX_SENT_LENGTH)\n",
    "encoded_sent = token.texts_to_sequences(clean_sent)\n",
    "padded_sent = pad_sequences(encoded_sent, maxlen = max_sent_length, padding = \"post\")\n"
   ]
  },
  {
   "cell_type": "code",
   "execution_count": 66,
   "metadata": {},
   "outputs": [
    {
     "name": "stdout",
     "output_type": "stream",
     "text": [
      "[[10, 14], [24], [10, 14, 4], [25, 4], [15], [15, 4], [5], [5, 5], [26], [10, 5], [16, 11], [16, 11, 4], [5, 4], [6, 17, 3, 9], [6, 9, 18, 27], [9], [28, 19, 3, 9], [6, 18, 3, 7, 29], [6, 7, 20, 21, 22], [30, 7, 20, 21, 22], [6, 17, 3, 7], [31, 32, 33], [11, 34, 35], [1, 2, 12], [13, 1, 2, 12], [1, 3, 36, 12], [1, 3, 37, 7], [1, 2, 8, 38, 19], [1, 2, 8], [13, 1, 2, 8], [1, 2, 23, 8, 13], [1, 2, 23, 8]]\n",
      "Num of Sentences:  32\n"
     ]
    }
   ],
   "source": [
    "print (encoded_sent)\n",
    "print (\"Num of Sentences: \", len(encoded_sent))"
   ]
  },
  {
   "cell_type": "code",
   "execution_count": 67,
   "metadata": {
    "colab": {
     "base_uri": "https://localhost:8080/",
     "height": 272
    },
    "colab_type": "code",
    "id": "gDgTCS2KdI2p",
    "outputId": "ac5332cd-0a0f-4311-8db4-22df92728d90"
   },
   "outputs": [
    {
     "data": {
      "text/plain": [
       "array([[10, 14,  0,  0,  0],\n",
       "       [24,  0,  0,  0,  0],\n",
       "       [10, 14,  4,  0,  0],\n",
       "       [25,  4,  0,  0,  0],\n",
       "       [15,  0,  0,  0,  0]], dtype=int32)"
      ]
     },
     "execution_count": 67,
     "metadata": {},
     "output_type": "execute_result"
    }
   ],
   "source": [
    "padded_sent[:5]"
   ]
  },
  {
   "cell_type": "code",
   "execution_count": 68,
   "metadata": {
    "colab": {
     "base_uri": "https://localhost:8080/",
     "height": 34
    },
    "colab_type": "code",
    "id": "3eaSIDi0dNf1",
    "outputId": "4ab6b6dd-ffa4-4061-9e9d-7a01decfa837"
   },
   "outputs": [
    {
     "name": "stdout",
     "output_type": "stream",
     "text": [
      "Shape of padded sent =  (32, 5)\n"
     ]
    }
   ],
   "source": [
    "print(\"Shape of padded sent = \",padded_sent.shape)"
   ]
  },
  {
   "cell_type": "markdown",
   "metadata": {},
   "source": [
    "# Tokenizing the intents"
   ]
  },
  {
   "cell_type": "code",
   "execution_count": 69,
   "metadata": {
    "colab": {},
    "colab_type": "code",
    "id": "X0rXzenSpgFR"
   },
   "outputs": [],
   "source": [
    "#tokenizer for the intents\n",
    "token_intents = Tokenizer(filters = '!\"#$%&()*+,-/:;<=>?@[\\]^`{|}~')\n",
    "token_intents.fit_on_texts(intents_unique)\n"
   ]
  },
  {
   "cell_type": "code",
   "execution_count": 70,
   "metadata": {
    "colab": {
     "base_uri": "https://localhost:8080/",
     "height": 374
    },
    "colab_type": "code",
    "id": "yNHQtkszskxr",
    "outputId": "f5babc01-89e3-4392-e8e6-c9f257de3d07"
   },
   "outputs": [
    {
     "data": {
      "text/plain": [
       "{'gettime': 1,\n",
       " 'saveappoint': 2,\n",
       " 'greetings': 3,\n",
       " 'tosetdownsomeofthisnaturalsplendor': 4,\n",
       " 'haveviolentends': 5,\n",
       " 'getdate': 6,\n",
       " 'savelink': 7,\n",
       " 'goodbye': 8}"
      ]
     },
     "execution_count": 70,
     "metadata": {},
     "output_type": "execute_result"
    }
   ],
   "source": [
    "token_intents.word_index"
   ]
  },
  {
   "cell_type": "code",
   "execution_count": 71,
   "metadata": {
    "colab": {},
    "colab_type": "code",
    "id": "7OOx9qdBto1-"
   },
   "outputs": [],
   "source": [
    "encoded_output = token_intents.texts_to_sequences(intents)\n"
   ]
  },
  {
   "cell_type": "code",
   "execution_count": 72,
   "metadata": {
    "scrolled": true
   },
   "outputs": [
    {
     "name": "stdout",
     "output_type": "stream",
     "text": [
      "[[3], [3], [3], [3], [3], [3], [8], [8], [8], [8], [8], [8], [8], [1], [1], [1], [1], [6], [6], [6], [6], [5], [4], [2], [2], [2], [2], [7], [7], [7], [7], [7]]\n"
     ]
    }
   ],
   "source": [
    "print (encoded_output)\n"
   ]
  },
  {
   "cell_type": "code",
   "execution_count": 73,
   "metadata": {
    "colab": {},
    "colab_type": "code",
    "id": "0_5Lv5PiyG-z"
   },
   "outputs": [],
   "source": [
    "encoded_output = np.array(encoded_output).reshape(len(encoded_output), 1)"
   ]
  },
  {
   "cell_type": "code",
   "execution_count": 74,
   "metadata": {},
   "outputs": [
    {
     "data": {
      "text/plain": [
       "numpy.ndarray"
      ]
     },
     "execution_count": 74,
     "metadata": {},
     "output_type": "execute_result"
    }
   ],
   "source": [
    "# print (encoded_output)\n",
    "type (encoded_output)"
   ]
  },
  {
   "cell_type": "code",
   "execution_count": 75,
   "metadata": {
    "colab": {
     "base_uri": "https://localhost:8080/",
     "height": 34
    },
    "colab_type": "code",
    "id": "dpM86WrVQlx5",
    "outputId": "71ff52a6-b3d0-4b5c-850d-5dc0a56c8aa9"
   },
   "outputs": [
    {
     "data": {
      "text/plain": [
       "(32, 1)"
      ]
     },
     "execution_count": 75,
     "metadata": {},
     "output_type": "execute_result"
    }
   ],
   "source": [
    "encoded_output.shape"
   ]
  },
  {
   "cell_type": "code",
   "execution_count": 76,
   "metadata": {
    "colab": {},
    "colab_type": "code",
    "id": "rD3QN-RPzfet"
   },
   "outputs": [],
   "source": [
    "one_hot = OneHotEncoder(sparse = False)\n",
    "output_one_hot = one_hot.fit_transform(encoded_output)"
   ]
  },
  {
   "cell_type": "code",
   "execution_count": 77,
   "metadata": {
    "colab": {
     "base_uri": "https://localhost:8080/",
     "height": 34
    },
    "colab_type": "code",
    "id": "A6HVslLTHgOM",
    "outputId": "752962df-02d8-409b-fb8f-adb06227161d"
   },
   "outputs": [
    {
     "data": {
      "text/plain": [
       "(32, 8)"
      ]
     },
     "execution_count": 77,
     "metadata": {},
     "output_type": "execute_result"
    }
   ],
   "source": [
    "output_one_hot.shape"
   ]
  },
  {
   "cell_type": "markdown",
   "metadata": {},
   "source": [
    "# Define Training- and Testset"
   ]
  },
  {
   "cell_type": "code",
   "execution_count": 78,
   "metadata": {
    "colab": {},
    "colab_type": "code",
    "id": "EqABUESD7xi9"
   },
   "outputs": [],
   "source": [
    "from sklearn.model_selection import train_test_split"
   ]
  },
  {
   "cell_type": "code",
   "execution_count": 79,
   "metadata": {
    "colab": {},
    "colab_type": "code",
    "id": "h8P4HTz6A4E-"
   },
   "outputs": [],
   "source": [
    "train_X, val_X, train_Y, val_Y = train_test_split(padded_sent, output_one_hot, shuffle = True, test_size = 0.1)\n"
   ]
  },
  {
   "cell_type": "code",
   "execution_count": 80,
   "metadata": {
    "colab": {
     "base_uri": "https://localhost:8080/",
     "height": 51
    },
    "colab_type": "code",
    "id": "7E0uhC2OCtTx",
    "outputId": "6ce0e215-aa3f-43f1-ba5a-0b584b25a35c",
    "scrolled": true
   },
   "outputs": [
    {
     "name": "stdout",
     "output_type": "stream",
     "text": [
      "Shape of train_X = (28, 5) and train_Y = (28, 8)\n",
      "Shape of val_X = (4, 5) and val_Y = (4, 8)\n"
     ]
    }
   ],
   "source": [
    "print(\"Shape of train_X = %s and train_Y = %s\" % (train_X.shape, train_Y.shape))\n",
    "print(\"Shape of val_X = %s and val_Y = %s\" % (val_X.shape, val_Y.shape))"
   ]
  },
  {
   "cell_type": "markdown",
   "metadata": {},
   "source": [
    "# Defining the Model"
   ]
  },
  {
   "cell_type": "code",
   "execution_count": 81,
   "metadata": {
    "colab": {},
    "colab_type": "code",
    "id": "e5BU_x74DNEb"
   },
   "outputs": [
    {
     "name": "stdout",
     "output_type": "stream",
     "text": [
      "WARNING:tensorflow:From /Users/cwindheu/anaconda3/lib/python3.7/site-packages/tensorflow/python/framework/op_def_library.py:263: colocate_with (from tensorflow.python.framework.ops) is deprecated and will be removed in a future version.\n",
      "Instructions for updating:\n",
      "Colocations handled automatically by placer.\n",
      "WARNING:tensorflow:From /Users/cwindheu/anaconda3/lib/python3.7/site-packages/keras/backend/tensorflow_backend.py:3733: calling dropout (from tensorflow.python.ops.nn_ops) with keep_prob is deprecated and will be removed in a future version.\n",
      "Instructions for updating:\n",
      "Please use `rate` instead of `keep_prob`. Rate should be set to `rate = 1 - keep_prob`.\n",
      "Model: \"sequential_1\"\n",
      "_________________________________________________________________\n",
      "Layer (type)                 Output Shape              Param #   \n",
      "=================================================================\n",
      "embedding_1 (Embedding)      (None, 5, 128)            4992      \n",
      "_________________________________________________________________\n",
      "bidirectional_1 (Bidirection (None, 256)               263168    \n",
      "_________________________________________________________________\n",
      "dense_1 (Dense)              (None, 32)                8224      \n",
      "_________________________________________________________________\n",
      "dropout_1 (Dropout)          (None, 32)                0         \n",
      "_________________________________________________________________\n",
      "dense_2 (Dense)              (None, 8)                 264       \n",
      "=================================================================\n",
      "Total params: 276,648\n",
      "Trainable params: 271,656\n",
      "Non-trainable params: 4,992\n",
      "_________________________________________________________________\n"
     ]
    }
   ],
   "source": [
    "model = Sequential()\n",
    "model.add(Embedding(VOCABULARY_SIZE, 128, input_length = MAX_SENT_LENGTH, trainable = False))\n",
    "model.add(Bidirectional(LSTM(128)))\n",
    "model.add(Dense(32, activation = \"relu\"))\n",
    "model.add(Dropout(0.5))\n",
    "model.add(Dense(NUM_INTENTS_UNIQUE, activation = \"softmax\"))\n",
    "\n",
    "model.compile(loss = \"categorical_crossentropy\", optimizer = \"adam\", metrics = [\"accuracy\"])\n",
    "model.summary()"
   ]
  },
  {
   "cell_type": "markdown",
   "metadata": {},
   "source": [
    "# Training the Model"
   ]
  },
  {
   "cell_type": "code",
   "execution_count": 82,
   "metadata": {
    "colab": {
     "base_uri": "https://localhost:8080/",
     "height": 6834
    },
    "colab_type": "code",
    "id": "_r-dxm2sMQ-d",
    "outputId": "3c37b4f8-fc4e-4c82-ab46-2aa1d8b47ffd"
   },
   "outputs": [
    {
     "name": "stdout",
     "output_type": "stream",
     "text": [
      "WARNING:tensorflow:From /Users/cwindheu/anaconda3/lib/python3.7/site-packages/tensorflow/python/ops/math_ops.py:3066: to_int32 (from tensorflow.python.ops.math_ops) is deprecated and will be removed in a future version.\n",
      "Instructions for updating:\n",
      "Use tf.cast instead.\n",
      "Train on 28 samples, validate on 4 samples\n",
      "Epoch 1/100\n",
      "28/28 [==============================] - 1s 46ms/step - loss: 2.0759 - acc: 0.1429 - val_loss: 2.0838 - val_acc: 0.0000e+00\n",
      "\n",
      "Epoch 00001: val_loss improved from inf to 2.08376, saving model to dir_01.h5\n",
      "Epoch 2/100\n",
      "28/28 [==============================] - 0s 453us/step - loss: 2.0711 - acc: 0.2143 - val_loss: 2.0827 - val_acc: 0.0000e+00\n",
      "\n",
      "Epoch 00002: val_loss improved from 2.08376 to 2.08274, saving model to dir_01.h5\n",
      "Epoch 3/100\n",
      "28/28 [==============================] - 0s 520us/step - loss: 2.0583 - acc: 0.5357 - val_loss: 2.0803 - val_acc: 0.0000e+00\n",
      "\n",
      "Epoch 00003: val_loss improved from 2.08274 to 2.08034, saving model to dir_01.h5\n",
      "Epoch 4/100\n",
      "28/28 [==============================] - 0s 611us/step - loss: 2.0506 - acc: 0.5000 - val_loss: 2.0754 - val_acc: 0.0000e+00\n",
      "\n",
      "Epoch 00004: val_loss improved from 2.08034 to 2.07540, saving model to dir_01.h5\n",
      "Epoch 5/100\n",
      "28/28 [==============================] - 0s 542us/step - loss: 2.0419 - acc: 0.5000 - val_loss: 2.0700 - val_acc: 0.0000e+00\n",
      "\n",
      "Epoch 00005: val_loss improved from 2.07540 to 2.07001, saving model to dir_01.h5\n",
      "Epoch 6/100\n",
      "28/28 [==============================] - 0s 463us/step - loss: 2.0372 - acc: 0.5000 - val_loss: 2.0638 - val_acc: 0.0000e+00\n",
      "\n",
      "Epoch 00006: val_loss improved from 2.07001 to 2.06384, saving model to dir_01.h5\n",
      "Epoch 7/100\n",
      "28/28 [==============================] - 0s 934us/step - loss: 2.0219 - acc: 0.6071 - val_loss: 2.0583 - val_acc: 0.0000e+00\n",
      "\n",
      "Epoch 00007: val_loss improved from 2.06384 to 2.05833, saving model to dir_01.h5\n",
      "Epoch 8/100\n",
      "28/28 [==============================] - 0s 634us/step - loss: 2.0225 - acc: 0.5000 - val_loss: 2.0526 - val_acc: 0.0000e+00\n",
      "\n",
      "Epoch 00008: val_loss improved from 2.05833 to 2.05257, saving model to dir_01.h5\n",
      "Epoch 9/100\n",
      "28/28 [==============================] - 0s 764us/step - loss: 2.0217 - acc: 0.2857 - val_loss: 2.0454 - val_acc: 0.0000e+00\n",
      "\n",
      "Epoch 00009: val_loss improved from 2.05257 to 2.04538, saving model to dir_01.h5\n",
      "Epoch 10/100\n",
      "28/28 [==============================] - 0s 688us/step - loss: 1.9780 - acc: 0.5000 - val_loss: 2.0370 - val_acc: 0.2500\n",
      "\n",
      "Epoch 00010: val_loss improved from 2.04538 to 2.03701, saving model to dir_01.h5\n",
      "Epoch 11/100\n",
      "28/28 [==============================] - 0s 501us/step - loss: 2.0000 - acc: 0.3571 - val_loss: 2.0285 - val_acc: 0.2500\n",
      "\n",
      "Epoch 00011: val_loss improved from 2.03701 to 2.02855, saving model to dir_01.h5\n",
      "Epoch 12/100\n",
      "28/28 [==============================] - 0s 572us/step - loss: 1.9940 - acc: 0.4643 - val_loss: 2.0221 - val_acc: 0.2500\n",
      "\n",
      "Epoch 00012: val_loss improved from 2.02855 to 2.02214, saving model to dir_01.h5\n",
      "Epoch 13/100\n",
      "28/28 [==============================] - 0s 512us/step - loss: 1.9517 - acc: 0.5000 - val_loss: 2.0162 - val_acc: 0.2500\n",
      "\n",
      "Epoch 00013: val_loss improved from 2.02214 to 2.01623, saving model to dir_01.h5\n",
      "Epoch 14/100\n",
      "28/28 [==============================] - 0s 626us/step - loss: 1.9476 - acc: 0.5357 - val_loss: 2.0086 - val_acc: 0.2500\n",
      "\n",
      "Epoch 00014: val_loss improved from 2.01623 to 2.00859, saving model to dir_01.h5\n",
      "Epoch 15/100\n",
      "28/28 [==============================] - 0s 637us/step - loss: 1.9163 - acc: 0.4643 - val_loss: 2.0006 - val_acc: 0.2500\n",
      "\n",
      "Epoch 00015: val_loss improved from 2.00859 to 2.00058, saving model to dir_01.h5\n",
      "Epoch 16/100\n",
      "28/28 [==============================] - 0s 531us/step - loss: 1.9146 - acc: 0.5714 - val_loss: 1.9922 - val_acc: 0.2500\n",
      "\n",
      "Epoch 00016: val_loss improved from 2.00058 to 1.99221, saving model to dir_01.h5\n",
      "Epoch 17/100\n",
      "28/28 [==============================] - 0s 464us/step - loss: 1.9049 - acc: 0.3929 - val_loss: 1.9837 - val_acc: 0.2500\n",
      "\n",
      "Epoch 00017: val_loss improved from 1.99221 to 1.98369, saving model to dir_01.h5\n",
      "Epoch 18/100\n",
      "28/28 [==============================] - 0s 1ms/step - loss: 1.8891 - acc: 0.5357 - val_loss: 1.9757 - val_acc: 0.2500\n",
      "\n",
      "Epoch 00018: val_loss improved from 1.98369 to 1.97570, saving model to dir_01.h5\n",
      "Epoch 19/100\n",
      "28/28 [==============================] - 0s 1ms/step - loss: 1.9214 - acc: 0.3571 - val_loss: 1.9700 - val_acc: 0.2500\n",
      "\n",
      "Epoch 00019: val_loss improved from 1.97570 to 1.97000, saving model to dir_01.h5\n",
      "Epoch 20/100\n",
      "28/28 [==============================] - 0s 758us/step - loss: 1.8627 - acc: 0.5357 - val_loss: 1.9634 - val_acc: 0.2500\n",
      "\n",
      "Epoch 00020: val_loss improved from 1.97000 to 1.96337, saving model to dir_01.h5\n",
      "Epoch 21/100\n",
      "28/28 [==============================] - 0s 826us/step - loss: 1.8090 - acc: 0.4286 - val_loss: 1.9567 - val_acc: 0.2500\n",
      "\n",
      "Epoch 00021: val_loss improved from 1.96337 to 1.95671, saving model to dir_01.h5\n",
      "Epoch 22/100\n",
      "28/28 [==============================] - 0s 512us/step - loss: 1.8353 - acc: 0.4286 - val_loss: 1.9509 - val_acc: 0.2500\n",
      "\n",
      "Epoch 00022: val_loss improved from 1.95671 to 1.95087, saving model to dir_01.h5\n",
      "Epoch 23/100\n",
      "28/28 [==============================] - 0s 444us/step - loss: 1.8629 - acc: 0.3214 - val_loss: 1.9432 - val_acc: 0.2500\n",
      "\n",
      "Epoch 00023: val_loss improved from 1.95087 to 1.94324, saving model to dir_01.h5\n",
      "Epoch 24/100\n",
      "28/28 [==============================] - 0s 464us/step - loss: 1.7304 - acc: 0.5714 - val_loss: 1.9359 - val_acc: 0.2500\n",
      "\n",
      "Epoch 00024: val_loss improved from 1.94324 to 1.93593, saving model to dir_01.h5\n",
      "Epoch 25/100\n",
      "28/28 [==============================] - 0s 571us/step - loss: 1.7744 - acc: 0.5357 - val_loss: 1.9276 - val_acc: 0.2500\n",
      "\n",
      "Epoch 00025: val_loss improved from 1.93593 to 1.92756, saving model to dir_01.h5\n",
      "Epoch 26/100\n",
      "28/28 [==============================] - 0s 640us/step - loss: 1.6638 - acc: 0.5000 - val_loss: 1.9181 - val_acc: 0.2500\n",
      "\n",
      "Epoch 00026: val_loss improved from 1.92756 to 1.91808, saving model to dir_01.h5\n",
      "Epoch 27/100\n",
      "28/28 [==============================] - 0s 1ms/step - loss: 1.7007 - acc: 0.4643 - val_loss: 1.9076 - val_acc: 0.2500\n",
      "\n",
      "Epoch 00027: val_loss improved from 1.91808 to 1.90756, saving model to dir_01.h5\n",
      "Epoch 28/100\n",
      "28/28 [==============================] - 0s 844us/step - loss: 1.7471 - acc: 0.4643 - val_loss: 1.8976 - val_acc: 0.0000e+00\n",
      "\n",
      "Epoch 00028: val_loss improved from 1.90756 to 1.89756, saving model to dir_01.h5\n",
      "Epoch 29/100\n",
      "28/28 [==============================] - 0s 547us/step - loss: 1.5715 - acc: 0.6429 - val_loss: 1.8852 - val_acc: 0.0000e+00\n",
      "\n",
      "Epoch 00029: val_loss improved from 1.89756 to 1.88520, saving model to dir_01.h5\n",
      "Epoch 30/100\n",
      "28/28 [==============================] - 0s 545us/step - loss: 1.6249 - acc: 0.4643 - val_loss: 1.8750 - val_acc: 0.0000e+00\n",
      "\n",
      "Epoch 00030: val_loss improved from 1.88520 to 1.87502, saving model to dir_01.h5\n",
      "Epoch 31/100\n",
      "28/28 [==============================] - 0s 599us/step - loss: 1.6636 - acc: 0.4643 - val_loss: 1.8655 - val_acc: 0.0000e+00\n",
      "\n",
      "Epoch 00031: val_loss improved from 1.87502 to 1.86550, saving model to dir_01.h5\n",
      "Epoch 32/100\n",
      "28/28 [==============================] - 0s 751us/step - loss: 1.5826 - acc: 0.6786 - val_loss: 1.8666 - val_acc: 0.0000e+00\n",
      "\n",
      "Epoch 00032: val_loss did not improve from 1.86550\n",
      "Epoch 33/100\n",
      "28/28 [==============================] - 0s 726us/step - loss: 1.5694 - acc: 0.4286 - val_loss: 1.8776 - val_acc: 0.0000e+00\n",
      "\n",
      "Epoch 00033: val_loss did not improve from 1.86550\n",
      "Epoch 34/100\n",
      "28/28 [==============================] - 0s 784us/step - loss: 1.4662 - acc: 0.5000 - val_loss: 1.8859 - val_acc: 0.0000e+00\n",
      "\n",
      "Epoch 00034: val_loss did not improve from 1.86550\n",
      "Epoch 35/100\n",
      "28/28 [==============================] - 0s 709us/step - loss: 1.4296 - acc: 0.5357 - val_loss: 1.9057 - val_acc: 0.0000e+00\n",
      "\n",
      "Epoch 00035: val_loss did not improve from 1.86550\n",
      "Epoch 36/100\n",
      "28/28 [==============================] - 0s 705us/step - loss: 1.4891 - acc: 0.4286 - val_loss: 1.9319 - val_acc: 0.0000e+00\n",
      "\n",
      "Epoch 00036: val_loss did not improve from 1.86550\n",
      "Epoch 37/100\n",
      "28/28 [==============================] - 0s 754us/step - loss: 1.3422 - acc: 0.5357 - val_loss: 1.9508 - val_acc: 0.0000e+00\n",
      "\n",
      "Epoch 00037: val_loss did not improve from 1.86550\n",
      "Epoch 38/100\n",
      "28/28 [==============================] - 0s 544us/step - loss: 1.3559 - acc: 0.6071 - val_loss: 1.9693 - val_acc: 0.0000e+00\n"
     ]
    },
    {
     "name": "stdout",
     "output_type": "stream",
     "text": [
      "\n",
      "Epoch 00038: val_loss did not improve from 1.86550\n",
      "Epoch 39/100\n",
      "28/28 [==============================] - 0s 511us/step - loss: 1.3346 - acc: 0.6429 - val_loss: 1.9904 - val_acc: 0.0000e+00\n",
      "\n",
      "Epoch 00039: val_loss did not improve from 1.86550\n",
      "Epoch 40/100\n",
      "28/28 [==============================] - 0s 642us/step - loss: 1.2938 - acc: 0.5357 - val_loss: 1.9849 - val_acc: 0.0000e+00\n",
      "\n",
      "Epoch 00040: val_loss did not improve from 1.86550\n",
      "Epoch 41/100\n",
      "28/28 [==============================] - 0s 1ms/step - loss: 1.5331 - acc: 0.4286 - val_loss: 1.9660 - val_acc: 0.0000e+00\n",
      "\n",
      "Epoch 00041: val_loss did not improve from 1.86550\n",
      "Epoch 42/100\n",
      "28/28 [==============================] - 0s 857us/step - loss: 1.2211 - acc: 0.4643 - val_loss: 1.9468 - val_acc: 0.0000e+00\n",
      "\n",
      "Epoch 00042: val_loss did not improve from 1.86550\n",
      "Epoch 43/100\n",
      "28/28 [==============================] - 0s 903us/step - loss: 1.2922 - acc: 0.5714 - val_loss: 1.9309 - val_acc: 0.0000e+00\n",
      "\n",
      "Epoch 00043: val_loss did not improve from 1.86550\n",
      "Epoch 44/100\n",
      "28/28 [==============================] - 0s 852us/step - loss: 1.0610 - acc: 0.6071 - val_loss: 1.9118 - val_acc: 0.0000e+00\n",
      "\n",
      "Epoch 00044: val_loss did not improve from 1.86550\n",
      "Epoch 45/100\n",
      "28/28 [==============================] - 0s 629us/step - loss: 1.0697 - acc: 0.6071 - val_loss: 1.8972 - val_acc: 0.0000e+00\n",
      "\n",
      "Epoch 00045: val_loss did not improve from 1.86550\n",
      "Epoch 46/100\n",
      "28/28 [==============================] - 0s 782us/step - loss: 1.2838 - acc: 0.5357 - val_loss: 1.8725 - val_acc: 0.0000e+00\n",
      "\n",
      "Epoch 00046: val_loss did not improve from 1.86550\n",
      "Epoch 47/100\n",
      "28/28 [==============================] - 0s 660us/step - loss: 1.1376 - acc: 0.5714 - val_loss: 1.8598 - val_acc: 0.0000e+00\n",
      "\n",
      "Epoch 00047: val_loss improved from 1.86550 to 1.85976, saving model to dir_01.h5\n",
      "Epoch 48/100\n",
      "28/28 [==============================] - 0s 494us/step - loss: 0.8686 - acc: 0.7500 - val_loss: 1.8748 - val_acc: 0.2500\n",
      "\n",
      "Epoch 00048: val_loss did not improve from 1.85976\n",
      "Epoch 49/100\n",
      "28/28 [==============================] - 0s 576us/step - loss: 0.9049 - acc: 0.7857 - val_loss: 1.8919 - val_acc: 0.2500\n",
      "\n",
      "Epoch 00049: val_loss did not improve from 1.85976\n",
      "Epoch 50/100\n",
      "28/28 [==============================] - 0s 903us/step - loss: 1.1667 - acc: 0.6071 - val_loss: 1.8935 - val_acc: 0.2500\n",
      "\n",
      "Epoch 00050: val_loss did not improve from 1.85976\n",
      "Epoch 51/100\n",
      "28/28 [==============================] - 0s 983us/step - loss: 1.1042 - acc: 0.6429 - val_loss: 1.8791 - val_acc: 0.2500\n",
      "\n",
      "Epoch 00051: val_loss did not improve from 1.85976\n",
      "Epoch 52/100\n",
      "28/28 [==============================] - 0s 1ms/step - loss: 0.8719 - acc: 0.6429 - val_loss: 1.8936 - val_acc: 0.2500\n",
      "\n",
      "Epoch 00052: val_loss did not improve from 1.85976\n",
      "Epoch 53/100\n",
      "28/28 [==============================] - 0s 865us/step - loss: 0.9064 - acc: 0.6786 - val_loss: 1.8967 - val_acc: 0.2500\n",
      "\n",
      "Epoch 00053: val_loss did not improve from 1.85976\n",
      "Epoch 54/100\n",
      "28/28 [==============================] - 0s 872us/step - loss: 1.0249 - acc: 0.5714 - val_loss: 1.9147 - val_acc: 0.2500\n",
      "\n",
      "Epoch 00054: val_loss did not improve from 1.85976\n",
      "Epoch 55/100\n",
      "28/28 [==============================] - 0s 620us/step - loss: 0.9641 - acc: 0.5714 - val_loss: 1.9005 - val_acc: 0.2500\n",
      "\n",
      "Epoch 00055: val_loss did not improve from 1.85976\n",
      "Epoch 56/100\n",
      "28/28 [==============================] - 0s 781us/step - loss: 0.8585 - acc: 0.6429 - val_loss: 1.8767 - val_acc: 0.2500\n",
      "\n",
      "Epoch 00056: val_loss did not improve from 1.85976\n",
      "Epoch 57/100\n",
      "28/28 [==============================] - 0s 691us/step - loss: 0.8670 - acc: 0.5714 - val_loss: 1.8457 - val_acc: 0.2500\n",
      "\n",
      "Epoch 00057: val_loss improved from 1.85976 to 1.84569, saving model to dir_01.h5\n",
      "Epoch 58/100\n",
      "28/28 [==============================] - 0s 514us/step - loss: 1.0290 - acc: 0.6071 - val_loss: 1.8413 - val_acc: 0.2500\n",
      "\n",
      "Epoch 00058: val_loss improved from 1.84569 to 1.84133, saving model to dir_01.h5\n",
      "Epoch 59/100\n",
      "28/28 [==============================] - 0s 629us/step - loss: 0.8538 - acc: 0.6071 - val_loss: 1.8645 - val_acc: 0.2500\n",
      "\n",
      "Epoch 00059: val_loss did not improve from 1.84133\n",
      "Epoch 60/100\n",
      "28/28 [==============================] - 0s 680us/step - loss: 0.9971 - acc: 0.6071 - val_loss: 1.9283 - val_acc: 0.2500\n",
      "\n",
      "Epoch 00060: val_loss did not improve from 1.84133\n",
      "Epoch 61/100\n",
      "28/28 [==============================] - 0s 831us/step - loss: 0.7419 - acc: 0.7143 - val_loss: 1.9996 - val_acc: 0.2500\n",
      "\n",
      "Epoch 00061: val_loss did not improve from 1.84133\n",
      "Epoch 62/100\n",
      "28/28 [==============================] - 0s 677us/step - loss: 0.7246 - acc: 0.7857 - val_loss: 2.0202 - val_acc: 0.2500\n",
      "\n",
      "Epoch 00062: val_loss did not improve from 1.84133\n",
      "Epoch 63/100\n",
      "28/28 [==============================] - 0s 760us/step - loss: 0.6420 - acc: 0.7143 - val_loss: 2.0045 - val_acc: 0.2500\n",
      "\n",
      "Epoch 00063: val_loss did not improve from 1.84133\n",
      "Epoch 64/100\n",
      "28/28 [==============================] - 0s 630us/step - loss: 0.6493 - acc: 0.7500 - val_loss: 1.9750 - val_acc: 0.2500\n",
      "\n",
      "Epoch 00064: val_loss did not improve from 1.84133\n",
      "Epoch 65/100\n",
      "28/28 [==============================] - 0s 856us/step - loss: 0.7535 - acc: 0.7143 - val_loss: 1.9645 - val_acc: 0.2500\n",
      "\n",
      "Epoch 00065: val_loss did not improve from 1.84133\n",
      "Epoch 66/100\n",
      "28/28 [==============================] - 0s 833us/step - loss: 0.6075 - acc: 0.8214 - val_loss: 1.9925 - val_acc: 0.2500\n",
      "\n",
      "Epoch 00066: val_loss did not improve from 1.84133\n",
      "Epoch 67/100\n",
      "28/28 [==============================] - 0s 606us/step - loss: 0.7207 - acc: 0.7143 - val_loss: 1.9995 - val_acc: 0.5000\n",
      "\n",
      "Epoch 00067: val_loss did not improve from 1.84133\n",
      "Epoch 68/100\n",
      "28/28 [==============================] - 0s 574us/step - loss: 0.7617 - acc: 0.7500 - val_loss: 2.0189 - val_acc: 0.5000\n",
      "\n",
      "Epoch 00068: val_loss did not improve from 1.84133\n",
      "Epoch 69/100\n",
      "28/28 [==============================] - 0s 807us/step - loss: 0.4867 - acc: 0.7857 - val_loss: 2.0466 - val_acc: 0.5000\n",
      "\n",
      "Epoch 00069: val_loss did not improve from 1.84133\n",
      "Epoch 70/100\n",
      "28/28 [==============================] - 0s 713us/step - loss: 0.5761 - acc: 0.7857 - val_loss: 2.0557 - val_acc: 0.5000\n",
      "\n",
      "Epoch 00070: val_loss did not improve from 1.84133\n",
      "Epoch 71/100\n",
      "28/28 [==============================] - 0s 628us/step - loss: 0.6314 - acc: 0.7500 - val_loss: 1.9449 - val_acc: 0.5000\n",
      "\n",
      "Epoch 00071: val_loss did not improve from 1.84133\n",
      "Epoch 72/100\n",
      "28/28 [==============================] - 0s 759us/step - loss: 0.6447 - acc: 0.7857 - val_loss: 1.8729 - val_acc: 0.5000\n",
      "\n",
      "Epoch 00072: val_loss did not improve from 1.84133\n",
      "Epoch 73/100\n",
      "28/28 [==============================] - 0s 771us/step - loss: 0.6336 - acc: 0.7500 - val_loss: 1.8832 - val_acc: 0.5000\n",
      "\n",
      "Epoch 00073: val_loss did not improve from 1.84133\n",
      "Epoch 74/100\n",
      "28/28 [==============================] - 0s 925us/step - loss: 0.4821 - acc: 0.8571 - val_loss: 1.9351 - val_acc: 0.5000\n",
      "\n",
      "Epoch 00074: val_loss did not improve from 1.84133\n",
      "Epoch 75/100\n",
      "28/28 [==============================] - 0s 886us/step - loss: 0.4832 - acc: 0.7500 - val_loss: 2.0410 - val_acc: 0.5000\n",
      "\n",
      "Epoch 00075: val_loss did not improve from 1.84133\n",
      "Epoch 76/100\n",
      "28/28 [==============================] - 0s 809us/step - loss: 0.5780 - acc: 0.7143 - val_loss: 2.1446 - val_acc: 0.5000\n",
      "\n",
      "Epoch 00076: val_loss did not improve from 1.84133\n",
      "Epoch 77/100\n",
      "28/28 [==============================] - 0s 774us/step - loss: 0.4623 - acc: 0.8214 - val_loss: 2.2464 - val_acc: 0.5000\n",
      "\n",
      "Epoch 00077: val_loss did not improve from 1.84133\n",
      "Epoch 78/100\n",
      "28/28 [==============================] - 0s 783us/step - loss: 0.4167 - acc: 0.8571 - val_loss: 2.3730 - val_acc: 0.5000\n",
      "\n",
      "Epoch 00078: val_loss did not improve from 1.84133\n",
      "Epoch 79/100\n",
      "28/28 [==============================] - 0s 1ms/step - loss: 0.5641 - acc: 0.7857 - val_loss: 2.4622 - val_acc: 0.5000\n",
      "\n",
      "Epoch 00079: val_loss did not improve from 1.84133\n",
      "Epoch 80/100\n",
      "28/28 [==============================] - 0s 1ms/step - loss: 0.5251 - acc: 0.7857 - val_loss: 2.4647 - val_acc: 0.5000\n",
      "\n",
      "Epoch 00080: val_loss did not improve from 1.84133\n",
      "Epoch 81/100\n",
      "28/28 [==============================] - 0s 854us/step - loss: 0.3901 - acc: 0.8929 - val_loss: 2.4270 - val_acc: 0.5000\n",
      "\n",
      "Epoch 00081: val_loss did not improve from 1.84133\n",
      "Epoch 82/100\n",
      "28/28 [==============================] - 0s 621us/step - loss: 0.4397 - acc: 0.8571 - val_loss: 2.3812 - val_acc: 0.5000\n"
     ]
    },
    {
     "name": "stdout",
     "output_type": "stream",
     "text": [
      "\n",
      "Epoch 00082: val_loss did not improve from 1.84133\n",
      "Epoch 83/100\n",
      "28/28 [==============================] - 0s 947us/step - loss: 0.3153 - acc: 0.9286 - val_loss: 2.3712 - val_acc: 0.5000\n",
      "\n",
      "Epoch 00083: val_loss did not improve from 1.84133\n",
      "Epoch 84/100\n",
      "28/28 [==============================] - 0s 1ms/step - loss: 0.5028 - acc: 0.8571 - val_loss: 2.3779 - val_acc: 0.5000\n",
      "\n",
      "Epoch 00084: val_loss did not improve from 1.84133\n",
      "Epoch 85/100\n",
      "28/28 [==============================] - 0s 646us/step - loss: 0.3639 - acc: 0.8929 - val_loss: 2.4047 - val_acc: 0.5000\n",
      "\n",
      "Epoch 00085: val_loss did not improve from 1.84133\n",
      "Epoch 86/100\n",
      "28/28 [==============================] - 0s 653us/step - loss: 0.3935 - acc: 0.9286 - val_loss: 2.4544 - val_acc: 0.5000\n",
      "\n",
      "Epoch 00086: val_loss did not improve from 1.84133\n",
      "Epoch 87/100\n",
      "28/28 [==============================] - 0s 806us/step - loss: 0.2543 - acc: 0.9643 - val_loss: 2.5250 - val_acc: 0.5000\n",
      "\n",
      "Epoch 00087: val_loss did not improve from 1.84133\n",
      "Epoch 88/100\n",
      "28/28 [==============================] - 0s 837us/step - loss: 0.4018 - acc: 0.8929 - val_loss: 2.5246 - val_acc: 0.5000\n",
      "\n",
      "Epoch 00088: val_loss did not improve from 1.84133\n",
      "Epoch 89/100\n",
      "28/28 [==============================] - 0s 979us/step - loss: 0.2583 - acc: 0.9286 - val_loss: 2.5747 - val_acc: 0.5000\n",
      "\n",
      "Epoch 00089: val_loss did not improve from 1.84133\n",
      "Epoch 90/100\n",
      "28/28 [==============================] - 0s 844us/step - loss: 0.4551 - acc: 0.7500 - val_loss: 2.6362 - val_acc: 0.5000\n",
      "\n",
      "Epoch 00090: val_loss did not improve from 1.84133\n",
      "Epoch 91/100\n",
      "28/28 [==============================] - 0s 914us/step - loss: 0.3150 - acc: 0.8571 - val_loss: 2.6470 - val_acc: 0.5000\n",
      "\n",
      "Epoch 00091: val_loss did not improve from 1.84133\n",
      "Epoch 92/100\n",
      "28/28 [==============================] - 0s 1ms/step - loss: 0.3949 - acc: 0.8929 - val_loss: 2.6128 - val_acc: 0.5000\n",
      "\n",
      "Epoch 00092: val_loss did not improve from 1.84133\n",
      "Epoch 93/100\n",
      "28/28 [==============================] - 0s 704us/step - loss: 0.3909 - acc: 0.8571 - val_loss: 2.5602 - val_acc: 0.5000\n",
      "\n",
      "Epoch 00093: val_loss did not improve from 1.84133\n",
      "Epoch 94/100\n",
      "28/28 [==============================] - 0s 1ms/step - loss: 0.2718 - acc: 0.9286 - val_loss: 2.5761 - val_acc: 0.5000\n",
      "\n",
      "Epoch 00094: val_loss did not improve from 1.84133\n",
      "Epoch 95/100\n",
      "28/28 [==============================] - 0s 671us/step - loss: 0.3359 - acc: 0.8929 - val_loss: 2.6805 - val_acc: 0.5000\n",
      "\n",
      "Epoch 00095: val_loss did not improve from 1.84133\n",
      "Epoch 96/100\n",
      "28/28 [==============================] - 0s 910us/step - loss: 0.2452 - acc: 0.8929 - val_loss: 2.7999 - val_acc: 0.5000\n",
      "\n",
      "Epoch 00096: val_loss did not improve from 1.84133\n",
      "Epoch 97/100\n",
      "28/28 [==============================] - 0s 811us/step - loss: 0.4124 - acc: 0.8929 - val_loss: 2.9317 - val_acc: 0.5000\n",
      "\n",
      "Epoch 00097: val_loss did not improve from 1.84133\n",
      "Epoch 98/100\n",
      "28/28 [==============================] - 0s 638us/step - loss: 0.2455 - acc: 0.9286 - val_loss: 3.0805 - val_acc: 0.5000\n",
      "\n",
      "Epoch 00098: val_loss did not improve from 1.84133\n",
      "Epoch 99/100\n",
      "28/28 [==============================] - 0s 1ms/step - loss: 0.3720 - acc: 0.8571 - val_loss: 3.1733 - val_acc: 0.5000\n",
      "\n",
      "Epoch 00099: val_loss did not improve from 1.84133\n",
      "Epoch 100/100\n",
      "28/28 [==============================] - 0s 814us/step - loss: 0.2480 - acc: 1.0000 - val_loss: 3.2398 - val_acc: 0.5000\n",
      "\n",
      "Epoch 00100: val_loss did not improve from 1.84133\n",
      "Elapsed time in seconds:  7.387272834777832\n"
     ]
    }
   ],
   "source": [
    "import time\n",
    "\n",
    "filename = 'dir_01.h5'\n",
    "checkpoint = ModelCheckpoint(filename, monitor='val_loss', verbose=1, save_best_only=True, mode='min')\n",
    "\n",
    "start = time.time()\n",
    "\n",
    "hist = model.fit(train_X, train_Y, epochs = 100, batch_size = 32, validation_data = (val_X, val_Y), callbacks = [checkpoint])\n",
    "\n",
    "print(\"Elapsed time in seconds: \", time.time() - start)\n"
   ]
  },
  {
   "cell_type": "code",
   "execution_count": 83,
   "metadata": {
    "colab": {},
    "colab_type": "code",
    "id": "YjXKos8ocXvw"
   },
   "outputs": [],
   "source": [
    " model = load_model(\"dir_01.h5\")"
   ]
  },
  {
   "cell_type": "code",
   "execution_count": 91,
   "metadata": {
    "colab": {},
    "colab_type": "code",
    "id": "qSTEzrlzcuya"
   },
   "outputs": [],
   "source": [
    "def predictions(text):\n",
    "    clean = re.sub(r'[^ a-z A-Z 0-9]', \" \", text)\n",
    "    test_word = word_tokenize(clean)\n",
    "    test_word = [w.lower() for w in test_word]\n",
    "    test_ls = token.texts_to_sequences(test_word)\n",
    "    #print(test_word)\n",
    "    #Check for unknown words\n",
    "    if [] in test_ls:\n",
    "        test_ls = list(filter(None, test_ls))\n",
    "    \n",
    "    test_ls = np.array(test_ls).reshape(1, len(test_ls))\n",
    "\n",
    "    #print(\"test_ls: \", test_ls)\n",
    "\n",
    "    x = pad_sequences(test_ls, maxlen = MAX_SENT_LENGTH, padding = \"post\")\n",
    "    \n",
    "    #print (\"x: \", x)\n",
    "    \n",
    "    pred = model.predict_proba(x)\n",
    "  \n",
    "    return pred\n"
   ]
  },
  {
   "cell_type": "code",
   "execution_count": 92,
   "metadata": {
    "colab": {},
    "colab_type": "code",
    "id": "P1ddofshmdzK"
   },
   "outputs": [],
   "source": [
    "def get_final_output(pred, classes):\n",
    "    #print (type (pred))\n",
    "    #print (pred)\n",
    "    \n",
    "    predictions = pred[0]\n",
    " \n",
    "    classes = np.array(classes)\n",
    "    ids = np.argsort(-predictions)\n",
    "    classes = classes[ids]\n",
    "    predictions = -np.sort(-predictions)\n",
    "\n",
    "    for i in range(pred.shape[1]):\n",
    "        print(\"%s has confidence = %s\" % (classes[i], (predictions[i])))\n"
   ]
  },
  {
   "cell_type": "code",
   "execution_count": 127,
   "metadata": {
    "colab": {
     "base_uri": "https://localhost:8080/",
     "height": 391
    },
    "colab_type": "code",
    "id": "23VpGuihMdEU",
    "outputId": "cd36c932-0fb0-4166-92ae-546a7676e645"
   },
   "outputs": [
    {
     "name": "stdout",
     "output_type": "stream",
     "text": [
      " goodBye has confidence = 0.3582559\n",
      " greetings has confidence = 0.28471038\n",
      " getTime has confidence = 0.16156594\n",
      " toSetDownSomeOfThisNaturalSplendor has confidence = 0.084267005\n",
      " saveLink has confidence = 0.03471032\n",
      " saveAppoint has confidence = 0.03294208\n",
      " getDate has confidence = 0.028806573\n",
      " haveViolentEnds has confidence = 0.014741814\n"
     ]
    }
   ],
   "source": [
    "text = \"You headin out\"\n",
    "pred = predictions(text)\n",
    "get_final_output(pred, intents_unique)"
   ]
  },
  {
   "cell_type": "code",
   "execution_count": null,
   "metadata": {
    "colab": {},
    "colab_type": "code",
    "id": "bKUBDT36IHKO"
   },
   "outputs": [],
   "source": [
    "' getTime', ' saveAppoint', ' greetings', \n",
    "' toSetDownSomeOfThisNaturalSplendor', \n",
    "'haveViolentEnds', ' getDate', ' saveLink', ' goodBye'\n",
    "\n"
   ]
  },
  {
   "cell_type": "code",
   "execution_count": null,
   "metadata": {},
   "outputs": [],
   "source": []
  }
 ],
 "metadata": {
  "accelerator": "TPU",
  "colab": {
   "collapsed_sections": [],
   "include_colab_link": true,
   "name": "Intent_classification_final.ipynb",
   "provenance": [],
   "version": "0.3.2"
  },
  "kernelspec": {
   "display_name": "Python 3",
   "language": "python",
   "name": "python3"
  },
  "language_info": {
   "codemirror_mode": {
    "name": "ipython",
    "version": 3
   },
   "file_extension": ".py",
   "mimetype": "text/x-python",
   "name": "python",
   "nbconvert_exporter": "python",
   "pygments_lexer": "ipython3",
   "version": "3.7.3"
  }
 },
 "nbformat": 4,
 "nbformat_minor": 1
}
