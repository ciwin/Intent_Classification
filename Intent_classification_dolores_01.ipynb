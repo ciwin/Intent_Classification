{
 "cells": [
  {
   "cell_type": "markdown",
   "metadata": {
    "colab_type": "text",
    "id": "view-in-github"
   },
   "source": [
    "<a href=\"https://colab.research.google.com/github/Dark-Sied/Intent_Classification/blob/master/Intent_classification_final.ipynb\" target=\"_parent\"><img src=\"https://colab.research.google.com/assets/colab-badge.svg\" alt=\"Open In Colab\"/></a>"
   ]
  },
  {
   "cell_type": "markdown",
   "metadata": {},
   "source": [
    "# Intent Recognition Dolores V01\n",
    "Using a new vocabulary and training set.  \n",
    "Intent Recognition is based on Intent_classification_final\n",
    "Created by Christoph Windheuser, April 2020"
   ]
  },
  {
   "cell_type": "code",
   "execution_count": 1,
   "metadata": {
    "colab": {
     "base_uri": "https://localhost:8080/",
     "height": 34
    },
    "colab_type": "code",
    "id": "a_WypuUXi92e",
    "outputId": "133d026e-4236-4ff6-f21d-739bfb9640db"
   },
   "outputs": [
    {
     "name": "stderr",
     "output_type": "stream",
     "text": [
      "Using TensorFlow backend.\n"
     ]
    }
   ],
   "source": [
    "import numpy as np\n",
    "import pandas as pd\n",
    "from nltk.corpus import stopwords\n",
    "from nltk.tokenize import word_tokenize\n",
    "from nltk.stem.lancaster import LancasterStemmer\n",
    "import nltk\n",
    "import re\n",
    "from sklearn.preprocessing import OneHotEncoder\n",
    "import matplotlib.pyplot as plt\n",
    "from keras.preprocessing.text import Tokenizer\n",
    "from keras.preprocessing.sequence import pad_sequences\n",
    "from keras.utils import to_categorical\n",
    "from keras.models import Sequential, load_model\n",
    "from keras.layers import Dense, LSTM, Bidirectional, Embedding, Dropout\n",
    "from keras.callbacks import ModelCheckpoint\n"
   ]
  },
  {
   "cell_type": "code",
   "execution_count": 2,
   "metadata": {},
   "outputs": [],
   "source": [
    "# DEFINE GLOBAL VARIABLES:\n",
    "NUM_SENT = 0\n",
    "NUM_INTENTS = 0\n",
    "NUM_INTENTS_UNIQUE = 0\n",
    "VOCABULARY_SIZE = 0\n",
    "MAX_SENT_LENGTH = 0"
   ]
  },
  {
   "cell_type": "code",
   "execution_count": 3,
   "metadata": {},
   "outputs": [
    {
     "name": "stdout",
     "output_type": "stream",
     "text": [
      "NUM_SENT:            0\n",
      "NUM_INTENTS:         0\n",
      "NUM_INTENTS_UNIQUE:  0\n",
      "VOCABULARY_SIZE:     0\n",
      "MAX_SENT_LENGTH:     0\n"
     ]
    }
   ],
   "source": [
    "# SHOW GLOBAL VARIABLES\n",
    "print (\"NUM_SENT:           \", NUM_SENT)\n",
    "print (\"NUM_INTENTS:        \", NUM_INTENTS)\n",
    "print (\"NUM_INTENTS_UNIQUE: \", NUM_INTENTS_UNIQUE)\n",
    "print (\"VOCABULARY_SIZE:    \", VOCABULARY_SIZE)\n",
    "print (\"MAX_SENT_LENGTH:    \", MAX_SENT_LENGTH)"
   ]
  },
  {
   "cell_type": "markdown",
   "metadata": {},
   "source": [
    "# Read the data"
   ]
  },
  {
   "cell_type": "code",
   "execution_count": 5,
   "metadata": {
    "colab": {},
    "colab_type": "code",
    "id": "LE6wywJrN2ih"
   },
   "outputs": [
    {
     "name": "stdout",
     "output_type": "stream",
     "text": [
      "               Sentence      Intent\n",
      "0          Good Morning   greetings\n",
      "1                    Hi   greetings\n",
      "2  Good morning Dolores   greetings\n",
      "3           Hey Dolores   greetings\n",
      "4                 Hello   greetings\n"
     ]
    }
   ],
   "source": [
    "df = pd.read_csv(\"Dolores_Dataset_v01.csv\", encoding = \"latin1\", names = [\"Sentence\", \"Intent\"])\n",
    "print(df.head())\n",
    "intents            = df[\"Intent\"]\n",
    "NUM_INTENTS        = len(list(df[\"Intent\"]))\n",
    "intents_unique     = list(set(df[\"Intent\"]))\n",
    "NUM_INTENTS_UNIQUE = len(intents_unique)\n",
    "sentences          = list(df[\"Sentence\"])\n",
    "NUM_SENT           = len(sentences)\n",
    "\n"
   ]
  },
  {
   "cell_type": "code",
   "execution_count": 6,
   "metadata": {
    "colab": {
     "base_uri": "https://localhost:8080/",
     "height": 119
    },
    "colab_type": "code",
    "id": "tF0FQA7gjOCX",
    "outputId": "c609b42a-05da-49f5-8d11-bd670210f635",
    "scrolled": true
   },
   "outputs": [
    {
     "name": "stdout",
     "output_type": "stream",
     "text": [
      "Unique Intents: \n",
      "[' greetings', ' saveAppoint', ' getDate', ' getTime', ' saveLink', ' goodBye', ' toSetDownSomeOfThisNaturalSplendor', ' haveViolentEnds']\n",
      "Num of unique Intents:  8\n"
     ]
    }
   ],
   "source": [
    "print (\"Unique Intents: \")\n",
    "print (intents_unique)\n",
    "print (\"Num of unique Intents: \", len(intents_unique))\n"
   ]
  },
  {
   "cell_type": "code",
   "execution_count": 7,
   "metadata": {
    "scrolled": true
   },
   "outputs": [
    {
     "data": {
      "text/html": [
       "<div>\n",
       "<style scoped>\n",
       "    .dataframe tbody tr th:only-of-type {\n",
       "        vertical-align: middle;\n",
       "    }\n",
       "\n",
       "    .dataframe tbody tr th {\n",
       "        vertical-align: top;\n",
       "    }\n",
       "\n",
       "    .dataframe thead th {\n",
       "        text-align: right;\n",
       "    }\n",
       "</style>\n",
       "<table border=\"1\" class=\"dataframe\">\n",
       "  <thead>\n",
       "    <tr style=\"text-align: right;\">\n",
       "      <th></th>\n",
       "      <th>Sentence</th>\n",
       "      <th>Intent</th>\n",
       "    </tr>\n",
       "  </thead>\n",
       "  <tbody>\n",
       "    <tr>\n",
       "      <th>0</th>\n",
       "      <td>Good Morning</td>\n",
       "      <td>greetings</td>\n",
       "    </tr>\n",
       "    <tr>\n",
       "      <th>1</th>\n",
       "      <td>Hi</td>\n",
       "      <td>greetings</td>\n",
       "    </tr>\n",
       "    <tr>\n",
       "      <th>2</th>\n",
       "      <td>Good morning Dolores</td>\n",
       "      <td>greetings</td>\n",
       "    </tr>\n",
       "    <tr>\n",
       "      <th>3</th>\n",
       "      <td>Hey Dolores</td>\n",
       "      <td>greetings</td>\n",
       "    </tr>\n",
       "    <tr>\n",
       "      <th>4</th>\n",
       "      <td>Hello</td>\n",
       "      <td>greetings</td>\n",
       "    </tr>\n",
       "  </tbody>\n",
       "</table>\n",
       "</div>"
      ],
      "text/plain": [
       "               Sentence      Intent\n",
       "0          Good Morning   greetings\n",
       "1                    Hi   greetings\n",
       "2  Good morning Dolores   greetings\n",
       "3           Hey Dolores   greetings\n",
       "4                 Hello   greetings"
      ]
     },
     "execution_count": 7,
     "metadata": {},
     "output_type": "execute_result"
    }
   ],
   "source": [
    "df.head()"
   ]
  },
  {
   "cell_type": "code",
   "execution_count": 8,
   "metadata": {},
   "outputs": [
    {
     "data": {
      "text/plain": [
       "(32, 2)"
      ]
     },
     "execution_count": 8,
     "metadata": {},
     "output_type": "execute_result"
    }
   ],
   "source": [
    "df.shape"
   ]
  },
  {
   "cell_type": "code",
   "execution_count": 9,
   "metadata": {
    "colab": {
     "base_uri": "https://localhost:8080/",
     "height": 34
    },
    "colab_type": "code",
    "id": "O8LLUZlokg0S",
    "outputId": "c15c21dc-2ef2-43b7-b4af-e7ee9e014091"
   },
   "outputs": [
    {
     "name": "stdout",
     "output_type": "stream",
     "text": [
      "['Good Morning', 'Hi', 'Good morning Dolores', 'Hey Dolores', 'Hello']\n"
     ]
    }
   ],
   "source": [
    "print(sentences[:5])"
   ]
  },
  {
   "cell_type": "markdown",
   "metadata": {},
   "source": [
    "# Word Cleaning\n",
    "re.sub is a routine from the \"Regular Expression\" Library.     \n",
    "r'string' means that this is a \"raw string\", where backslashes are treated as charachters.    \n",
    "re.sub(r'[^ a-z A-Z 0-9]', \" \", s) means that all characters exept a-z, A-Z and 0-9 will be replaced by space."
   ]
  },
  {
   "cell_type": "code",
   "execution_count": 10,
   "metadata": {
    "colab": {},
    "colab_type": "code",
    "id": "j-7q3iG5PKYI"
   },
   "outputs": [
    {
     "name": "stdout",
     "output_type": "stream",
     "text": [
      "[['good', 'morning'], ['hi'], ['good', 'morning', 'dolores'], ['hey', 'dolores'], ['hello']]\n",
      "Len of clean_sent:  32\n"
     ]
    }
   ],
   "source": [
    "clean_sent = []\n",
    "for s in sentences:\n",
    "    clean = re.sub(r'[^ a-z A-Z 0-9]', \" \", s)\n",
    "    w = word_tokenize(clean)\n",
    "    clean_sent.append([i.lower() for i in w])\n",
    "\n",
    "print (clean_sent[:5])\n",
    "print(\"Len of clean_sent: \", len(clean_sent))\n"
   ]
  },
  {
   "cell_type": "markdown",
   "metadata": {},
   "source": [
    "### Documentation for Tokenizer:\n",
    "https://www.tensorflow.org/api_docs/python/tf/keras/preprocessing/text/Tokenizer"
   ]
  },
  {
   "cell_type": "code",
   "execution_count": 15,
   "metadata": {
    "colab": {},
    "colab_type": "code",
    "id": "SJCQ_YhBJW7t"
   },
   "outputs": [
    {
     "name": "stdout",
     "output_type": "stream",
     "text": [
      "Max sent length:  5\n"
     ]
    }
   ],
   "source": [
    "token = Tokenizer(filters = '!\"#$%&()*+,-./:;<=>?@[\\]^_`{|}~')\n",
    "token.fit_on_texts(clean_sent)\n",
    "VOCABULARY_SIZE = len(token.word_index) + 1\n",
    "MAX_SENT_LENGTH = len(max(clean_sent, key = len))\n",
    "\n",
    "#print(\"Vocab Size = %d. Maximum sent length = %d\" % (vocab_size, max_sent_length))\n",
    "print (\"Max sent length: \", MAX_SENT_LENGTH)\n",
    "encoded_sent = token.texts_to_sequences(clean_sent)\n",
    "padded_sent = pad_sequences(encoded_sent, maxlen = MAX_SENT_LENGTH, padding = \"post\")\n"
   ]
  },
  {
   "cell_type": "code",
   "execution_count": 16,
   "metadata": {},
   "outputs": [
    {
     "name": "stdout",
     "output_type": "stream",
     "text": [
      "[[10, 14], [24], [10, 14, 4], [25, 4], [15], [15, 4], [5], [5, 5], [26], [10, 5], [16, 11], [16, 11, 4], [5, 4], [6, 17, 3, 9], [6, 9, 18, 27], [9], [28, 19, 3, 9], [6, 18, 3, 7, 29], [6, 7, 20, 21, 22], [30, 7, 20, 21, 22], [6, 17, 3, 7], [31, 32, 33], [11, 34, 35], [1, 2, 12], [13, 1, 2, 12], [1, 3, 36, 12], [1, 3, 37, 7], [1, 2, 8, 38, 19], [1, 2, 8], [13, 1, 2, 8], [1, 2, 23, 8, 13], [1, 2, 23, 8]]\n",
      "Num of Sentences:  32\n"
     ]
    }
   ],
   "source": [
    "print (encoded_sent)\n",
    "print (\"Num of Sentences: \", len(encoded_sent))"
   ]
  },
  {
   "cell_type": "code",
   "execution_count": 17,
   "metadata": {
    "colab": {
     "base_uri": "https://localhost:8080/",
     "height": 272
    },
    "colab_type": "code",
    "id": "gDgTCS2KdI2p",
    "outputId": "ac5332cd-0a0f-4311-8db4-22df92728d90"
   },
   "outputs": [
    {
     "data": {
      "text/plain": [
       "array([[10, 14,  0,  0,  0],\n",
       "       [24,  0,  0,  0,  0],\n",
       "       [10, 14,  4,  0,  0],\n",
       "       [25,  4,  0,  0,  0],\n",
       "       [15,  0,  0,  0,  0]], dtype=int32)"
      ]
     },
     "execution_count": 17,
     "metadata": {},
     "output_type": "execute_result"
    }
   ],
   "source": [
    "padded_sent[:5]"
   ]
  },
  {
   "cell_type": "code",
   "execution_count": 18,
   "metadata": {
    "colab": {
     "base_uri": "https://localhost:8080/",
     "height": 34
    },
    "colab_type": "code",
    "id": "3eaSIDi0dNf1",
    "outputId": "4ab6b6dd-ffa4-4061-9e9d-7a01decfa837"
   },
   "outputs": [
    {
     "name": "stdout",
     "output_type": "stream",
     "text": [
      "Shape of padded sent =  (32, 5)\n"
     ]
    }
   ],
   "source": [
    "print(\"Shape of padded sent = \",padded_sent.shape)"
   ]
  },
  {
   "cell_type": "markdown",
   "metadata": {},
   "source": [
    "# Tokenizing the intents"
   ]
  },
  {
   "cell_type": "code",
   "execution_count": 19,
   "metadata": {
    "colab": {},
    "colab_type": "code",
    "id": "X0rXzenSpgFR"
   },
   "outputs": [],
   "source": [
    "#tokenizer for the intents\n",
    "token_intents = Tokenizer(filters = '!\"#$%&()*+,-/:;<=>?@[\\]^`{|}~')\n",
    "token_intents.fit_on_texts(intents_unique)\n"
   ]
  },
  {
   "cell_type": "code",
   "execution_count": 20,
   "metadata": {
    "colab": {
     "base_uri": "https://localhost:8080/",
     "height": 374
    },
    "colab_type": "code",
    "id": "yNHQtkszskxr",
    "outputId": "f5babc01-89e3-4392-e8e6-c9f257de3d07"
   },
   "outputs": [
    {
     "data": {
      "text/plain": [
       "{'greetings': 1,\n",
       " 'saveappoint': 2,\n",
       " 'getdate': 3,\n",
       " 'gettime': 4,\n",
       " 'savelink': 5,\n",
       " 'goodbye': 6,\n",
       " 'tosetdownsomeofthisnaturalsplendor': 7,\n",
       " 'haveviolentends': 8}"
      ]
     },
     "execution_count": 20,
     "metadata": {},
     "output_type": "execute_result"
    }
   ],
   "source": [
    "token_intents.word_index"
   ]
  },
  {
   "cell_type": "code",
   "execution_count": 21,
   "metadata": {
    "colab": {},
    "colab_type": "code",
    "id": "7OOx9qdBto1-"
   },
   "outputs": [],
   "source": [
    "encoded_output = token_intents.texts_to_sequences(intents)\n"
   ]
  },
  {
   "cell_type": "code",
   "execution_count": 22,
   "metadata": {
    "scrolled": true
   },
   "outputs": [
    {
     "name": "stdout",
     "output_type": "stream",
     "text": [
      "[[1], [1], [1], [1], [1], [1], [6], [6], [6], [6], [6], [6], [6], [4], [4], [4], [4], [3], [3], [3], [3], [8], [7], [2], [2], [2], [2], [5], [5], [5], [5], [5]]\n"
     ]
    }
   ],
   "source": [
    "print (encoded_output)\n"
   ]
  },
  {
   "cell_type": "code",
   "execution_count": 23,
   "metadata": {
    "colab": {},
    "colab_type": "code",
    "id": "0_5Lv5PiyG-z"
   },
   "outputs": [],
   "source": [
    "encoded_output = np.array(encoded_output).reshape(len(encoded_output), 1)"
   ]
  },
  {
   "cell_type": "code",
   "execution_count": 24,
   "metadata": {},
   "outputs": [
    {
     "data": {
      "text/plain": [
       "numpy.ndarray"
      ]
     },
     "execution_count": 24,
     "metadata": {},
     "output_type": "execute_result"
    }
   ],
   "source": [
    "# print (encoded_output)\n",
    "type (encoded_output)"
   ]
  },
  {
   "cell_type": "code",
   "execution_count": 25,
   "metadata": {
    "colab": {
     "base_uri": "https://localhost:8080/",
     "height": 34
    },
    "colab_type": "code",
    "id": "dpM86WrVQlx5",
    "outputId": "71ff52a6-b3d0-4b5c-850d-5dc0a56c8aa9"
   },
   "outputs": [
    {
     "data": {
      "text/plain": [
       "(32, 1)"
      ]
     },
     "execution_count": 25,
     "metadata": {},
     "output_type": "execute_result"
    }
   ],
   "source": [
    "encoded_output.shape"
   ]
  },
  {
   "cell_type": "code",
   "execution_count": 26,
   "metadata": {
    "colab": {},
    "colab_type": "code",
    "id": "rD3QN-RPzfet"
   },
   "outputs": [],
   "source": [
    "one_hot = OneHotEncoder(sparse = False)\n",
    "output_one_hot = one_hot.fit_transform(encoded_output)"
   ]
  },
  {
   "cell_type": "code",
   "execution_count": 27,
   "metadata": {
    "colab": {
     "base_uri": "https://localhost:8080/",
     "height": 34
    },
    "colab_type": "code",
    "id": "A6HVslLTHgOM",
    "outputId": "752962df-02d8-409b-fb8f-adb06227161d"
   },
   "outputs": [
    {
     "data": {
      "text/plain": [
       "(32, 8)"
      ]
     },
     "execution_count": 27,
     "metadata": {},
     "output_type": "execute_result"
    }
   ],
   "source": [
    "output_one_hot.shape"
   ]
  },
  {
   "cell_type": "markdown",
   "metadata": {},
   "source": [
    "# Define Training- and Testset"
   ]
  },
  {
   "cell_type": "code",
   "execution_count": 28,
   "metadata": {
    "colab": {},
    "colab_type": "code",
    "id": "EqABUESD7xi9"
   },
   "outputs": [],
   "source": [
    "from sklearn.model_selection import train_test_split"
   ]
  },
  {
   "cell_type": "code",
   "execution_count": 30,
   "metadata": {
    "colab": {},
    "colab_type": "code",
    "id": "h8P4HTz6A4E-"
   },
   "outputs": [],
   "source": [
    "# train_X, val_X, train_Y, val_Y = train_test_split(padded_sent, output_one_hot, shuffle = True, test_size = 0.1)\n",
    "train_X = padded_sent\n",
    "train_Y = output_one_hot\n",
    "val_X   = train_X\n",
    "val_Y   = train_Y\n"
   ]
  },
  {
   "cell_type": "code",
   "execution_count": 31,
   "metadata": {
    "colab": {
     "base_uri": "https://localhost:8080/",
     "height": 51
    },
    "colab_type": "code",
    "id": "7E0uhC2OCtTx",
    "outputId": "6ce0e215-aa3f-43f1-ba5a-0b584b25a35c",
    "scrolled": true
   },
   "outputs": [
    {
     "name": "stdout",
     "output_type": "stream",
     "text": [
      "Shape of train_X = (32, 5) and train_Y = (32, 8)\n",
      "Shape of val_X = (32, 5) and val_Y = (32, 8)\n"
     ]
    }
   ],
   "source": [
    "print(\"Shape of train_X = %s and train_Y = %s\" % (train_X.shape, train_Y.shape))\n",
    "print(\"Shape of val_X = %s and val_Y = %s\" % (val_X.shape, val_Y.shape))"
   ]
  },
  {
   "cell_type": "markdown",
   "metadata": {},
   "source": [
    "# Defining the Model"
   ]
  },
  {
   "cell_type": "code",
   "execution_count": 32,
   "metadata": {
    "colab": {},
    "colab_type": "code",
    "id": "e5BU_x74DNEb"
   },
   "outputs": [
    {
     "name": "stdout",
     "output_type": "stream",
     "text": [
      "WARNING:tensorflow:From /Users/cwindheu/anaconda3/lib/python3.7/site-packages/tensorflow/python/framework/op_def_library.py:263: colocate_with (from tensorflow.python.framework.ops) is deprecated and will be removed in a future version.\n",
      "Instructions for updating:\n",
      "Colocations handled automatically by placer.\n",
      "WARNING:tensorflow:From /Users/cwindheu/anaconda3/lib/python3.7/site-packages/keras/backend/tensorflow_backend.py:3733: calling dropout (from tensorflow.python.ops.nn_ops) with keep_prob is deprecated and will be removed in a future version.\n",
      "Instructions for updating:\n",
      "Please use `rate` instead of `keep_prob`. Rate should be set to `rate = 1 - keep_prob`.\n",
      "Model: \"sequential_1\"\n",
      "_________________________________________________________________\n",
      "Layer (type)                 Output Shape              Param #   \n",
      "=================================================================\n",
      "embedding_1 (Embedding)      (None, 5, 128)            4992      \n",
      "_________________________________________________________________\n",
      "bidirectional_1 (Bidirection (None, 256)               263168    \n",
      "_________________________________________________________________\n",
      "dense_1 (Dense)              (None, 32)                8224      \n",
      "_________________________________________________________________\n",
      "dropout_1 (Dropout)          (None, 32)                0         \n",
      "_________________________________________________________________\n",
      "dense_2 (Dense)              (None, 8)                 264       \n",
      "=================================================================\n",
      "Total params: 276,648\n",
      "Trainable params: 271,656\n",
      "Non-trainable params: 4,992\n",
      "_________________________________________________________________\n"
     ]
    }
   ],
   "source": [
    "model = Sequential()\n",
    "model.add(Embedding(VOCABULARY_SIZE, 128, input_length = MAX_SENT_LENGTH, trainable = False))\n",
    "model.add(Bidirectional(LSTM(128)))\n",
    "model.add(Dense(32, activation = \"relu\"))\n",
    "model.add(Dropout(0.5))\n",
    "model.add(Dense(NUM_INTENTS_UNIQUE, activation = \"softmax\"))\n",
    "\n",
    "model.compile(loss = \"categorical_crossentropy\", optimizer = \"adam\", metrics = [\"accuracy\"])\n",
    "model.summary()"
   ]
  },
  {
   "cell_type": "markdown",
   "metadata": {},
   "source": [
    "# Training the Model"
   ]
  },
  {
   "cell_type": "code",
   "execution_count": 33,
   "metadata": {
    "colab": {
     "base_uri": "https://localhost:8080/",
     "height": 6834
    },
    "colab_type": "code",
    "id": "_r-dxm2sMQ-d",
    "outputId": "3c37b4f8-fc4e-4c82-ab46-2aa1d8b47ffd"
   },
   "outputs": [
    {
     "name": "stdout",
     "output_type": "stream",
     "text": [
      "WARNING:tensorflow:From /Users/cwindheu/anaconda3/lib/python3.7/site-packages/tensorflow/python/ops/math_ops.py:3066: to_int32 (from tensorflow.python.ops.math_ops) is deprecated and will be removed in a future version.\n",
      "Instructions for updating:\n",
      "Use tf.cast instead.\n",
      "Train on 32 samples, validate on 32 samples\n",
      "Epoch 1/100\n",
      "32/32 [==============================] - 1s 42ms/step - loss: 2.0783 - acc: 0.1250 - val_loss: 2.0720 - val_acc: 0.2500\n",
      "\n",
      "Epoch 00001: val_loss improved from inf to 2.07198, saving model to dir_01.h5\n",
      "Epoch 2/100\n",
      "32/32 [==============================] - 0s 448us/step - loss: 2.0715 - acc: 0.2500 - val_loss: 2.0641 - val_acc: 0.2812\n",
      "\n",
      "Epoch 00002: val_loss improved from 2.07198 to 2.06405, saving model to dir_01.h5\n",
      "Epoch 3/100\n",
      "32/32 [==============================] - 0s 408us/step - loss: 2.0649 - acc: 0.1875 - val_loss: 2.0564 - val_acc: 0.4375\n",
      "\n",
      "Epoch 00003: val_loss improved from 2.06405 to 2.05644, saving model to dir_01.h5\n",
      "Epoch 4/100\n",
      "32/32 [==============================] - 0s 490us/step - loss: 2.0502 - acc: 0.3125 - val_loss: 2.0487 - val_acc: 0.4375\n",
      "\n",
      "Epoch 00004: val_loss improved from 2.05644 to 2.04865, saving model to dir_01.h5\n",
      "Epoch 5/100\n",
      "32/32 [==============================] - 0s 568us/step - loss: 2.0458 - acc: 0.3125 - val_loss: 2.0404 - val_acc: 0.4375\n",
      "\n",
      "Epoch 00005: val_loss improved from 2.04865 to 2.04035, saving model to dir_01.h5\n",
      "Epoch 6/100\n",
      "32/32 [==============================] - 0s 405us/step - loss: 2.0521 - acc: 0.3125 - val_loss: 2.0318 - val_acc: 0.4375\n",
      "\n",
      "Epoch 00006: val_loss improved from 2.04035 to 2.03178, saving model to dir_01.h5\n",
      "Epoch 7/100\n",
      "32/32 [==============================] - 0s 988us/step - loss: 2.0338 - acc: 0.2812 - val_loss: 2.0228 - val_acc: 0.4375\n",
      "\n",
      "Epoch 00007: val_loss improved from 2.03178 to 2.02280, saving model to dir_01.h5\n",
      "Epoch 8/100\n",
      "32/32 [==============================] - 0s 514us/step - loss: 2.0316 - acc: 0.4375 - val_loss: 2.0132 - val_acc: 0.4375\n",
      "\n",
      "Epoch 00008: val_loss improved from 2.02280 to 2.01315, saving model to dir_01.h5\n",
      "Epoch 9/100\n",
      "32/32 [==============================] - 0s 542us/step - loss: 2.0048 - acc: 0.4688 - val_loss: 2.0024 - val_acc: 0.4375\n",
      "\n",
      "Epoch 00009: val_loss improved from 2.01315 to 2.00237, saving model to dir_01.h5\n",
      "Epoch 10/100\n",
      "32/32 [==============================] - 0s 553us/step - loss: 2.0225 - acc: 0.3438 - val_loss: 1.9910 - val_acc: 0.4062\n",
      "\n",
      "Epoch 00010: val_loss improved from 2.00237 to 1.99096, saving model to dir_01.h5\n",
      "Epoch 11/100\n",
      "32/32 [==============================] - 0s 552us/step - loss: 1.9826 - acc: 0.4375 - val_loss: 1.9790 - val_acc: 0.3750\n",
      "\n",
      "Epoch 00011: val_loss improved from 1.99096 to 1.97899, saving model to dir_01.h5\n",
      "Epoch 12/100\n",
      "32/32 [==============================] - 0s 625us/step - loss: 1.9880 - acc: 0.4062 - val_loss: 1.9668 - val_acc: 0.3750\n",
      "\n",
      "Epoch 00012: val_loss improved from 1.97899 to 1.96681, saving model to dir_01.h5\n",
      "Epoch 13/100\n",
      "32/32 [==============================] - 0s 658us/step - loss: 1.9658 - acc: 0.4062 - val_loss: 1.9536 - val_acc: 0.3750\n",
      "\n",
      "Epoch 00013: val_loss improved from 1.96681 to 1.95362, saving model to dir_01.h5\n",
      "Epoch 14/100\n",
      "32/32 [==============================] - 0s 411us/step - loss: 1.9687 - acc: 0.4062 - val_loss: 1.9394 - val_acc: 0.3750\n",
      "\n",
      "Epoch 00014: val_loss improved from 1.95362 to 1.93943, saving model to dir_01.h5\n",
      "Epoch 15/100\n",
      "32/32 [==============================] - 0s 549us/step - loss: 1.9176 - acc: 0.4062 - val_loss: 1.9240 - val_acc: 0.3750\n",
      "\n",
      "Epoch 00015: val_loss improved from 1.93943 to 1.92402, saving model to dir_01.h5\n",
      "Epoch 16/100\n",
      "32/32 [==============================] - 0s 741us/step - loss: 1.9526 - acc: 0.4062 - val_loss: 1.9079 - val_acc: 0.3750\n",
      "\n",
      "Epoch 00016: val_loss improved from 1.92402 to 1.90788, saving model to dir_01.h5\n",
      "Epoch 17/100\n",
      "32/32 [==============================] - 0s 582us/step - loss: 1.9272 - acc: 0.3750 - val_loss: 1.8911 - val_acc: 0.3750\n",
      "\n",
      "Epoch 00017: val_loss improved from 1.90788 to 1.89111, saving model to dir_01.h5\n",
      "Epoch 18/100\n",
      "32/32 [==============================] - 0s 584us/step - loss: 1.8921 - acc: 0.4062 - val_loss: 1.8737 - val_acc: 0.4062\n",
      "\n",
      "Epoch 00018: val_loss improved from 1.89111 to 1.87367, saving model to dir_01.h5\n",
      "Epoch 19/100\n",
      "32/32 [==============================] - 0s 568us/step - loss: 1.8725 - acc: 0.3750 - val_loss: 1.8553 - val_acc: 0.4062\n",
      "\n",
      "Epoch 00019: val_loss improved from 1.87367 to 1.85526, saving model to dir_01.h5\n",
      "Epoch 20/100\n",
      "32/32 [==============================] - 0s 1ms/step - loss: 1.8521 - acc: 0.3750 - val_loss: 1.8360 - val_acc: 0.4062\n",
      "\n",
      "Epoch 00020: val_loss improved from 1.85526 to 1.83604, saving model to dir_01.h5\n",
      "Epoch 21/100\n",
      "32/32 [==============================] - 0s 640us/step - loss: 1.8200 - acc: 0.3750 - val_loss: 1.8154 - val_acc: 0.4062\n",
      "\n",
      "Epoch 00021: val_loss improved from 1.83604 to 1.81542, saving model to dir_01.h5\n",
      "Epoch 22/100\n",
      "32/32 [==============================] - 0s 514us/step - loss: 1.8680 - acc: 0.3438 - val_loss: 1.7942 - val_acc: 0.4375\n",
      "\n",
      "Epoch 00022: val_loss improved from 1.81542 to 1.79420, saving model to dir_01.h5\n",
      "Epoch 23/100\n",
      "32/32 [==============================] - 0s 419us/step - loss: 1.8486 - acc: 0.3750 - val_loss: 1.7729 - val_acc: 0.4375\n",
      "\n",
      "Epoch 00023: val_loss improved from 1.79420 to 1.77287, saving model to dir_01.h5\n",
      "Epoch 24/100\n",
      "32/32 [==============================] - 0s 489us/step - loss: 1.8426 - acc: 0.3438 - val_loss: 1.7521 - val_acc: 0.4375\n",
      "\n",
      "Epoch 00024: val_loss improved from 1.77287 to 1.75206, saving model to dir_01.h5\n",
      "Epoch 25/100\n",
      "32/32 [==============================] - 0s 496us/step - loss: 1.7182 - acc: 0.4688 - val_loss: 1.7299 - val_acc: 0.4375\n",
      "\n",
      "Epoch 00025: val_loss improved from 1.75206 to 1.72986, saving model to dir_01.h5\n",
      "Epoch 26/100\n",
      "32/32 [==============================] - 0s 417us/step - loss: 1.7111 - acc: 0.3750 - val_loss: 1.7063 - val_acc: 0.4375\n",
      "\n",
      "Epoch 00026: val_loss improved from 1.72986 to 1.70635, saving model to dir_01.h5\n",
      "Epoch 27/100\n",
      "32/32 [==============================] - 0s 556us/step - loss: 1.7597 - acc: 0.4062 - val_loss: 1.6826 - val_acc: 0.4375\n",
      "\n",
      "Epoch 00027: val_loss improved from 1.70635 to 1.68265, saving model to dir_01.h5\n",
      "Epoch 28/100\n",
      "32/32 [==============================] - 0s 524us/step - loss: 1.7586 - acc: 0.4062 - val_loss: 1.6593 - val_acc: 0.4375\n",
      "\n",
      "Epoch 00028: val_loss improved from 1.68265 to 1.65928, saving model to dir_01.h5\n",
      "Epoch 29/100\n",
      "32/32 [==============================] - 0s 581us/step - loss: 1.6740 - acc: 0.3750 - val_loss: 1.6364 - val_acc: 0.4375\n",
      "\n",
      "Epoch 00029: val_loss improved from 1.65928 to 1.63642, saving model to dir_01.h5\n",
      "Epoch 30/100\n",
      "32/32 [==============================] - 0s 1ms/step - loss: 1.7351 - acc: 0.4062 - val_loss: 1.6131 - val_acc: 0.4375\n",
      "\n",
      "Epoch 00030: val_loss improved from 1.63642 to 1.61310, saving model to dir_01.h5\n",
      "Epoch 31/100\n",
      "32/32 [==============================] - 0s 1ms/step - loss: 1.7285 - acc: 0.4375 - val_loss: 1.5898 - val_acc: 0.4688\n",
      "\n",
      "Epoch 00031: val_loss improved from 1.61310 to 1.58979, saving model to dir_01.h5\n",
      "Epoch 32/100\n",
      "32/32 [==============================] - 0s 1ms/step - loss: 1.5989 - acc: 0.4375 - val_loss: 1.5648 - val_acc: 0.4688\n",
      "\n",
      "Epoch 00032: val_loss improved from 1.58979 to 1.56475, saving model to dir_01.h5\n",
      "Epoch 33/100\n",
      "32/32 [==============================] - 0s 843us/step - loss: 1.7161 - acc: 0.3750 - val_loss: 1.5396 - val_acc: 0.5000\n",
      "\n",
      "Epoch 00033: val_loss improved from 1.56475 to 1.53959, saving model to dir_01.h5\n",
      "Epoch 34/100\n",
      "32/32 [==============================] - 0s 746us/step - loss: 1.5650 - acc: 0.5000 - val_loss: 1.5137 - val_acc: 0.5000\n",
      "\n",
      "Epoch 00034: val_loss improved from 1.53959 to 1.51371, saving model to dir_01.h5\n",
      "Epoch 35/100\n",
      "32/32 [==============================] - 0s 525us/step - loss: 1.5819 - acc: 0.5000 - val_loss: 1.4874 - val_acc: 0.5000\n",
      "\n",
      "Epoch 00035: val_loss improved from 1.51371 to 1.48737, saving model to dir_01.h5\n",
      "Epoch 36/100\n",
      "32/32 [==============================] - 0s 662us/step - loss: 1.5860 - acc: 0.5312 - val_loss: 1.4601 - val_acc: 0.5000\n",
      "\n",
      "Epoch 00036: val_loss improved from 1.48737 to 1.46012, saving model to dir_01.h5\n",
      "Epoch 37/100\n",
      "32/32 [==============================] - 0s 550us/step - loss: 1.4966 - acc: 0.5312 - val_loss: 1.4321 - val_acc: 0.5000\n"
     ]
    },
    {
     "name": "stdout",
     "output_type": "stream",
     "text": [
      "\n",
      "Epoch 00037: val_loss improved from 1.46012 to 1.43210, saving model to dir_01.h5\n",
      "Epoch 38/100\n",
      "32/32 [==============================] - 0s 489us/step - loss: 1.5620 - acc: 0.4688 - val_loss: 1.4053 - val_acc: 0.5312\n",
      "\n",
      "Epoch 00038: val_loss improved from 1.43210 to 1.40526, saving model to dir_01.h5\n",
      "Epoch 39/100\n",
      "32/32 [==============================] - 0s 451us/step - loss: 1.4736 - acc: 0.5312 - val_loss: 1.3780 - val_acc: 0.5312\n",
      "\n",
      "Epoch 00039: val_loss improved from 1.40526 to 1.37799, saving model to dir_01.h5\n",
      "Epoch 40/100\n",
      "32/32 [==============================] - 0s 589us/step - loss: 1.5003 - acc: 0.4062 - val_loss: 1.3499 - val_acc: 0.5312\n",
      "\n",
      "Epoch 00040: val_loss improved from 1.37799 to 1.34988, saving model to dir_01.h5\n",
      "Epoch 41/100\n",
      "32/32 [==============================] - 0s 508us/step - loss: 1.4469 - acc: 0.4375 - val_loss: 1.3202 - val_acc: 0.5312\n",
      "\n",
      "Epoch 00041: val_loss improved from 1.34988 to 1.32017, saving model to dir_01.h5\n",
      "Epoch 42/100\n",
      "32/32 [==============================] - 0s 515us/step - loss: 1.4410 - acc: 0.4375 - val_loss: 1.2896 - val_acc: 0.5312\n",
      "\n",
      "Epoch 00042: val_loss improved from 1.32017 to 1.28965, saving model to dir_01.h5\n",
      "Epoch 43/100\n",
      "32/32 [==============================] - 0s 584us/step - loss: 1.5510 - acc: 0.4688 - val_loss: 1.2624 - val_acc: 0.5625\n",
      "\n",
      "Epoch 00043: val_loss improved from 1.28965 to 1.26243, saving model to dir_01.h5\n",
      "Epoch 44/100\n",
      "32/32 [==============================] - 0s 517us/step - loss: 1.4321 - acc: 0.5312 - val_loss: 1.2379 - val_acc: 0.5938\n",
      "\n",
      "Epoch 00044: val_loss improved from 1.26243 to 1.23793, saving model to dir_01.h5\n",
      "Epoch 45/100\n",
      "32/32 [==============================] - 0s 493us/step - loss: 1.2950 - acc: 0.5938 - val_loss: 1.2129 - val_acc: 0.5938\n",
      "\n",
      "Epoch 00045: val_loss improved from 1.23793 to 1.21287, saving model to dir_01.h5\n",
      "Epoch 46/100\n",
      "32/32 [==============================] - 0s 558us/step - loss: 1.3463 - acc: 0.4688 - val_loss: 1.1885 - val_acc: 0.5938\n",
      "\n",
      "Epoch 00046: val_loss improved from 1.21287 to 1.18851, saving model to dir_01.h5\n",
      "Epoch 47/100\n",
      "32/32 [==============================] - 0s 579us/step - loss: 1.3832 - acc: 0.5625 - val_loss: 1.1640 - val_acc: 0.5938\n",
      "\n",
      "Epoch 00047: val_loss improved from 1.18851 to 1.16401, saving model to dir_01.h5\n",
      "Epoch 48/100\n",
      "32/32 [==============================] - 0s 540us/step - loss: 1.3355 - acc: 0.5312 - val_loss: 1.1368 - val_acc: 0.5625\n",
      "\n",
      "Epoch 00048: val_loss improved from 1.16401 to 1.13676, saving model to dir_01.h5\n",
      "Epoch 49/100\n",
      "32/32 [==============================] - 0s 584us/step - loss: 1.3783 - acc: 0.5625 - val_loss: 1.1104 - val_acc: 0.5938\n",
      "\n",
      "Epoch 00049: val_loss improved from 1.13676 to 1.11042, saving model to dir_01.h5\n",
      "Epoch 50/100\n",
      "32/32 [==============================] - 0s 513us/step - loss: 1.3339 - acc: 0.5000 - val_loss: 1.0846 - val_acc: 0.5938\n",
      "\n",
      "Epoch 00050: val_loss improved from 1.11042 to 1.08458, saving model to dir_01.h5\n",
      "Epoch 51/100\n",
      "32/32 [==============================] - 0s 570us/step - loss: 1.1693 - acc: 0.5938 - val_loss: 1.0555 - val_acc: 0.5938\n",
      "\n",
      "Epoch 00051: val_loss improved from 1.08458 to 1.05547, saving model to dir_01.h5\n",
      "Epoch 52/100\n",
      "32/32 [==============================] - 0s 540us/step - loss: 1.0939 - acc: 0.5625 - val_loss: 1.0248 - val_acc: 0.6250\n",
      "\n",
      "Epoch 00052: val_loss improved from 1.05547 to 1.02477, saving model to dir_01.h5\n",
      "Epoch 53/100\n",
      "32/32 [==============================] - 0s 663us/step - loss: 1.1336 - acc: 0.5625 - val_loss: 0.9923 - val_acc: 0.6562\n",
      "\n",
      "Epoch 00053: val_loss improved from 1.02477 to 0.99234, saving model to dir_01.h5\n",
      "Epoch 54/100\n",
      "32/32 [==============================] - 0s 599us/step - loss: 1.1415 - acc: 0.5938 - val_loss: 0.9605 - val_acc: 0.6562\n",
      "\n",
      "Epoch 00054: val_loss improved from 0.99234 to 0.96051, saving model to dir_01.h5\n",
      "Epoch 55/100\n",
      "32/32 [==============================] - 0s 940us/step - loss: 0.9454 - acc: 0.6562 - val_loss: 0.9281 - val_acc: 0.6562\n",
      "\n",
      "Epoch 00055: val_loss improved from 0.96051 to 0.92810, saving model to dir_01.h5\n",
      "Epoch 56/100\n",
      "32/32 [==============================] - 0s 576us/step - loss: 1.0648 - acc: 0.6875 - val_loss: 0.8950 - val_acc: 0.6875\n",
      "\n",
      "Epoch 00056: val_loss improved from 0.92810 to 0.89496, saving model to dir_01.h5\n",
      "Epoch 57/100\n",
      "32/32 [==============================] - 0s 517us/step - loss: 0.9291 - acc: 0.7188 - val_loss: 0.8607 - val_acc: 0.7188\n",
      "\n",
      "Epoch 00057: val_loss improved from 0.89496 to 0.86065, saving model to dir_01.h5\n",
      "Epoch 58/100\n",
      "32/32 [==============================] - 0s 556us/step - loss: 1.0079 - acc: 0.6562 - val_loss: 0.8268 - val_acc: 0.7188\n",
      "\n",
      "Epoch 00058: val_loss improved from 0.86065 to 0.82679, saving model to dir_01.h5\n",
      "Epoch 59/100\n",
      "32/32 [==============================] - 0s 601us/step - loss: 1.0602 - acc: 0.6250 - val_loss: 0.7912 - val_acc: 0.7812\n",
      "\n",
      "Epoch 00059: val_loss improved from 0.82679 to 0.79124, saving model to dir_01.h5\n",
      "Epoch 60/100\n",
      "32/32 [==============================] - 0s 806us/step - loss: 0.7545 - acc: 0.6875 - val_loss: 0.7553 - val_acc: 0.7812\n",
      "\n",
      "Epoch 00060: val_loss improved from 0.79124 to 0.75531, saving model to dir_01.h5\n",
      "Epoch 61/100\n",
      "32/32 [==============================] - 0s 555us/step - loss: 0.9504 - acc: 0.6562 - val_loss: 0.7209 - val_acc: 0.8125\n",
      "\n",
      "Epoch 00061: val_loss improved from 0.75531 to 0.72093, saving model to dir_01.h5\n",
      "Epoch 62/100\n",
      "32/32 [==============================] - 0s 561us/step - loss: 1.0408 - acc: 0.6875 - val_loss: 0.6944 - val_acc: 0.8125\n",
      "\n",
      "Epoch 00062: val_loss improved from 0.72093 to 0.69436, saving model to dir_01.h5\n",
      "Epoch 63/100\n",
      "32/32 [==============================] - 0s 588us/step - loss: 1.0441 - acc: 0.5938 - val_loss: 0.6666 - val_acc: 0.8125\n",
      "\n",
      "Epoch 00063: val_loss improved from 0.69436 to 0.66662, saving model to dir_01.h5\n",
      "Epoch 64/100\n",
      "32/32 [==============================] - 0s 580us/step - loss: 0.9216 - acc: 0.6562 - val_loss: 0.6365 - val_acc: 0.8438\n",
      "\n",
      "Epoch 00064: val_loss improved from 0.66662 to 0.63647, saving model to dir_01.h5\n",
      "Epoch 65/100\n",
      "32/32 [==============================] - 0s 536us/step - loss: 0.9145 - acc: 0.7188 - val_loss: 0.6107 - val_acc: 0.8438\n",
      "\n",
      "Epoch 00065: val_loss improved from 0.63647 to 0.61072, saving model to dir_01.h5\n",
      "Epoch 66/100\n",
      "32/32 [==============================] - 0s 592us/step - loss: 0.9380 - acc: 0.6562 - val_loss: 0.5877 - val_acc: 0.8438\n",
      "\n",
      "Epoch 00066: val_loss improved from 0.61072 to 0.58766, saving model to dir_01.h5\n",
      "Epoch 67/100\n",
      "32/32 [==============================] - 0s 591us/step - loss: 0.8425 - acc: 0.7500 - val_loss: 0.5664 - val_acc: 0.8750\n",
      "\n",
      "Epoch 00067: val_loss improved from 0.58766 to 0.56641, saving model to dir_01.h5\n",
      "Epoch 68/100\n",
      "32/32 [==============================] - 0s 540us/step - loss: 0.8150 - acc: 0.6875 - val_loss: 0.5472 - val_acc: 0.8750\n",
      "\n",
      "Epoch 00068: val_loss improved from 0.56641 to 0.54716, saving model to dir_01.h5\n",
      "Epoch 69/100\n",
      "32/32 [==============================] - 0s 563us/step - loss: 0.9133 - acc: 0.6250 - val_loss: 0.5261 - val_acc: 0.8750\n",
      "\n",
      "Epoch 00069: val_loss improved from 0.54716 to 0.52612, saving model to dir_01.h5\n",
      "Epoch 70/100\n",
      "32/32 [==============================] - 0s 571us/step - loss: 0.7317 - acc: 0.7500 - val_loss: 0.5055 - val_acc: 0.8750\n",
      "\n",
      "Epoch 00070: val_loss improved from 0.52612 to 0.50546, saving model to dir_01.h5\n",
      "Epoch 71/100\n",
      "32/32 [==============================] - 0s 547us/step - loss: 0.7076 - acc: 0.8438 - val_loss: 0.4862 - val_acc: 0.9062\n",
      "\n",
      "Epoch 00071: val_loss improved from 0.50546 to 0.48622, saving model to dir_01.h5\n",
      "Epoch 72/100\n",
      "32/32 [==============================] - 0s 518us/step - loss: 0.6488 - acc: 0.8438 - val_loss: 0.4678 - val_acc: 0.9062\n",
      "\n",
      "Epoch 00072: val_loss improved from 0.48622 to 0.46784, saving model to dir_01.h5\n",
      "Epoch 73/100\n",
      "32/32 [==============================] - 0s 486us/step - loss: 0.6246 - acc: 0.8438 - val_loss: 0.4523 - val_acc: 0.9062\n",
      "\n",
      "Epoch 00073: val_loss improved from 0.46784 to 0.45229, saving model to dir_01.h5\n",
      "Epoch 74/100\n",
      "32/32 [==============================] - 0s 463us/step - loss: 0.7236 - acc: 0.7500 - val_loss: 0.4357 - val_acc: 0.9062\n",
      "\n",
      "Epoch 00074: val_loss improved from 0.45229 to 0.43571, saving model to dir_01.h5\n",
      "Epoch 75/100\n",
      "32/32 [==============================] - 0s 547us/step - loss: 0.7717 - acc: 0.5938 - val_loss: 0.4185 - val_acc: 0.9062\n"
     ]
    },
    {
     "name": "stdout",
     "output_type": "stream",
     "text": [
      "\n",
      "Epoch 00075: val_loss improved from 0.43571 to 0.41850, saving model to dir_01.h5\n",
      "Epoch 76/100\n",
      "32/32 [==============================] - 0s 648us/step - loss: 0.7257 - acc: 0.7188 - val_loss: 0.3999 - val_acc: 0.9062\n",
      "\n",
      "Epoch 00076: val_loss improved from 0.41850 to 0.39986, saving model to dir_01.h5\n",
      "Epoch 77/100\n",
      "32/32 [==============================] - 0s 680us/step - loss: 0.6396 - acc: 0.7812 - val_loss: 0.3830 - val_acc: 0.9062\n",
      "\n",
      "Epoch 00077: val_loss improved from 0.39986 to 0.38300, saving model to dir_01.h5\n",
      "Epoch 78/100\n",
      "32/32 [==============================] - 0s 553us/step - loss: 0.6917 - acc: 0.8125 - val_loss: 0.3696 - val_acc: 0.8750\n",
      "\n",
      "Epoch 00078: val_loss improved from 0.38300 to 0.36955, saving model to dir_01.h5\n",
      "Epoch 79/100\n",
      "32/32 [==============================] - 0s 753us/step - loss: 0.5568 - acc: 0.7812 - val_loss: 0.3549 - val_acc: 0.8750\n",
      "\n",
      "Epoch 00079: val_loss improved from 0.36955 to 0.35489, saving model to dir_01.h5\n",
      "Epoch 80/100\n",
      "32/32 [==============================] - 0s 885us/step - loss: 0.5905 - acc: 0.7500 - val_loss: 0.3365 - val_acc: 0.8750\n",
      "\n",
      "Epoch 00080: val_loss improved from 0.35489 to 0.33653, saving model to dir_01.h5\n",
      "Epoch 81/100\n",
      "32/32 [==============================] - 0s 610us/step - loss: 0.5632 - acc: 0.8750 - val_loss: 0.3148 - val_acc: 0.9375\n",
      "\n",
      "Epoch 00081: val_loss improved from 0.33653 to 0.31481, saving model to dir_01.h5\n",
      "Epoch 82/100\n",
      "32/32 [==============================] - 0s 578us/step - loss: 0.6562 - acc: 0.7188 - val_loss: 0.2973 - val_acc: 0.9375\n",
      "\n",
      "Epoch 00082: val_loss improved from 0.31481 to 0.29726, saving model to dir_01.h5\n",
      "Epoch 83/100\n",
      "32/32 [==============================] - 0s 605us/step - loss: 0.4442 - acc: 0.8438 - val_loss: 0.2829 - val_acc: 0.9375\n",
      "\n",
      "Epoch 00083: val_loss improved from 0.29726 to 0.28289, saving model to dir_01.h5\n",
      "Epoch 84/100\n",
      "32/32 [==============================] - 0s 605us/step - loss: 0.5968 - acc: 0.7812 - val_loss: 0.2742 - val_acc: 0.9375\n",
      "\n",
      "Epoch 00084: val_loss improved from 0.28289 to 0.27419, saving model to dir_01.h5\n",
      "Epoch 85/100\n",
      "32/32 [==============================] - 0s 628us/step - loss: 0.4546 - acc: 0.8750 - val_loss: 0.2671 - val_acc: 0.9375\n",
      "\n",
      "Epoch 00085: val_loss improved from 0.27419 to 0.26714, saving model to dir_01.h5\n",
      "Epoch 86/100\n",
      "32/32 [==============================] - 0s 539us/step - loss: 0.4523 - acc: 0.8438 - val_loss: 0.2581 - val_acc: 0.9375\n",
      "\n",
      "Epoch 00086: val_loss improved from 0.26714 to 0.25807, saving model to dir_01.h5\n",
      "Epoch 87/100\n",
      "32/32 [==============================] - 0s 550us/step - loss: 0.5432 - acc: 0.8125 - val_loss: 0.2428 - val_acc: 0.9375\n",
      "\n",
      "Epoch 00087: val_loss improved from 0.25807 to 0.24277, saving model to dir_01.h5\n",
      "Epoch 88/100\n",
      "32/32 [==============================] - 0s 601us/step - loss: 0.3663 - acc: 0.8750 - val_loss: 0.2338 - val_acc: 0.9375\n",
      "\n",
      "Epoch 00088: val_loss improved from 0.24277 to 0.23382, saving model to dir_01.h5\n",
      "Epoch 89/100\n",
      "32/32 [==============================] - 0s 610us/step - loss: 0.4078 - acc: 0.9062 - val_loss: 0.2252 - val_acc: 0.9375\n",
      "\n",
      "Epoch 00089: val_loss improved from 0.23382 to 0.22520, saving model to dir_01.h5\n",
      "Epoch 90/100\n",
      "32/32 [==============================] - 0s 578us/step - loss: 0.4871 - acc: 0.8750 - val_loss: 0.2137 - val_acc: 0.9375\n",
      "\n",
      "Epoch 00090: val_loss improved from 0.22520 to 0.21375, saving model to dir_01.h5\n",
      "Epoch 91/100\n",
      "32/32 [==============================] - 0s 586us/step - loss: 0.4218 - acc: 0.8125 - val_loss: 0.2067 - val_acc: 0.9375\n",
      "\n",
      "Epoch 00091: val_loss improved from 0.21375 to 0.20670, saving model to dir_01.h5\n",
      "Epoch 92/100\n",
      "32/32 [==============================] - 0s 585us/step - loss: 0.5316 - acc: 0.7812 - val_loss: 0.1981 - val_acc: 0.9375\n",
      "\n",
      "Epoch 00092: val_loss improved from 0.20670 to 0.19808, saving model to dir_01.h5\n",
      "Epoch 93/100\n",
      "32/32 [==============================] - 0s 537us/step - loss: 0.4846 - acc: 0.8438 - val_loss: 0.1902 - val_acc: 0.9375\n",
      "\n",
      "Epoch 00093: val_loss improved from 0.19808 to 0.19024, saving model to dir_01.h5\n",
      "Epoch 94/100\n",
      "32/32 [==============================] - 0s 583us/step - loss: 0.4247 - acc: 0.8438 - val_loss: 0.1850 - val_acc: 0.9375\n",
      "\n",
      "Epoch 00094: val_loss improved from 0.19024 to 0.18504, saving model to dir_01.h5\n",
      "Epoch 95/100\n",
      "32/32 [==============================] - 0s 587us/step - loss: 0.4205 - acc: 0.7812 - val_loss: 0.1835 - val_acc: 0.9375\n",
      "\n",
      "Epoch 00095: val_loss improved from 0.18504 to 0.18351, saving model to dir_01.h5\n",
      "Epoch 96/100\n",
      "32/32 [==============================] - 0s 596us/step - loss: 0.3063 - acc: 0.9062 - val_loss: 0.1790 - val_acc: 0.9375\n",
      "\n",
      "Epoch 00096: val_loss improved from 0.18351 to 0.17896, saving model to dir_01.h5\n",
      "Epoch 97/100\n",
      "32/32 [==============================] - 0s 618us/step - loss: 0.3712 - acc: 0.8750 - val_loss: 0.1712 - val_acc: 0.9375\n",
      "\n",
      "Epoch 00097: val_loss improved from 0.17896 to 0.17118, saving model to dir_01.h5\n",
      "Epoch 98/100\n",
      "32/32 [==============================] - 0s 549us/step - loss: 0.4411 - acc: 0.8438 - val_loss: 0.1643 - val_acc: 0.9375\n",
      "\n",
      "Epoch 00098: val_loss improved from 0.17118 to 0.16429, saving model to dir_01.h5\n",
      "Epoch 99/100\n",
      "32/32 [==============================] - 0s 564us/step - loss: 0.4507 - acc: 0.8125 - val_loss: 0.1602 - val_acc: 0.9375\n",
      "\n",
      "Epoch 00099: val_loss improved from 0.16429 to 0.16020, saving model to dir_01.h5\n",
      "Epoch 100/100\n",
      "32/32 [==============================] - 0s 569us/step - loss: 0.3191 - acc: 0.8750 - val_loss: 0.1573 - val_acc: 0.9375\n",
      "\n",
      "Epoch 00100: val_loss improved from 0.16020 to 0.15726, saving model to dir_01.h5\n",
      "Elapsed time in seconds:  10.931525945663452\n"
     ]
    }
   ],
   "source": [
    "import time\n",
    "\n",
    "filename = 'dir_01.h5'\n",
    "checkpoint = ModelCheckpoint(filename, monitor='val_loss', verbose=1, save_best_only=True, mode='min')\n",
    "\n",
    "start = time.time()\n",
    "\n",
    "hist = model.fit(train_X, train_Y, epochs = 100, batch_size = 32, validation_data = (val_X, val_Y), callbacks = [checkpoint])\n",
    "\n",
    "print(\"Elapsed time in seconds: \", time.time() - start)\n"
   ]
  },
  {
   "cell_type": "code",
   "execution_count": 34,
   "metadata": {
    "colab": {},
    "colab_type": "code",
    "id": "YjXKos8ocXvw"
   },
   "outputs": [],
   "source": [
    " model = load_model(\"dir_01.h5\")"
   ]
  },
  {
   "cell_type": "code",
   "execution_count": 35,
   "metadata": {
    "colab": {},
    "colab_type": "code",
    "id": "qSTEzrlzcuya"
   },
   "outputs": [],
   "source": [
    "def predictions(text):\n",
    "    clean = re.sub(r'[^ a-z A-Z 0-9]', \" \", text)\n",
    "    test_word = word_tokenize(clean)\n",
    "    test_word = [w.lower() for w in test_word]\n",
    "    test_ls = token.texts_to_sequences(test_word)\n",
    "    #print(test_word)\n",
    "    #Check for unknown words\n",
    "    if [] in test_ls:\n",
    "        test_ls = list(filter(None, test_ls))\n",
    "    \n",
    "    test_ls = np.array(test_ls).reshape(1, len(test_ls))\n",
    "\n",
    "    #print(\"test_ls: \", test_ls)\n",
    "\n",
    "    x = pad_sequences(test_ls, maxlen = MAX_SENT_LENGTH, padding = \"post\")\n",
    "    \n",
    "    #print (\"x: \", x)\n",
    "    \n",
    "    pred = model.predict_proba(x)\n",
    "  \n",
    "    return pred\n"
   ]
  },
  {
   "cell_type": "code",
   "execution_count": 36,
   "metadata": {
    "colab": {},
    "colab_type": "code",
    "id": "P1ddofshmdzK"
   },
   "outputs": [],
   "source": [
    "def get_final_output(pred, classes):\n",
    "    #print (type (pred))\n",
    "    #print (pred)\n",
    "    \n",
    "    predictions = pred[0]\n",
    " \n",
    "    classes = np.array(classes)\n",
    "    ids = np.argsort(-predictions)\n",
    "    classes = classes[ids]\n",
    "    predictions = -np.sort(-predictions)\n",
    "\n",
    "    for i in range(pred.shape[1]):\n",
    "        print(\"%s has confidence = %s\" % (classes[i], (predictions[i])))\n"
   ]
  },
  {
   "cell_type": "code",
   "execution_count": 50,
   "metadata": {
    "colab": {
     "base_uri": "https://localhost:8080/",
     "height": 391
    },
    "colab_type": "code",
    "id": "23VpGuihMdEU",
    "outputId": "cd36c932-0fb0-4166-92ae-546a7676e645"
   },
   "outputs": [
    {
     "name": "stdout",
     "output_type": "stream",
     "text": [
      " saveAppoint has confidence = 0.7557694\n",
      " getDate has confidence = 0.124784194\n",
      " getTime has confidence = 0.064198196\n",
      " greetings has confidence = 0.017944703\n",
      " saveLink has confidence = 0.017852085\n",
      " goodBye has confidence = 0.012756296\n",
      " toSetDownSomeOfThisNaturalSplendor has confidence = 0.003466972\n",
      " haveViolentEnds has confidence = 0.0032281294\n"
     ]
    }
   ],
   "source": [
    "text = \"Can you save the appointment\"\n",
    "pred = predictions(text)\n",
    "get_final_output(pred, intents_unique)"
   ]
  },
  {
   "cell_type": "code",
   "execution_count": null,
   "metadata": {},
   "outputs": [],
   "source": []
  }
 ],
 "metadata": {
  "accelerator": "TPU",
  "colab": {
   "collapsed_sections": [],
   "include_colab_link": true,
   "name": "Intent_classification_final.ipynb",
   "provenance": [],
   "version": "0.3.2"
  },
  "kernelspec": {
   "display_name": "Python 3",
   "language": "python",
   "name": "python3"
  },
  "language_info": {
   "codemirror_mode": {
    "name": "ipython",
    "version": 3
   },
   "file_extension": ".py",
   "mimetype": "text/x-python",
   "name": "python",
   "nbconvert_exporter": "python",
   "pygments_lexer": "ipython3",
   "version": "3.7.3"
  }
 },
 "nbformat": 4,
 "nbformat_minor": 1
}
