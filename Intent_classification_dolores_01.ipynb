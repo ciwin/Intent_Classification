{
 "cells": [
  {
   "cell_type": "markdown",
   "metadata": {
    "colab_type": "text",
    "id": "view-in-github"
   },
   "source": [
    "<a href=\"https://colab.research.google.com/github/Dark-Sied/Intent_Classification/blob/master/Intent_classification_final.ipynb\" target=\"_parent\"><img src=\"https://colab.research.google.com/assets/colab-badge.svg\" alt=\"Open In Colab\"/></a>"
   ]
  },
  {
   "cell_type": "markdown",
   "metadata": {},
   "source": [
    "# Intent Recognition Dolores V01\n",
    "Using a new vocabulary and training set.  \n",
    "Intent Recognition is based on Intent_classification_final\n",
    "Created by Christoph Windheuser, April 2020"
   ]
  },
  {
   "cell_type": "code",
   "execution_count": 1,
   "metadata": {
    "colab": {
     "base_uri": "https://localhost:8080/",
     "height": 34
    },
    "colab_type": "code",
    "id": "a_WypuUXi92e",
    "outputId": "133d026e-4236-4ff6-f21d-739bfb9640db"
   },
   "outputs": [
    {
     "name": "stderr",
     "output_type": "stream",
     "text": [
      "Using TensorFlow backend.\n"
     ]
    }
   ],
   "source": [
    "import numpy as np\n",
    "import pandas as pd\n",
    "import csv\n",
    "from nltk.corpus import stopwords\n",
    "from nltk.tokenize import word_tokenize\n",
    "from nltk.stem.lancaster import LancasterStemmer\n",
    "import nltk\n",
    "import re\n",
    "from sklearn.preprocessing import OneHotEncoder\n",
    "import matplotlib.pyplot as plt\n",
    "from keras.preprocessing.text import Tokenizer\n",
    "from keras.preprocessing.sequence import pad_sequences\n",
    "from keras.utils import to_categorical\n",
    "from keras.models import Sequential, load_model\n",
    "from keras.layers import Dense, LSTM, Bidirectional, Embedding, Dropout\n",
    "from keras.callbacks import ModelCheckpoint\n"
   ]
  },
  {
   "cell_type": "code",
   "execution_count": 2,
   "metadata": {},
   "outputs": [],
   "source": [
    "# DEFINE GLOBAL VARIABLES:\n",
    "NUM_SENT = 0\n",
    "NUM_INTENTS = 0\n",
    "NUM_INTENTS_UNIQUE = 0\n",
    "VOCABULARY_SIZE = 0\n",
    "MAX_SENT_LENGTH = 0"
   ]
  },
  {
   "cell_type": "code",
   "execution_count": 12,
   "metadata": {},
   "outputs": [
    {
     "name": "stdout",
     "output_type": "stream",
     "text": [
      "NUM_SENT:            346\n",
      "NUM_INTENTS:         346\n",
      "NUM_INTENTS_UNIQUE:  14\n",
      "VOCABULARY_SIZE:     284\n",
      "MAX_SENT_LENGTH:     12\n"
     ]
    }
   ],
   "source": [
    "# SHOW GLOBAL VARIABLES\n",
    "print (\"NUM_SENT:           \", NUM_SENT)\n",
    "print (\"NUM_INTENTS:        \", NUM_INTENTS)\n",
    "print (\"NUM_INTENTS_UNIQUE: \", NUM_INTENTS_UNIQUE)\n",
    "print (\"VOCABULARY_SIZE:    \", VOCABULARY_SIZE)\n",
    "print (\"MAX_SENT_LENGTH:    \", MAX_SENT_LENGTH)"
   ]
  },
  {
   "cell_type": "markdown",
   "metadata": {},
   "source": [
    "# Read the data"
   ]
  },
  {
   "cell_type": "code",
   "execution_count": 4,
   "metadata": {
    "colab": {},
    "colab_type": "code",
    "id": "LE6wywJrN2ih"
   },
   "outputs": [
    {
     "name": "stdout",
     "output_type": "stream",
     "text": [
      "                    Sentence           Intent\n",
      "0         are you a machine?  are_you_a_robot\n",
      "1  how are the things going?      how_are_you\n",
      "2             nah not for me             deny\n",
      "3           What's going on?      how_are_you\n",
      "4             are you a bot?  are_you_a_robot\n"
     ]
    }
   ],
   "source": [
    "# df = pd.read_csv(\"Dolores_Dataset_v01.csv\", encoding = \"latin1\", names = [\"Sentence\", \"Intent\"])\n",
    "df = pd.read_csv(\"mowgli_train_new.csv\", encoding = \"latin1\", names = [\"Sentence\", \"Intent\"])\n",
    "print(df.head())\n",
    "intents            = df[\"Intent\"]\n",
    "NUM_INTENTS        = len(list(df[\"Intent\"]))\n",
    "intents_unique     = list(set(df[\"Intent\"]))\n",
    "NUM_INTENTS_UNIQUE = len(intents_unique)\n",
    "sentences          = list(df[\"Sentence\"])\n",
    "NUM_SENT           = len(sentences)\n"
   ]
  },
  {
   "cell_type": "code",
   "execution_count": 6,
   "metadata": {
    "colab": {
     "base_uri": "https://localhost:8080/",
     "height": 119
    },
    "colab_type": "code",
    "id": "tF0FQA7gjOCX",
    "outputId": "c609b42a-05da-49f5-8d11-bd670210f635",
    "scrolled": true
   },
   "outputs": [
    {
     "name": "stdout",
     "output_type": "stream",
     "text": [
      "Unique Intents: \n",
      "['greet', 'are_you_a_robot', 'conversation_restart', 'goodbye', 'insult', 'skills', 'personal_question', 'leave_budget', 'sorry', 'how_are_you', 'deny', 'what_is_your_name', 'confirm', 'thanks']\n",
      "Num of unique Intents:  14\n"
     ]
    }
   ],
   "source": [
    "print (\"Unique Intents: \")\n",
    "print (intents_unique)\n",
    "print (\"Num of unique Intents: \", len(intents_unique))\n"
   ]
  },
  {
   "cell_type": "code",
   "execution_count": 7,
   "metadata": {
    "scrolled": true
   },
   "outputs": [
    {
     "data": {
      "text/html": [
       "<div>\n",
       "<style scoped>\n",
       "    .dataframe tbody tr th:only-of-type {\n",
       "        vertical-align: middle;\n",
       "    }\n",
       "\n",
       "    .dataframe tbody tr th {\n",
       "        vertical-align: top;\n",
       "    }\n",
       "\n",
       "    .dataframe thead th {\n",
       "        text-align: right;\n",
       "    }\n",
       "</style>\n",
       "<table border=\"1\" class=\"dataframe\">\n",
       "  <thead>\n",
       "    <tr style=\"text-align: right;\">\n",
       "      <th></th>\n",
       "      <th>Sentence</th>\n",
       "      <th>Intent</th>\n",
       "    </tr>\n",
       "  </thead>\n",
       "  <tbody>\n",
       "    <tr>\n",
       "      <th>0</th>\n",
       "      <td>are you a machine?</td>\n",
       "      <td>are_you_a_robot</td>\n",
       "    </tr>\n",
       "    <tr>\n",
       "      <th>1</th>\n",
       "      <td>how are the things going?</td>\n",
       "      <td>how_are_you</td>\n",
       "    </tr>\n",
       "    <tr>\n",
       "      <th>2</th>\n",
       "      <td>nah not for me</td>\n",
       "      <td>deny</td>\n",
       "    </tr>\n",
       "    <tr>\n",
       "      <th>3</th>\n",
       "      <td>What's going on?</td>\n",
       "      <td>how_are_you</td>\n",
       "    </tr>\n",
       "    <tr>\n",
       "      <th>4</th>\n",
       "      <td>are you a bot?</td>\n",
       "      <td>are_you_a_robot</td>\n",
       "    </tr>\n",
       "  </tbody>\n",
       "</table>\n",
       "</div>"
      ],
      "text/plain": [
       "                    Sentence           Intent\n",
       "0         are you a machine?  are_you_a_robot\n",
       "1  how are the things going?      how_are_you\n",
       "2             nah not for me             deny\n",
       "3           What's going on?      how_are_you\n",
       "4             are you a bot?  are_you_a_robot"
      ]
     },
     "execution_count": 7,
     "metadata": {},
     "output_type": "execute_result"
    }
   ],
   "source": [
    "df.head()"
   ]
  },
  {
   "cell_type": "code",
   "execution_count": 8,
   "metadata": {},
   "outputs": [
    {
     "data": {
      "text/plain": [
       "(346, 2)"
      ]
     },
     "execution_count": 8,
     "metadata": {},
     "output_type": "execute_result"
    }
   ],
   "source": [
    "df.shape"
   ]
  },
  {
   "cell_type": "code",
   "execution_count": 9,
   "metadata": {
    "colab": {
     "base_uri": "https://localhost:8080/",
     "height": 34
    },
    "colab_type": "code",
    "id": "O8LLUZlokg0S",
    "outputId": "c15c21dc-2ef2-43b7-b4af-e7ee9e014091"
   },
   "outputs": [
    {
     "name": "stdout",
     "output_type": "stream",
     "text": [
      "['are you a machine?', 'how are the things going?', 'nah not for me', \"What's going on?\", 'are you a bot?']\n"
     ]
    }
   ],
   "source": [
    "print(sentences[:5])"
   ]
  },
  {
   "cell_type": "markdown",
   "metadata": {},
   "source": [
    "# Word Cleaning\n",
    "re.sub is a routine from the \"Regular Expression\" Library.     \n",
    "r'string' means that this is a \"raw string\", where backslashes are treated as charachters.    \n",
    "re.sub(r'[^ a-z A-Z 0-9]', \" \", s) means that all characters exept a-z, A-Z and 0-9 will be replaced by space."
   ]
  },
  {
   "cell_type": "code",
   "execution_count": 10,
   "metadata": {
    "colab": {},
    "colab_type": "code",
    "id": "j-7q3iG5PKYI"
   },
   "outputs": [
    {
     "name": "stdout",
     "output_type": "stream",
     "text": [
      "[['are', 'you', 'a', 'machine'], ['how', 'are', 'the', 'things', 'going'], ['nah', 'not', 'for', 'me'], ['what', 's', 'going', 'on'], ['are', 'you', 'a', 'bot']]\n",
      "Len of clean_sent:  346\n"
     ]
    }
   ],
   "source": [
    "clean_sent = []\n",
    "for s in sentences:\n",
    "    clean = re.sub(r'[^ a-z A-Z 0-9]', \" \", s)\n",
    "    w = word_tokenize(clean)\n",
    "    clean_sent.append([i.lower() for i in w])\n",
    "\n",
    "print (clean_sent[:5])\n",
    "print(\"Len of clean_sent: \", len(clean_sent))\n"
   ]
  },
  {
   "cell_type": "markdown",
   "metadata": {},
   "source": [
    "### Documentation for Tokenizer:\n",
    "https://www.tensorflow.org/api_docs/python/tf/keras/preprocessing/text/Tokenizer"
   ]
  },
  {
   "cell_type": "code",
   "execution_count": 11,
   "metadata": {
    "colab": {},
    "colab_type": "code",
    "id": "SJCQ_YhBJW7t"
   },
   "outputs": [
    {
     "name": "stdout",
     "output_type": "stream",
     "text": [
      "Max sent length:  12\n"
     ]
    }
   ],
   "source": [
    "token = Tokenizer(filters = '!\"#$%&()*+,-./:;<=>?@[\\]^_`{|}~')\n",
    "token.fit_on_texts(clean_sent)\n",
    "VOCABULARY_SIZE = len(token.word_index) + 1\n",
    "MAX_SENT_LENGTH = len(max(clean_sent, key = len))\n",
    "\n",
    "#print(\"Vocab Size = %d. Maximum sent length = %d\" % (vocab_size, max_sent_length))\n",
    "print (\"Max sent length: \", MAX_SENT_LENGTH)\n",
    "encoded_sent = token.texts_to_sequences(clean_sent)\n",
    "padded_sent = pad_sequences(encoded_sent, maxlen = MAX_SENT_LENGTH, padding = \"post\")\n"
   ]
  },
  {
   "cell_type": "code",
   "execution_count": 53,
   "metadata": {},
   "outputs": [
    {
     "name": "stdout",
     "output_type": "stream",
     "text": [
      "[[4, 1, 23, 129], [2, 4, 60, 61, 24], [89, 31, 21, 15], [7, 10, 24, 73], [4, 1, 23, 46], [11, 13, 51, 130], [2, 9, 8, 3, 6, 47, 52], [131], [16, 16], [32, 12], [132], [48, 25, 1, 36, 17, 49, 15], [3, 133, 25, 5, 33], [1, 4, 23, 90], [32, 3, 36, 17, 62, 37, 51, 18, 8], [12, 21, 27, 49], [134], [19, 3, 20, 25], [91], [34, 63], [135], [7, 4, 1, 136, 17, 5], [3, 92, 25], [93, 38], [2, 13, 28, 24], [3, 94, 19], [7, 95, 39, 8, 3, 47, 137, 138], [139], [140], [74, 141, 142, 143], [75, 4, 1], [12], [26], [19], [144], [7, 10, 50, 96], [7, 10, 27, 64], [29, 65], [26, 13, 145, 53], [97], [34], [2, 20, 74, 66, 11, 24, 67], [98, 34, 146, 23, 147], [2, 9, 54, 5, 3, 6, 148], [40], [76], [2, 22, 14, 5, 3, 6, 52, 11, 30], [55, 99], [68, 10, 32], [2, 6, 1, 69], [149, 100], [41, 42], [2, 4, 1, 101], [150], [4, 1, 77], [56, 1], [151], [12, 46], [102], [29, 41], [152], [1, 103, 153], [154], [34], [155], [29, 156], [38, 12], [157, 104], [26, 42], [41, 21, 70], [7, 50], [19, 71, 19, 67], [26, 53], [13, 68, 32], [2, 4, 104], [12, 23, 158], [159, 7, 4, 1, 57], [19, 160, 161], [78, 5, 1, 162], [2, 4, 1, 57], [32, 38], [2, 10, 79, 69, 105, 1], [2, 4, 1], [163], [14, 35], [2, 9, 18, 8, 5, 3, 6, 35], [16, 164], [2, 20, 1, 49], [165], [20, 1, 66, 166, 49], [12, 80, 22], [167], [20, 1, 81, 15, 27, 64], [2, 4, 1, 168], [2, 4, 61, 24], [38, 56, 1], [3, 43, 31, 55], [51, 18, 8, 21, 11, 30], [44, 46], [7, 4, 1, 101], [106, 11, 169], [33, 10, 107], [108], [32, 3, 40], [170, 171, 2, 4, 1], [172], [173], [109, 174], [26, 82], [175], [83], [12, 42], [176], [2, 9, 8, 39, 18, 5, 3, 6, 35, 11, 30], [33, 10, 28, 21, 70, 41], [2, 9, 14, 8, 5, 3, 6], [177], [4, 1, 110], [32], [110], [29, 178], [179], [111], [26], [56, 1, 180, 22], [91], [7, 6, 1, 69, 50, 17, 181], [3, 43, 55, 3, 112], [72, 21, 28], [37, 113], [5, 1, 182], [44, 46], [34, 40, 63], [183], [184, 15], [185, 15, 2, 37, 186, 187, 188, 70], [33, 10, 58, 114], [3, 43, 31, 24, 17, 115, 28, 17, 1], [1, 4, 189], [190], [2, 4, 1, 116], [117, 58, 191], [41], [114], [192], [3, 48, 25, 193, 80], [51, 14, 8, 21, 11, 30], [7, 60, 194, 4, 1, 57], [34, 63], [84, 12], [2, 22, 14, 5, 3, 6], [7, 195, 27, 45], [4, 1, 196], [2, 22, 39, 14, 8, 3, 6, 59], [20, 3, 118, 1, 197], [3, 94], [11, 13, 51, 198], [33, 10, 85], [12], [7, 13, 42], [199], [2, 9, 14, 8, 5, 3, 6, 52], [2, 9, 18, 8, 5, 3, 6, 59], [12], [2, 96, 8, 39, 18, 5, 3, 119, 6], [2, 13, 28, 24], [19, 72], [16, 42], [200], [2, 5, 1, 5], [2, 4, 1, 57, 11, 65], [38], [26], [5, 1, 201, 202], [16], [203], [1, 20, 72, 70], [120, 35], [204], [205], [2, 4, 61, 86, 1], [77], [16, 46], [55], [1, 206, 62, 15], [121, 31], [11, 207, 31, 208, 209, 210, 58], [211], [44, 42], [19, 3, 92, 25, 212, 213, 214, 3, 36, 17, 215, 50], [216], [2, 9, 14, 8], [2, 4, 61], [26, 28, 13, 15, 67], [7, 10, 60, 95, 39, 8, 3, 47, 217, 21, 14], [3, 43, 102, 71, 1], [16, 53], [3, 43, 31, 218, 1, 37, 219, 122], [2, 22, 18, 5, 3, 6, 35], [7, 10, 29], [220, 221, 123], [75, 13, 42], [222], [5, 1, 6, 23, 64], [117, 223, 60, 224], [29, 65], [2, 13, 27, 45, 24], [106, 11, 225], [226, 26, 53], [1, 227], [228], [229, 15], [85], [98, 31], [230], [124, 1, 87], [2, 76, 4, 1], [16], [2, 9, 18, 8, 231, 3, 125, 11, 30], [121], [19, 3, 48, 25, 40], [7, 10, 50], [2, 232, 1, 69], [71, 75, 4, 1], [44], [78, 4, 1, 53], [5, 1, 62, 15], [2, 9, 54, 5, 3, 6, 59], [38, 12], [233], [3, 43, 234, 31], [111], [235], [44, 44], [3, 48, 25, 36, 17], [16, 236], [3, 43, 126], [76, 99], [12], [3, 40], [4, 1, 23, 82], [237], [238], [2, 22, 120, 18, 5, 3, 6, 21, 11, 30], [26, 239], [7, 5, 1, 62], [2, 9, 14, 8, 5, 3, 6, 35, 21, 11, 30], [7, 5, 240, 118, 1], [33, 10, 7, 3, 36], [241], [2, 10, 79, 105, 1, 88], [81, 15, 27, 64], [2, 13, 28], [19], [2, 9, 14, 8, 5, 3, 6, 35], [41, 41], [71, 2, 22, 14, 5, 3, 6, 59, 47], [2, 10, 79], [13, 68, 77], [2, 9, 8, 5, 3, 6, 47, 52], [242], [34, 33, 13, 107], [19], [19, 12], [243], [44, 244], [245, 17, 1, 87], [63, 48, 25, 17, 11], [2, 20, 3, 246, 123, 86, 1], [2, 9, 14, 8, 5, 3, 6, 35, 11, 30], [13, 68, 58, 85], [55], [247], [34, 3, 40], [3, 248, 37, 100, 3, 36, 17, 40, 28], [7, 54, 6, 3, 59], [18, 15, 249], [109], [250], [16], [2, 251, 3, 122, 1], [252], [126], [39, 253], [89], [2, 4, 1], [2, 254, 27, 45], [7, 20, 1, 255, 15, 86], [256], [2, 9, 18, 8, 20, 3, 119, 125], [257, 258, 72], [259], [2, 9, 18, 5, 3, 6], [260], [1, 4, 23, 46], [1, 103, 23, 82], [2, 9, 8, 39, 18, 5, 3, 6], [2, 10, 28, 24], [84], [261], [16], [20, 74, 97], [4, 1, 262, 263], [78, 20, 25, 1, 81, 15, 37, 54], [12], [2, 4, 1, 57, 116, 37, 83, 88], [7, 4, 1], [264, 4, 1, 73, 127], [12, 21, 265, 266], [66, 27, 267, 268, 269, 270], [49], [3, 112], [124, 271], [108], [56, 1, 80, 22], [2, 10, 27, 45, 24], [2, 22, 14, 5, 3, 6, 47, 52], [29, 65], [2, 22, 127, 5, 3, 6], [26, 83, 272], [273], [274], [128, 24, 73], [2, 20, 1, 49, 15], [58, 29], [16, 88], [12, 21, 33], [38], [93, 275], [2, 9, 54, 5, 3, 6, 11, 30], [113], [5, 1, 6, 23, 84, 45], [128, 50], [2, 13, 27, 45], [16, 67], [56, 1], [66, 276], [277, 278], [19, 279], [4, 1, 23, 90], [16, 280], [2, 22, 14, 281, 6, 3, 282], [283, 1, 87], [4, 1, 32], [29, 45], [3, 48, 25, 36, 17, 115, 28, 17, 1]]\n",
      "Num of Sentences:  346\n"
     ]
    }
   ],
   "source": [
    "print (encoded_sent)\n",
    "print (\"Num of Sentences: \", len(encoded_sent))"
   ]
  },
  {
   "cell_type": "code",
   "execution_count": 54,
   "metadata": {
    "colab": {
     "base_uri": "https://localhost:8080/",
     "height": 272
    },
    "colab_type": "code",
    "id": "gDgTCS2KdI2p",
    "outputId": "ac5332cd-0a0f-4311-8db4-22df92728d90"
   },
   "outputs": [
    {
     "data": {
      "text/plain": [
       "array([[  4,   1,  23, 129,   0,   0,   0,   0,   0,   0,   0,   0],\n",
       "       [  2,   4,  60,  61,  24,   0,   0,   0,   0,   0,   0,   0],\n",
       "       [ 89,  31,  21,  15,   0,   0,   0,   0,   0,   0,   0,   0],\n",
       "       [  7,  10,  24,  73,   0,   0,   0,   0,   0,   0,   0,   0],\n",
       "       [  4,   1,  23,  46,   0,   0,   0,   0,   0,   0,   0,   0]],\n",
       "      dtype=int32)"
      ]
     },
     "execution_count": 54,
     "metadata": {},
     "output_type": "execute_result"
    }
   ],
   "source": [
    "padded_sent[:5]"
   ]
  },
  {
   "cell_type": "code",
   "execution_count": 55,
   "metadata": {
    "colab": {
     "base_uri": "https://localhost:8080/",
     "height": 34
    },
    "colab_type": "code",
    "id": "3eaSIDi0dNf1",
    "outputId": "4ab6b6dd-ffa4-4061-9e9d-7a01decfa837"
   },
   "outputs": [
    {
     "name": "stdout",
     "output_type": "stream",
     "text": [
      "Shape of padded sent =  (346, 12)\n"
     ]
    }
   ],
   "source": [
    "print(\"Shape of padded sent = \",padded_sent.shape)"
   ]
  },
  {
   "cell_type": "markdown",
   "metadata": {},
   "source": [
    "# Tokenizing the intents"
   ]
  },
  {
   "cell_type": "code",
   "execution_count": 56,
   "metadata": {
    "colab": {},
    "colab_type": "code",
    "id": "X0rXzenSpgFR"
   },
   "outputs": [],
   "source": [
    "#tokenizer for the intents\n",
    "token_intents = Tokenizer(filters = '!\"#$%&()*+,-/:;<=>?@[\\]^`{|}~')\n",
    "token_intents.fit_on_texts(intents_unique)\n"
   ]
  },
  {
   "cell_type": "code",
   "execution_count": 57,
   "metadata": {
    "colab": {
     "base_uri": "https://localhost:8080/",
     "height": 374
    },
    "colab_type": "code",
    "id": "yNHQtkszskxr",
    "outputId": "f5babc01-89e3-4392-e8e6-c9f257de3d07"
   },
   "outputs": [
    {
     "data": {
      "text/plain": [
       "{'conversation_restart': 1,\n",
       " 'greet': 2,\n",
       " 'sorry': 3,\n",
       " 'insult': 4,\n",
       " 'are_you_a_robot': 5,\n",
       " 'deny': 6,\n",
       " 'skills': 7,\n",
       " 'what_is_your_name': 8,\n",
       " 'goodbye': 9,\n",
       " 'leave_budget': 10,\n",
       " 'how_are_you': 11,\n",
       " 'personal_question': 12,\n",
       " 'thanks': 13,\n",
       " 'confirm': 14}"
      ]
     },
     "execution_count": 57,
     "metadata": {},
     "output_type": "execute_result"
    }
   ],
   "source": [
    "token_intents.word_index"
   ]
  },
  {
   "cell_type": "code",
   "execution_count": 58,
   "metadata": {
    "colab": {},
    "colab_type": "code",
    "id": "7OOx9qdBto1-"
   },
   "outputs": [],
   "source": [
    "encoded_output = token_intents.texts_to_sequences(intents)\n"
   ]
  },
  {
   "cell_type": "code",
   "execution_count": 59,
   "metadata": {
    "scrolled": true
   },
   "outputs": [
    {
     "name": "stdout",
     "output_type": "stream",
     "text": [
      "[[5], [11], [6], [11], [5], [1], [10], [13], [2], [13], [14], [7], [6], [5], [10], [13], [14], [6], [2], [14], [14], [7], [6], [14], [11], [6], [10], [2], [2], [9], [8], [13], [2], [6], [14], [11], [8], [2], [2], [1], [14], [1], [14], [10], [14], [4], [10], [14], [11], [11], [6], [9], [8], [6], [11], [13], [2], [13], [14], [9], [14], [4], [13], [14], [4], [2], [13], [9], [2], [9], [2], [6], [2], [11], [11], [13], [1], [6], [7], [11], [14], [11], [11], [2], [10], [10], [2], [7], [14], [7], [13], [2], [8], [11], [11], [13], [6], [10], [2], [8], [1], [14], [6], [14], [11], [6], [2], [13], [2], [2], [14], [13], [2], [10], [9], [10], [9], [11], [14], [14], [2], [2], [2], [2], [13], [2], [11], [14], [14], [3], [12], [2], [14], [14], [3], [10], [9], [6], [4], [6], [11], [1], [9], [9], [9], [6], [10], [1], [14], [13], [10], [11], [5], [10], [8], [2], [1], [14], [13], [8], [2], [10], [10], [13], [10], [11], [6], [2], [13], [11], [11], [14], [2], [12], [2], [14], [9], [10], [2], [4], [11], [14], [2], [14], [12], [6], [1], [2], [2], [6], [13], [10], [11], [2], [10], [11], [2], [6], [10], [11], [9], [8], [14], [8], [1], [2], [11], [1], [2], [4], [4], [3], [14], [6], [14], [9], [4], [2], [10], [14], [6], [11], [11], [8], [2], [7], [12], [10], [13], [2], [6], [2], [4], [2], [6], [2], [3], [4], [13], [14], [5], [3], [2], [10], [2], [7], [10], [8], [14], [6], [11], [8], [11], [6], [10], [9], [10], [11], [11], [10], [2], [14], [6], [6], [2], [2], [9], [1], [7], [10], [11], [14], [14], [14], [14], [10], [9], [13], [2], [2], [8], [14], [3], [14], [6], [11], [11], [7], [14], [10], [9], [2], [10], [2], [5], [5], [10], [11], [14], [14], [2], [1], [7], [7], [13], [11], [5], [12], [13], [4], [7], [14], [9], [6], [13], [11], [10], [2], [10], [2], [2], [2], [7], [7], [11], [2], [13], [13], [14], [10], [3], [11], [2], [11], [2], [13], [9], [2], [6], [5], [2], [10], [9], [11], [2], [6]]\n"
     ]
    }
   ],
   "source": [
    "print (encoded_output)\n"
   ]
  },
  {
   "cell_type": "code",
   "execution_count": 60,
   "metadata": {
    "colab": {},
    "colab_type": "code",
    "id": "0_5Lv5PiyG-z"
   },
   "outputs": [],
   "source": [
    "encoded_output = np.array(encoded_output).reshape(len(encoded_output), 1)"
   ]
  },
  {
   "cell_type": "code",
   "execution_count": 61,
   "metadata": {},
   "outputs": [
    {
     "data": {
      "text/plain": [
       "numpy.ndarray"
      ]
     },
     "execution_count": 61,
     "metadata": {},
     "output_type": "execute_result"
    }
   ],
   "source": [
    "# print (encoded_output)\n",
    "type (encoded_output)"
   ]
  },
  {
   "cell_type": "code",
   "execution_count": 62,
   "metadata": {
    "colab": {
     "base_uri": "https://localhost:8080/",
     "height": 34
    },
    "colab_type": "code",
    "id": "dpM86WrVQlx5",
    "outputId": "71ff52a6-b3d0-4b5c-850d-5dc0a56c8aa9"
   },
   "outputs": [
    {
     "data": {
      "text/plain": [
       "(346, 1)"
      ]
     },
     "execution_count": 62,
     "metadata": {},
     "output_type": "execute_result"
    }
   ],
   "source": [
    "encoded_output.shape"
   ]
  },
  {
   "cell_type": "code",
   "execution_count": 63,
   "metadata": {
    "colab": {},
    "colab_type": "code",
    "id": "rD3QN-RPzfet"
   },
   "outputs": [],
   "source": [
    "one_hot = OneHotEncoder(sparse = False)\n",
    "output_one_hot = one_hot.fit_transform(encoded_output)"
   ]
  },
  {
   "cell_type": "code",
   "execution_count": 64,
   "metadata": {
    "colab": {
     "base_uri": "https://localhost:8080/",
     "height": 34
    },
    "colab_type": "code",
    "id": "A6HVslLTHgOM",
    "outputId": "752962df-02d8-409b-fb8f-adb06227161d"
   },
   "outputs": [
    {
     "data": {
      "text/plain": [
       "(346, 14)"
      ]
     },
     "execution_count": 64,
     "metadata": {},
     "output_type": "execute_result"
    }
   ],
   "source": [
    "output_one_hot.shape"
   ]
  },
  {
   "cell_type": "markdown",
   "metadata": {},
   "source": [
    "# Define Training- and Testset"
   ]
  },
  {
   "cell_type": "code",
   "execution_count": 65,
   "metadata": {
    "colab": {},
    "colab_type": "code",
    "id": "EqABUESD7xi9"
   },
   "outputs": [],
   "source": [
    "from sklearn.model_selection import train_test_split"
   ]
  },
  {
   "cell_type": "code",
   "execution_count": 66,
   "metadata": {
    "colab": {},
    "colab_type": "code",
    "id": "h8P4HTz6A4E-"
   },
   "outputs": [],
   "source": [
    "# train_X, val_X, train_Y, val_Y = train_test_split(padded_sent, output_one_hot, shuffle = True, test_size = 0.1)\n",
    "train_X = padded_sent\n",
    "train_Y = output_one_hot\n",
    "val_X   = train_X\n",
    "val_Y   = train_Y\n"
   ]
  },
  {
   "cell_type": "code",
   "execution_count": 67,
   "metadata": {
    "colab": {
     "base_uri": "https://localhost:8080/",
     "height": 51
    },
    "colab_type": "code",
    "id": "7E0uhC2OCtTx",
    "outputId": "6ce0e215-aa3f-43f1-ba5a-0b584b25a35c",
    "scrolled": true
   },
   "outputs": [
    {
     "name": "stdout",
     "output_type": "stream",
     "text": [
      "Shape of train_X = (346, 12) and train_Y = (346, 14)\n",
      "Shape of val_X = (346, 12) and val_Y = (346, 14)\n"
     ]
    }
   ],
   "source": [
    "print(\"Shape of train_X = %s and train_Y = %s\" % (train_X.shape, train_Y.shape))\n",
    "print(\"Shape of val_X = %s and val_Y = %s\" % (val_X.shape, val_Y.shape))"
   ]
  },
  {
   "cell_type": "markdown",
   "metadata": {},
   "source": [
    "# Defining the Model"
   ]
  },
  {
   "cell_type": "code",
   "execution_count": 68,
   "metadata": {
    "colab": {},
    "colab_type": "code",
    "id": "e5BU_x74DNEb"
   },
   "outputs": [
    {
     "name": "stdout",
     "output_type": "stream",
     "text": [
      "Model: \"sequential_2\"\n",
      "_________________________________________________________________\n",
      "Layer (type)                 Output Shape              Param #   \n",
      "=================================================================\n",
      "embedding_2 (Embedding)      (None, 12, 128)           36352     \n",
      "_________________________________________________________________\n",
      "bidirectional_2 (Bidirection (None, 256)               263168    \n",
      "_________________________________________________________________\n",
      "dense_3 (Dense)              (None, 32)                8224      \n",
      "_________________________________________________________________\n",
      "dropout_2 (Dropout)          (None, 32)                0         \n",
      "_________________________________________________________________\n",
      "dense_4 (Dense)              (None, 14)                462       \n",
      "=================================================================\n",
      "Total params: 308,206\n",
      "Trainable params: 271,854\n",
      "Non-trainable params: 36,352\n",
      "_________________________________________________________________\n"
     ]
    }
   ],
   "source": [
    "model = Sequential()\n",
    "model.add(Embedding(VOCABULARY_SIZE, 128, input_length = MAX_SENT_LENGTH, trainable = False))\n",
    "model.add(Bidirectional(LSTM(128)))\n",
    "model.add(Dense(32, activation = \"relu\"))\n",
    "model.add(Dropout(0.5))\n",
    "model.add(Dense(NUM_INTENTS_UNIQUE, activation = \"softmax\"))\n",
    "\n",
    "model.compile(loss = \"categorical_crossentropy\", optimizer = \"adam\", metrics = [\"accuracy\"])\n",
    "model.summary()"
   ]
  },
  {
   "cell_type": "markdown",
   "metadata": {},
   "source": [
    "# Training the Model"
   ]
  },
  {
   "cell_type": "code",
   "execution_count": 75,
   "metadata": {
    "colab": {
     "base_uri": "https://localhost:8080/",
     "height": 6834
    },
    "colab_type": "code",
    "id": "_r-dxm2sMQ-d",
    "outputId": "3c37b4f8-fc4e-4c82-ab46-2aa1d8b47ffd"
   },
   "outputs": [
    {
     "name": "stdout",
     "output_type": "stream",
     "text": [
      "Train on 346 samples, validate on 346 samples\n",
      "Epoch 1/200\n",
      "346/346 [==============================] - 2s 5ms/step - loss: 0.5372 - acc: 0.7861 - val_loss: 0.2971 - val_acc: 0.9104\n",
      "\n",
      "Epoch 00001: val_loss improved from inf to 0.29706, saving model to dir_01.h5\n",
      "Epoch 2/200\n",
      "346/346 [==============================] - 0s 785us/step - loss: 0.5041 - acc: 0.8121 - val_loss: 0.2713 - val_acc: 0.9306\n",
      "\n",
      "Epoch 00002: val_loss improved from 0.29706 to 0.27128, saving model to dir_01.h5\n",
      "Epoch 3/200\n",
      "346/346 [==============================] - 0s 1ms/step - loss: 0.4467 - acc: 0.8382 - val_loss: 0.2366 - val_acc: 0.9306\n",
      "\n",
      "Epoch 00003: val_loss improved from 0.27128 to 0.23660, saving model to dir_01.h5\n",
      "Epoch 4/200\n",
      "346/346 [==============================] - 0s 870us/step - loss: 0.4684 - acc: 0.8179 - val_loss: 0.3082 - val_acc: 0.9046\n",
      "\n",
      "Epoch 00004: val_loss did not improve from 0.23660\n",
      "Epoch 5/200\n",
      "346/346 [==============================] - 0s 862us/step - loss: 0.5227 - acc: 0.8064 - val_loss: 0.3386 - val_acc: 0.8931\n",
      "\n",
      "Epoch 00005: val_loss did not improve from 0.23660\n",
      "Epoch 6/200\n",
      "346/346 [==============================] - 0s 841us/step - loss: 0.4776 - acc: 0.8410 - val_loss: 0.2979 - val_acc: 0.9017\n",
      "\n",
      "Epoch 00006: val_loss did not improve from 0.23660\n",
      "Epoch 7/200\n",
      "346/346 [==============================] - 0s 855us/step - loss: 0.5386 - acc: 0.8179 - val_loss: 0.2364 - val_acc: 0.9306\n",
      "\n",
      "Epoch 00007: val_loss improved from 0.23660 to 0.23645, saving model to dir_01.h5\n",
      "Epoch 8/200\n",
      "346/346 [==============================] - 0s 866us/step - loss: 0.4262 - acc: 0.8439 - val_loss: 0.2290 - val_acc: 0.9277\n",
      "\n",
      "Epoch 00008: val_loss improved from 0.23645 to 0.22896, saving model to dir_01.h5\n",
      "Epoch 9/200\n",
      "346/346 [==============================] - 0s 950us/step - loss: 0.4068 - acc: 0.8642 - val_loss: 0.2000 - val_acc: 0.9480\n",
      "\n",
      "Epoch 00009: val_loss improved from 0.22896 to 0.20001, saving model to dir_01.h5\n",
      "Epoch 10/200\n",
      "346/346 [==============================] - 0s 973us/step - loss: 0.4034 - acc: 0.8555 - val_loss: 0.2116 - val_acc: 0.9422\n",
      "\n",
      "Epoch 00010: val_loss did not improve from 0.20001\n",
      "Epoch 11/200\n",
      "346/346 [==============================] - 0s 954us/step - loss: 0.3881 - acc: 0.8584 - val_loss: 0.2186 - val_acc: 0.9422\n",
      "\n",
      "Epoch 00011: val_loss did not improve from 0.20001\n",
      "Epoch 12/200\n",
      "346/346 [==============================] - 0s 930us/step - loss: 0.4571 - acc: 0.8353 - val_loss: 0.2388 - val_acc: 0.9306\n",
      "\n",
      "Epoch 00012: val_loss did not improve from 0.20001\n",
      "Epoch 13/200\n",
      "346/346 [==============================] - 0s 1ms/step - loss: 0.4322 - acc: 0.8410 - val_loss: 0.2200 - val_acc: 0.9335\n",
      "\n",
      "Epoch 00013: val_loss did not improve from 0.20001\n",
      "Epoch 14/200\n",
      "346/346 [==============================] - 0s 1ms/step - loss: 0.4090 - acc: 0.8757 - val_loss: 0.2892 - val_acc: 0.9017\n",
      "\n",
      "Epoch 00014: val_loss did not improve from 0.20001\n",
      "Epoch 15/200\n",
      "346/346 [==============================] - 0s 1ms/step - loss: 0.4659 - acc: 0.8353 - val_loss: 0.2957 - val_acc: 0.8931\n",
      "\n",
      "Epoch 00015: val_loss did not improve from 0.20001\n",
      "Epoch 16/200\n",
      "346/346 [==============================] - 0s 1ms/step - loss: 0.3931 - acc: 0.8468 - val_loss: 0.1761 - val_acc: 0.9595\n",
      "\n",
      "Epoch 00016: val_loss improved from 0.20001 to 0.17612, saving model to dir_01.h5\n",
      "Epoch 17/200\n",
      "346/346 [==============================] - 0s 1ms/step - loss: 0.4460 - acc: 0.8353 - val_loss: 0.1796 - val_acc: 0.9480\n",
      "\n",
      "Epoch 00017: val_loss did not improve from 0.17612\n",
      "Epoch 18/200\n",
      "346/346 [==============================] - 0s 1ms/step - loss: 0.4026 - acc: 0.8555 - val_loss: 0.2677 - val_acc: 0.9191\n",
      "\n",
      "Epoch 00018: val_loss did not improve from 0.17612\n",
      "Epoch 19/200\n",
      "346/346 [==============================] - 0s 1ms/step - loss: 0.3868 - acc: 0.8699 - val_loss: 0.2157 - val_acc: 0.9364\n",
      "\n",
      "Epoch 00019: val_loss did not improve from 0.17612\n",
      "Epoch 20/200\n",
      "346/346 [==============================] - 0s 994us/step - loss: 0.3884 - acc: 0.8526 - val_loss: 0.1809 - val_acc: 0.9538\n",
      "\n",
      "Epoch 00020: val_loss did not improve from 0.17612\n",
      "Epoch 21/200\n",
      "346/346 [==============================] - 0s 1ms/step - loss: 0.3660 - acc: 0.8526 - val_loss: 0.1600 - val_acc: 0.9682\n",
      "\n",
      "Epoch 00021: val_loss improved from 0.17612 to 0.16000, saving model to dir_01.h5\n",
      "Epoch 22/200\n",
      "346/346 [==============================] - 0s 905us/step - loss: 0.4134 - acc: 0.8410 - val_loss: 0.1724 - val_acc: 0.9682\n",
      "\n",
      "Epoch 00022: val_loss did not improve from 0.16000\n",
      "Epoch 23/200\n",
      "346/346 [==============================] - 0s 874us/step - loss: 0.4609 - acc: 0.8410 - val_loss: 0.2596 - val_acc: 0.9075\n",
      "\n",
      "Epoch 00023: val_loss did not improve from 0.16000\n",
      "Epoch 24/200\n",
      "346/346 [==============================] - 0s 820us/step - loss: 0.3265 - acc: 0.8902 - val_loss: 0.2356 - val_acc: 0.9451\n",
      "\n",
      "Epoch 00024: val_loss did not improve from 0.16000\n",
      "Epoch 25/200\n",
      "346/346 [==============================] - 0s 883us/step - loss: 0.4169 - acc: 0.8671 - val_loss: 0.2122 - val_acc: 0.9595\n",
      "\n",
      "Epoch 00025: val_loss did not improve from 0.16000\n",
      "Epoch 26/200\n",
      "346/346 [==============================] - 0s 991us/step - loss: 0.3567 - acc: 0.8699 - val_loss: 0.1781 - val_acc: 0.9480\n",
      "\n",
      "Epoch 00026: val_loss did not improve from 0.16000\n",
      "Epoch 27/200\n",
      "346/346 [==============================] - 0s 1ms/step - loss: 0.4250 - acc: 0.8671 - val_loss: 0.2242 - val_acc: 0.9306\n",
      "\n",
      "Epoch 00027: val_loss did not improve from 0.16000\n",
      "Epoch 28/200\n",
      "346/346 [==============================] - 0s 1ms/step - loss: 0.4201 - acc: 0.8584 - val_loss: 0.1726 - val_acc: 0.9566\n",
      "\n",
      "Epoch 00028: val_loss did not improve from 0.16000\n",
      "Epoch 29/200\n",
      "346/346 [==============================] - 0s 1ms/step - loss: 0.3568 - acc: 0.8757 - val_loss: 0.2139 - val_acc: 0.9566\n",
      "\n",
      "Epoch 00029: val_loss did not improve from 0.16000\n",
      "Epoch 30/200\n",
      "346/346 [==============================] - 0s 1ms/step - loss: 0.3873 - acc: 0.8988 - val_loss: 0.3124 - val_acc: 0.9220\n",
      "\n",
      "Epoch 00030: val_loss did not improve from 0.16000\n",
      "Epoch 31/200\n",
      "346/346 [==============================] - 0s 1ms/step - loss: 0.4040 - acc: 0.8642 - val_loss: 0.2347 - val_acc: 0.9306\n",
      "\n",
      "Epoch 00031: val_loss did not improve from 0.16000\n",
      "Epoch 32/200\n",
      "346/346 [==============================] - 0s 967us/step - loss: 0.5597 - acc: 0.8121 - val_loss: 0.2355 - val_acc: 0.9335\n",
      "\n",
      "Epoch 00032: val_loss did not improve from 0.16000\n",
      "Epoch 33/200\n",
      "346/346 [==============================] - 0s 1ms/step - loss: 0.4405 - acc: 0.8468 - val_loss: 0.2045 - val_acc: 0.9422\n",
      "\n",
      "Epoch 00033: val_loss did not improve from 0.16000\n",
      "Epoch 34/200\n",
      "346/346 [==============================] - 0s 945us/step - loss: 0.4204 - acc: 0.8613 - val_loss: 0.1565 - val_acc: 0.9624\n",
      "\n",
      "Epoch 00034: val_loss improved from 0.16000 to 0.15647, saving model to dir_01.h5\n",
      "Epoch 35/200\n",
      "346/346 [==============================] - 0s 1ms/step - loss: 0.3448 - acc: 0.8671 - val_loss: 0.1475 - val_acc: 0.9538\n",
      "\n",
      "Epoch 00035: val_loss improved from 0.15647 to 0.14745, saving model to dir_01.h5\n",
      "Epoch 36/200\n",
      "346/346 [==============================] - 0s 921us/step - loss: 0.3664 - acc: 0.8786 - val_loss: 0.1386 - val_acc: 0.9682\n",
      "\n",
      "Epoch 00036: val_loss improved from 0.14745 to 0.13859, saving model to dir_01.h5\n",
      "Epoch 37/200\n",
      "346/346 [==============================] - 0s 982us/step - loss: 0.3186 - acc: 0.8873 - val_loss: 0.1296 - val_acc: 0.9595\n",
      "\n",
      "Epoch 00037: val_loss improved from 0.13859 to 0.12963, saving model to dir_01.h5\n",
      "Epoch 38/200\n",
      "346/346 [==============================] - 0s 927us/step - loss: 0.2887 - acc: 0.8960 - val_loss: 0.1069 - val_acc: 0.9769\n",
      "\n",
      "Epoch 00038: val_loss improved from 0.12963 to 0.10686, saving model to dir_01.h5\n",
      "Epoch 39/200\n",
      "346/346 [==============================] - 0s 834us/step - loss: 0.2221 - acc: 0.9335 - val_loss: 0.1158 - val_acc: 0.9711\n",
      "\n",
      "Epoch 00039: val_loss did not improve from 0.10686\n",
      "Epoch 40/200\n",
      "346/346 [==============================] - 0s 970us/step - loss: 0.2577 - acc: 0.9249 - val_loss: 0.1050 - val_acc: 0.9798\n",
      "\n",
      "Epoch 00040: val_loss improved from 0.10686 to 0.10497, saving model to dir_01.h5\n",
      "Epoch 41/200\n",
      "346/346 [==============================] - 0s 978us/step - loss: 0.2477 - acc: 0.9191 - val_loss: 0.1122 - val_acc: 0.9624\n",
      "\n",
      "Epoch 00041: val_loss did not improve from 0.10497\n",
      "Epoch 42/200\n",
      "346/346 [==============================] - 0s 939us/step - loss: 0.2966 - acc: 0.9104 - val_loss: 0.1094 - val_acc: 0.9711\n",
      "\n",
      "Epoch 00042: val_loss did not improve from 0.10497\n",
      "Epoch 43/200\n",
      "346/346 [==============================] - 0s 991us/step - loss: 0.3117 - acc: 0.8873 - val_loss: 0.0951 - val_acc: 0.9827\n",
      "\n",
      "Epoch 00043: val_loss improved from 0.10497 to 0.09511, saving model to dir_01.h5\n",
      "Epoch 44/200\n",
      "346/346 [==============================] - 0s 879us/step - loss: 0.2901 - acc: 0.8988 - val_loss: 0.0870 - val_acc: 0.9827\n",
      "\n",
      "Epoch 00044: val_loss improved from 0.09511 to 0.08703, saving model to dir_01.h5\n",
      "Epoch 45/200\n",
      "346/346 [==============================] - 0s 895us/step - loss: 0.2221 - acc: 0.9335 - val_loss: 0.0919 - val_acc: 0.9798\n",
      "\n",
      "Epoch 00045: val_loss did not improve from 0.08703\n",
      "Epoch 46/200\n",
      "346/346 [==============================] - 0s 957us/step - loss: 0.2275 - acc: 0.9133 - val_loss: 0.0801 - val_acc: 0.9913\n",
      "\n",
      "Epoch 00046: val_loss improved from 0.08703 to 0.08009, saving model to dir_01.h5\n",
      "Epoch 47/200\n",
      "346/346 [==============================] - 0s 888us/step - loss: 0.2374 - acc: 0.9277 - val_loss: 0.0785 - val_acc: 0.9855\n",
      "\n",
      "Epoch 00047: val_loss improved from 0.08009 to 0.07846, saving model to dir_01.h5\n",
      "Epoch 48/200\n",
      "346/346 [==============================] - 0s 938us/step - loss: 0.2010 - acc: 0.9306 - val_loss: 0.0699 - val_acc: 0.9942\n",
      "\n",
      "Epoch 00048: val_loss improved from 0.07846 to 0.06987, saving model to dir_01.h5\n",
      "Epoch 49/200\n",
      "346/346 [==============================] - 0s 910us/step - loss: 0.2232 - acc: 0.9220 - val_loss: 0.0749 - val_acc: 0.9798\n",
      "\n",
      "Epoch 00049: val_loss did not improve from 0.06987\n",
      "Epoch 50/200\n",
      "346/346 [==============================] - 0s 922us/step - loss: 0.1874 - acc: 0.9422 - val_loss: 0.0953 - val_acc: 0.9855\n",
      "\n",
      "Epoch 00050: val_loss did not improve from 0.06987\n",
      "Epoch 51/200\n",
      "346/346 [==============================] - 0s 881us/step - loss: 0.2474 - acc: 0.9249 - val_loss: 0.0705 - val_acc: 0.9884\n",
      "\n",
      "Epoch 00051: val_loss did not improve from 0.06987\n",
      "Epoch 52/200\n",
      "346/346 [==============================] - 0s 851us/step - loss: 0.2048 - acc: 0.9191 - val_loss: 0.0609 - val_acc: 0.9884\n",
      "\n",
      "Epoch 00052: val_loss improved from 0.06987 to 0.06090, saving model to dir_01.h5\n",
      "Epoch 53/200\n",
      "346/346 [==============================] - 0s 1ms/step - loss: 0.2339 - acc: 0.9335 - val_loss: 0.0908 - val_acc: 0.9827\n",
      "\n",
      "Epoch 00053: val_loss did not improve from 0.06090\n",
      "Epoch 54/200\n",
      "346/346 [==============================] - 0s 958us/step - loss: 0.2173 - acc: 0.9364 - val_loss: 0.0763 - val_acc: 0.9855\n",
      "\n",
      "Epoch 00054: val_loss did not improve from 0.06090\n",
      "Epoch 55/200\n",
      "346/346 [==============================] - 0s 850us/step - loss: 0.2066 - acc: 0.9364 - val_loss: 0.0624 - val_acc: 0.9913\n",
      "\n",
      "Epoch 00055: val_loss did not improve from 0.06090\n",
      "Epoch 56/200\n",
      "346/346 [==============================] - 0s 925us/step - loss: 0.2101 - acc: 0.9451 - val_loss: 0.0921 - val_acc: 0.9740\n",
      "\n",
      "Epoch 00056: val_loss did not improve from 0.06090\n",
      "Epoch 57/200\n",
      "346/346 [==============================] - 0s 843us/step - loss: 0.2327 - acc: 0.9277 - val_loss: 0.0566 - val_acc: 0.9913\n",
      "\n",
      "Epoch 00057: val_loss improved from 0.06090 to 0.05662, saving model to dir_01.h5\n",
      "Epoch 58/200\n",
      "346/346 [==============================] - 0s 895us/step - loss: 0.2220 - acc: 0.9220 - val_loss: 0.0674 - val_acc: 0.9942\n",
      "\n",
      "Epoch 00058: val_loss did not improve from 0.05662\n",
      "Epoch 59/200\n",
      "346/346 [==============================] - 0s 855us/step - loss: 0.1865 - acc: 0.9422 - val_loss: 0.0617 - val_acc: 0.9884\n",
      "\n",
      "Epoch 00059: val_loss did not improve from 0.05662\n",
      "Epoch 60/200\n",
      "346/346 [==============================] - 0s 990us/step - loss: 0.2622 - acc: 0.9046 - val_loss: 0.0634 - val_acc: 0.9884\n",
      "\n",
      "Epoch 00060: val_loss did not improve from 0.05662\n",
      "Epoch 61/200\n",
      "346/346 [==============================] - 0s 1ms/step - loss: 0.2512 - acc: 0.9162 - val_loss: 0.0917 - val_acc: 0.9798\n",
      "\n",
      "Epoch 00061: val_loss did not improve from 0.05662\n",
      "Epoch 62/200\n",
      "346/346 [==============================] - 0s 1ms/step - loss: 0.2126 - acc: 0.9277 - val_loss: 0.0948 - val_acc: 0.9682\n",
      "\n",
      "Epoch 00062: val_loss did not improve from 0.05662\n",
      "Epoch 63/200\n",
      "346/346 [==============================] - 0s 1ms/step - loss: 0.2579 - acc: 0.9017 - val_loss: 0.0759 - val_acc: 0.9769\n",
      "\n",
      "Epoch 00063: val_loss did not improve from 0.05662\n",
      "Epoch 64/200\n",
      "346/346 [==============================] - 0s 1ms/step - loss: 0.2476 - acc: 0.9191 - val_loss: 0.0715 - val_acc: 0.9884\n",
      "\n",
      "Epoch 00064: val_loss did not improve from 0.05662\n",
      "Epoch 65/200\n",
      "346/346 [==============================] - 0s 1ms/step - loss: 0.2227 - acc: 0.9364 - val_loss: 0.0576 - val_acc: 0.9884\n",
      "\n",
      "Epoch 00065: val_loss did not improve from 0.05662\n",
      "Epoch 66/200\n",
      "346/346 [==============================] - 0s 1ms/step - loss: 0.3378 - acc: 0.8902 - val_loss: 0.0949 - val_acc: 0.9769\n",
      "\n",
      "Epoch 00066: val_loss did not improve from 0.05662\n",
      "Epoch 67/200\n",
      "346/346 [==============================] - 0s 832us/step - loss: 0.2717 - acc: 0.9133 - val_loss: 0.0952 - val_acc: 0.9855\n",
      "\n",
      "Epoch 00067: val_loss did not improve from 0.05662\n",
      "Epoch 68/200\n",
      "346/346 [==============================] - 0s 1ms/step - loss: 0.2560 - acc: 0.9220 - val_loss: 0.0597 - val_acc: 0.9942\n",
      "\n",
      "Epoch 00068: val_loss did not improve from 0.05662\n",
      "Epoch 69/200\n",
      "346/346 [==============================] - 0s 1ms/step - loss: 0.2395 - acc: 0.9277 - val_loss: 0.0901 - val_acc: 0.9798\n",
      "\n",
      "Epoch 00069: val_loss did not improve from 0.05662\n",
      "Epoch 70/200\n",
      "346/346 [==============================] - 0s 1ms/step - loss: 0.2755 - acc: 0.9133 - val_loss: 0.0700 - val_acc: 0.9855\n",
      "\n",
      "Epoch 00070: val_loss did not improve from 0.05662\n",
      "Epoch 71/200\n",
      "346/346 [==============================] - 0s 923us/step - loss: 0.2484 - acc: 0.9104 - val_loss: 0.0561 - val_acc: 0.9942\n",
      "\n",
      "Epoch 00071: val_loss improved from 0.05662 to 0.05610, saving model to dir_01.h5\n",
      "Epoch 72/200\n",
      "346/346 [==============================] - 0s 1ms/step - loss: 0.1692 - acc: 0.9509 - val_loss: 0.0624 - val_acc: 0.9855\n",
      "\n",
      "Epoch 00072: val_loss did not improve from 0.05610\n",
      "Epoch 73/200\n",
      "346/346 [==============================] - 0s 861us/step - loss: 0.2445 - acc: 0.9162 - val_loss: 0.0758 - val_acc: 0.9884\n",
      "\n",
      "Epoch 00073: val_loss did not improve from 0.05610\n",
      "Epoch 74/200\n",
      "346/346 [==============================] - 0s 863us/step - loss: 0.2171 - acc: 0.9162 - val_loss: 0.0381 - val_acc: 0.9942\n",
      "\n",
      "Epoch 00074: val_loss improved from 0.05610 to 0.03810, saving model to dir_01.h5\n",
      "Epoch 75/200\n",
      "346/346 [==============================] - 0s 893us/step - loss: 0.1846 - acc: 0.9393 - val_loss: 0.0333 - val_acc: 0.9942\n",
      "\n",
      "Epoch 00075: val_loss improved from 0.03810 to 0.03333, saving model to dir_01.h5\n",
      "Epoch 76/200\n",
      "346/346 [==============================] - 0s 952us/step - loss: 0.1920 - acc: 0.9364 - val_loss: 0.0352 - val_acc: 0.9971\n",
      "\n",
      "Epoch 00076: val_loss did not improve from 0.03333\n",
      "Epoch 77/200\n",
      "346/346 [==============================] - 0s 955us/step - loss: 0.1422 - acc: 0.9480 - val_loss: 0.0293 - val_acc: 0.9942\n",
      "\n",
      "Epoch 00077: val_loss improved from 0.03333 to 0.02928, saving model to dir_01.h5\n",
      "Epoch 78/200\n",
      "346/346 [==============================] - 0s 903us/step - loss: 0.1390 - acc: 0.9566 - val_loss: 0.0342 - val_acc: 0.9942\n",
      "\n",
      "Epoch 00078: val_loss did not improve from 0.02928\n",
      "Epoch 79/200\n",
      "346/346 [==============================] - 0s 1ms/step - loss: 0.1682 - acc: 0.9624 - val_loss: 0.0259 - val_acc: 0.9942\n",
      "\n",
      "Epoch 00079: val_loss improved from 0.02928 to 0.02590, saving model to dir_01.h5\n",
      "Epoch 80/200\n",
      "346/346 [==============================] - 0s 1ms/step - loss: 0.1242 - acc: 0.9653 - val_loss: 0.0254 - val_acc: 0.9913\n",
      "\n",
      "Epoch 00080: val_loss improved from 0.02590 to 0.02537, saving model to dir_01.h5\n",
      "Epoch 81/200\n",
      "346/346 [==============================] - 0s 912us/step - loss: 0.0826 - acc: 0.9740 - val_loss: 0.0244 - val_acc: 0.9971\n",
      "\n",
      "Epoch 00081: val_loss improved from 0.02537 to 0.02437, saving model to dir_01.h5\n",
      "Epoch 82/200\n",
      "346/346 [==============================] - 0s 901us/step - loss: 0.1280 - acc: 0.9711 - val_loss: 0.0227 - val_acc: 0.9942\n",
      "\n",
      "Epoch 00082: val_loss improved from 0.02437 to 0.02272, saving model to dir_01.h5\n",
      "Epoch 83/200\n"
     ]
    },
    {
     "name": "stdout",
     "output_type": "stream",
     "text": [
      "346/346 [==============================] - 0s 899us/step - loss: 0.1587 - acc: 0.9393 - val_loss: 0.0234 - val_acc: 0.9971\n",
      "\n",
      "Epoch 00083: val_loss did not improve from 0.02272\n",
      "Epoch 84/200\n",
      "346/346 [==============================] - 0s 803us/step - loss: 0.1800 - acc: 0.9422 - val_loss: 0.0244 - val_acc: 0.9971\n",
      "\n",
      "Epoch 00084: val_loss did not improve from 0.02272\n",
      "Epoch 85/200\n",
      "346/346 [==============================] - 0s 853us/step - loss: 0.1441 - acc: 0.9538 - val_loss: 0.0272 - val_acc: 0.9971\n",
      "\n",
      "Epoch 00085: val_loss did not improve from 0.02272\n",
      "Epoch 86/200\n",
      "346/346 [==============================] - 0s 921us/step - loss: 0.1346 - acc: 0.9624 - val_loss: 0.0239 - val_acc: 0.9942\n",
      "\n",
      "Epoch 00086: val_loss did not improve from 0.02272\n",
      "Epoch 87/200\n",
      "346/346 [==============================] - 0s 942us/step - loss: 0.1266 - acc: 0.9682 - val_loss: 0.0204 - val_acc: 0.9971\n",
      "\n",
      "Epoch 00087: val_loss improved from 0.02272 to 0.02037, saving model to dir_01.h5\n",
      "Epoch 88/200\n",
      "346/346 [==============================] - 0s 1ms/step - loss: 0.1200 - acc: 0.9653 - val_loss: 0.0186 - val_acc: 0.9942\n",
      "\n",
      "Epoch 00088: val_loss improved from 0.02037 to 0.01863, saving model to dir_01.h5\n",
      "Epoch 89/200\n",
      "346/346 [==============================] - 0s 1ms/step - loss: 0.1513 - acc: 0.9422 - val_loss: 0.0223 - val_acc: 0.9971\n",
      "\n",
      "Epoch 00089: val_loss did not improve from 0.01863\n",
      "Epoch 90/200\n",
      "346/346 [==============================] - 0s 820us/step - loss: 0.1707 - acc: 0.9509 - val_loss: 0.0184 - val_acc: 0.9971\n",
      "\n",
      "Epoch 00090: val_loss improved from 0.01863 to 0.01836, saving model to dir_01.h5\n",
      "Epoch 91/200\n",
      "346/346 [==============================] - 0s 1ms/step - loss: 0.1249 - acc: 0.9566 - val_loss: 0.0315 - val_acc: 0.9942\n",
      "\n",
      "Epoch 00091: val_loss did not improve from 0.01836\n",
      "Epoch 92/200\n",
      "346/346 [==============================] - 0s 1ms/step - loss: 0.1452 - acc: 0.9509 - val_loss: 0.0320 - val_acc: 0.9942\n",
      "\n",
      "Epoch 00092: val_loss did not improve from 0.01836\n",
      "Epoch 93/200\n",
      "346/346 [==============================] - 0s 1ms/step - loss: 0.1427 - acc: 0.9595 - val_loss: 0.0235 - val_acc: 0.9942\n",
      "\n",
      "Epoch 00093: val_loss did not improve from 0.01836\n",
      "Epoch 94/200\n",
      "346/346 [==============================] - 0s 925us/step - loss: 0.1505 - acc: 0.9509 - val_loss: 0.0193 - val_acc: 0.9971\n",
      "\n",
      "Epoch 00094: val_loss did not improve from 0.01836\n",
      "Epoch 95/200\n",
      "346/346 [==============================] - 0s 1ms/step - loss: 0.2845 - acc: 0.9075 - val_loss: 0.1523 - val_acc: 0.9509\n",
      "\n",
      "Epoch 00095: val_loss did not improve from 0.01836\n",
      "Epoch 96/200\n",
      "346/346 [==============================] - 0s 980us/step - loss: 0.2455 - acc: 0.9104 - val_loss: 0.0558 - val_acc: 0.9884\n",
      "\n",
      "Epoch 00096: val_loss did not improve from 0.01836\n",
      "Epoch 97/200\n",
      "346/346 [==============================] - 0s 874us/step - loss: 0.1918 - acc: 0.9451 - val_loss: 0.0337 - val_acc: 0.9942\n",
      "\n",
      "Epoch 00097: val_loss did not improve from 0.01836\n",
      "Epoch 98/200\n",
      "346/346 [==============================] - 0s 938us/step - loss: 0.1853 - acc: 0.9509 - val_loss: 0.0319 - val_acc: 0.9913\n",
      "\n",
      "Epoch 00098: val_loss did not improve from 0.01836\n",
      "Epoch 99/200\n",
      "346/346 [==============================] - 0s 934us/step - loss: 0.1951 - acc: 0.9306 - val_loss: 0.0455 - val_acc: 0.9884\n",
      "\n",
      "Epoch 00099: val_loss did not improve from 0.01836\n",
      "Epoch 100/200\n",
      "346/346 [==============================] - 0s 1ms/step - loss: 0.1635 - acc: 0.9480 - val_loss: 0.0270 - val_acc: 0.9971\n",
      "\n",
      "Epoch 00100: val_loss did not improve from 0.01836\n",
      "Epoch 101/200\n",
      "346/346 [==============================] - 0s 900us/step - loss: 0.1314 - acc: 0.9624 - val_loss: 0.0247 - val_acc: 0.9913\n",
      "\n",
      "Epoch 00101: val_loss did not improve from 0.01836\n",
      "Epoch 102/200\n",
      "346/346 [==============================] - 0s 880us/step - loss: 0.1420 - acc: 0.9451 - val_loss: 0.0448 - val_acc: 0.9855\n",
      "\n",
      "Epoch 00102: val_loss did not improve from 0.01836\n",
      "Epoch 103/200\n",
      "346/346 [==============================] - 0s 1ms/step - loss: 0.1397 - acc: 0.9595 - val_loss: 0.0264 - val_acc: 0.9942\n",
      "\n",
      "Epoch 00103: val_loss did not improve from 0.01836\n",
      "Epoch 104/200\n",
      "346/346 [==============================] - 0s 1ms/step - loss: 0.1090 - acc: 0.9566 - val_loss: 0.0189 - val_acc: 0.9971\n",
      "\n",
      "Epoch 00104: val_loss did not improve from 0.01836\n",
      "Epoch 105/200\n",
      "346/346 [==============================] - 0s 1ms/step - loss: 0.1375 - acc: 0.9538 - val_loss: 0.0223 - val_acc: 0.9971\n",
      "\n",
      "Epoch 00105: val_loss did not improve from 0.01836\n",
      "Epoch 106/200\n",
      "346/346 [==============================] - 0s 1ms/step - loss: 0.1485 - acc: 0.9653 - val_loss: 0.0162 - val_acc: 0.9971\n",
      "\n",
      "Epoch 00106: val_loss improved from 0.01836 to 0.01617, saving model to dir_01.h5\n",
      "Epoch 107/200\n",
      "346/346 [==============================] - 0s 1ms/step - loss: 0.1397 - acc: 0.9538 - val_loss: 0.0188 - val_acc: 0.9971\n",
      "\n",
      "Epoch 00107: val_loss did not improve from 0.01617\n",
      "Epoch 108/200\n",
      "346/346 [==============================] - 0s 913us/step - loss: 0.1142 - acc: 0.9624 - val_loss: 0.0160 - val_acc: 0.9971\n",
      "\n",
      "Epoch 00108: val_loss improved from 0.01617 to 0.01597, saving model to dir_01.h5\n",
      "Epoch 109/200\n",
      "346/346 [==============================] - 0s 929us/step - loss: 0.1196 - acc: 0.9566 - val_loss: 0.0311 - val_acc: 0.9913\n",
      "\n",
      "Epoch 00109: val_loss did not improve from 0.01597\n",
      "Epoch 110/200\n",
      "346/346 [==============================] - 0s 901us/step - loss: 0.0961 - acc: 0.9682 - val_loss: 0.0135 - val_acc: 0.9971\n",
      "\n",
      "Epoch 00110: val_loss improved from 0.01597 to 0.01351, saving model to dir_01.h5\n",
      "Epoch 111/200\n",
      "346/346 [==============================] - 0s 901us/step - loss: 0.1074 - acc: 0.9711 - val_loss: 0.0125 - val_acc: 0.9971\n",
      "\n",
      "Epoch 00111: val_loss improved from 0.01351 to 0.01249, saving model to dir_01.h5\n",
      "Epoch 112/200\n",
      "346/346 [==============================] - 0s 883us/step - loss: 0.1252 - acc: 0.9624 - val_loss: 0.0150 - val_acc: 0.9971\n",
      "\n",
      "Epoch 00112: val_loss did not improve from 0.01249\n",
      "Epoch 113/200\n",
      "346/346 [==============================] - 0s 881us/step - loss: 0.1139 - acc: 0.9566 - val_loss: 0.0198 - val_acc: 0.9971\n",
      "\n",
      "Epoch 00113: val_loss did not improve from 0.01249\n",
      "Epoch 114/200\n",
      "346/346 [==============================] - 0s 1ms/step - loss: 0.1255 - acc: 0.9595 - val_loss: 0.0146 - val_acc: 0.9971\n",
      "\n",
      "Epoch 00114: val_loss did not improve from 0.01249\n",
      "Epoch 115/200\n",
      "346/346 [==============================] - 0s 1ms/step - loss: 0.1295 - acc: 0.9595 - val_loss: 0.0147 - val_acc: 0.9971\n",
      "\n",
      "Epoch 00115: val_loss did not improve from 0.01249\n",
      "Epoch 116/200\n",
      "346/346 [==============================] - 0s 912us/step - loss: 0.0989 - acc: 0.9711 - val_loss: 0.0206 - val_acc: 0.9942\n",
      "\n",
      "Epoch 00116: val_loss did not improve from 0.01249\n",
      "Epoch 117/200\n",
      "346/346 [==============================] - 0s 985us/step - loss: 0.1088 - acc: 0.9682 - val_loss: 0.0148 - val_acc: 0.9971\n",
      "\n",
      "Epoch 00117: val_loss did not improve from 0.01249\n",
      "Epoch 118/200\n",
      "346/346 [==============================] - 0s 1ms/step - loss: 0.1518 - acc: 0.9566 - val_loss: 0.0166 - val_acc: 0.9942\n",
      "\n",
      "Epoch 00118: val_loss did not improve from 0.01249\n",
      "Epoch 119/200\n",
      "346/346 [==============================] - 0s 958us/step - loss: 0.1308 - acc: 0.9509 - val_loss: 0.0134 - val_acc: 0.9971\n",
      "\n",
      "Epoch 00119: val_loss did not improve from 0.01249\n",
      "Epoch 120/200\n",
      "346/346 [==============================] - 0s 1ms/step - loss: 0.1080 - acc: 0.9595 - val_loss: 0.0119 - val_acc: 0.9971\n",
      "\n",
      "Epoch 00120: val_loss improved from 0.01249 to 0.01189, saving model to dir_01.h5\n",
      "Epoch 121/200\n",
      "346/346 [==============================] - 0s 1ms/step - loss: 0.1233 - acc: 0.9566 - val_loss: 0.0115 - val_acc: 0.9971\n",
      "\n",
      "Epoch 00121: val_loss improved from 0.01189 to 0.01155, saving model to dir_01.h5\n",
      "Epoch 122/200\n",
      "346/346 [==============================] - 0s 1ms/step - loss: 0.1460 - acc: 0.9393 - val_loss: 0.0149 - val_acc: 0.9971\n",
      "\n",
      "Epoch 00122: val_loss did not improve from 0.01155\n",
      "Epoch 123/200\n",
      "346/346 [==============================] - 0s 1ms/step - loss: 0.0935 - acc: 0.9711 - val_loss: 0.0117 - val_acc: 0.9971\n",
      "\n",
      "Epoch 00123: val_loss did not improve from 0.01155\n",
      "Epoch 124/200\n",
      "346/346 [==============================] - 0s 1ms/step - loss: 0.0881 - acc: 0.9682 - val_loss: 0.0160 - val_acc: 0.9971\n",
      "\n",
      "Epoch 00124: val_loss did not improve from 0.01155\n",
      "Epoch 125/200\n",
      "346/346 [==============================] - 1s 1ms/step - loss: 0.1365 - acc: 0.9393 - val_loss: 0.0118 - val_acc: 0.9971\n",
      "\n",
      "Epoch 00125: val_loss did not improve from 0.01155\n",
      "Epoch 126/200\n",
      "346/346 [==============================] - 0s 917us/step - loss: 0.0848 - acc: 0.9711 - val_loss: 0.0175 - val_acc: 0.9942\n",
      "\n",
      "Epoch 00126: val_loss did not improve from 0.01155\n",
      "Epoch 127/200\n",
      "346/346 [==============================] - 0s 911us/step - loss: 0.1080 - acc: 0.9566 - val_loss: 0.0143 - val_acc: 0.9971\n",
      "\n",
      "Epoch 00127: val_loss did not improve from 0.01155\n",
      "Epoch 128/200\n",
      "346/346 [==============================] - 0s 1ms/step - loss: 0.0963 - acc: 0.9711 - val_loss: 0.0120 - val_acc: 0.9971\n",
      "\n",
      "Epoch 00128: val_loss did not improve from 0.01155\n",
      "Epoch 129/200\n",
      "346/346 [==============================] - 0s 985us/step - loss: 0.1371 - acc: 0.9538 - val_loss: 0.0097 - val_acc: 0.9971\n",
      "\n",
      "Epoch 00129: val_loss improved from 0.01155 to 0.00974, saving model to dir_01.h5\n",
      "Epoch 130/200\n",
      "346/346 [==============================] - 0s 1ms/step - loss: 0.1333 - acc: 0.9509 - val_loss: 0.0107 - val_acc: 0.9971\n",
      "\n",
      "Epoch 00130: val_loss did not improve from 0.00974\n",
      "Epoch 131/200\n",
      "346/346 [==============================] - 0s 867us/step - loss: 0.1167 - acc: 0.9682 - val_loss: 0.0098 - val_acc: 0.9971\n",
      "\n",
      "Epoch 00131: val_loss did not improve from 0.00974\n",
      "Epoch 132/200\n",
      "346/346 [==============================] - 0s 918us/step - loss: 0.1176 - acc: 0.9595 - val_loss: 0.0112 - val_acc: 0.9971\n",
      "\n",
      "Epoch 00132: val_loss did not improve from 0.00974\n",
      "Epoch 133/200\n",
      "346/346 [==============================] - 0s 898us/step - loss: 0.0848 - acc: 0.9769 - val_loss: 0.0097 - val_acc: 0.9971\n",
      "\n",
      "Epoch 00133: val_loss improved from 0.00974 to 0.00967, saving model to dir_01.h5\n",
      "Epoch 134/200\n",
      "346/346 [==============================] - 0s 854us/step - loss: 0.0838 - acc: 0.9711 - val_loss: 0.0091 - val_acc: 0.9971\n",
      "\n",
      "Epoch 00134: val_loss improved from 0.00967 to 0.00906, saving model to dir_01.h5\n",
      "Epoch 135/200\n",
      "346/346 [==============================] - 0s 865us/step - loss: 0.1068 - acc: 0.9624 - val_loss: 0.0109 - val_acc: 0.9971\n",
      "\n",
      "Epoch 00135: val_loss did not improve from 0.00906\n",
      "Epoch 136/200\n",
      "346/346 [==============================] - 0s 941us/step - loss: 0.0986 - acc: 0.9682 - val_loss: 0.0096 - val_acc: 0.9971\n",
      "\n",
      "Epoch 00136: val_loss did not improve from 0.00906\n",
      "Epoch 137/200\n",
      "346/346 [==============================] - 0s 920us/step - loss: 0.0807 - acc: 0.9769 - val_loss: 0.0085 - val_acc: 0.9971\n",
      "\n",
      "Epoch 00137: val_loss improved from 0.00906 to 0.00848, saving model to dir_01.h5\n",
      "Epoch 138/200\n",
      "346/346 [==============================] - 0s 885us/step - loss: 0.1098 - acc: 0.9624 - val_loss: 0.0095 - val_acc: 0.9971\n",
      "\n",
      "Epoch 00138: val_loss did not improve from 0.00848\n",
      "Epoch 139/200\n",
      "346/346 [==============================] - 0s 877us/step - loss: 0.0747 - acc: 0.9711 - val_loss: 0.0112 - val_acc: 0.9971\n",
      "\n",
      "Epoch 00139: val_loss did not improve from 0.00848\n",
      "Epoch 140/200\n",
      "346/346 [==============================] - 0s 894us/step - loss: 0.0928 - acc: 0.9711 - val_loss: 0.0081 - val_acc: 0.9971\n",
      "\n",
      "Epoch 00140: val_loss improved from 0.00848 to 0.00812, saving model to dir_01.h5\n",
      "Epoch 141/200\n",
      "346/346 [==============================] - 0s 877us/step - loss: 0.0971 - acc: 0.9740 - val_loss: 0.0080 - val_acc: 0.9971\n",
      "\n",
      "Epoch 00141: val_loss improved from 0.00812 to 0.00799, saving model to dir_01.h5\n",
      "Epoch 142/200\n",
      "346/346 [==============================] - 0s 880us/step - loss: 0.1219 - acc: 0.9538 - val_loss: 0.0090 - val_acc: 0.9971\n",
      "\n",
      "Epoch 00142: val_loss did not improve from 0.00799\n",
      "Epoch 143/200\n",
      "346/346 [==============================] - 0s 885us/step - loss: 0.1477 - acc: 0.9682 - val_loss: 0.1214 - val_acc: 0.9595\n",
      "\n",
      "Epoch 00143: val_loss did not improve from 0.00799\n",
      "Epoch 144/200\n",
      "346/346 [==============================] - 0s 887us/step - loss: 0.3002 - acc: 0.9104 - val_loss: 0.0383 - val_acc: 0.9827\n",
      "\n",
      "Epoch 00144: val_loss did not improve from 0.00799\n",
      "Epoch 145/200\n",
      "346/346 [==============================] - 0s 875us/step - loss: 0.2764 - acc: 0.9249 - val_loss: 0.1708 - val_acc: 0.9393\n",
      "\n",
      "Epoch 00145: val_loss did not improve from 0.00799\n",
      "Epoch 146/200\n",
      "346/346 [==============================] - 0s 885us/step - loss: 0.5760 - acc: 0.8728 - val_loss: 0.3550 - val_acc: 0.9422\n",
      "\n",
      "Epoch 00146: val_loss did not improve from 0.00799\n",
      "Epoch 147/200\n",
      "346/346 [==============================] - 0s 892us/step - loss: 0.5565 - acc: 0.8497 - val_loss: 0.8793 - val_acc: 0.8092\n",
      "\n",
      "Epoch 00147: val_loss did not improve from 0.00799\n",
      "Epoch 148/200\n",
      "346/346 [==============================] - 0s 889us/step - loss: 0.6299 - acc: 0.8382 - val_loss: 0.4772 - val_acc: 0.8960\n",
      "\n",
      "Epoch 00148: val_loss did not improve from 0.00799\n",
      "Epoch 149/200\n",
      "346/346 [==============================] - 0s 1ms/step - loss: 0.5316 - acc: 0.8786 - val_loss: 0.2780 - val_acc: 0.9364\n",
      "\n",
      "Epoch 00149: val_loss did not improve from 0.00799\n",
      "Epoch 150/200\n",
      "346/346 [==============================] - 0s 1ms/step - loss: 0.3175 - acc: 0.8960 - val_loss: 0.2449 - val_acc: 0.9624\n",
      "\n",
      "Epoch 00150: val_loss did not improve from 0.00799\n",
      "Epoch 151/200\n",
      "346/346 [==============================] - 0s 904us/step - loss: 0.4034 - acc: 0.9133 - val_loss: 0.2298 - val_acc: 0.9595\n",
      "\n",
      "Epoch 00151: val_loss did not improve from 0.00799\n",
      "Epoch 152/200\n",
      "346/346 [==============================] - 0s 1ms/step - loss: 0.3671 - acc: 0.9017 - val_loss: 0.2014 - val_acc: 0.9769\n",
      "\n",
      "Epoch 00152: val_loss did not improve from 0.00799\n",
      "Epoch 153/200\n",
      "346/346 [==============================] - 0s 1ms/step - loss: 0.3083 - acc: 0.9335 - val_loss: 0.1734 - val_acc: 0.9855\n",
      "\n",
      "Epoch 00153: val_loss did not improve from 0.00799\n",
      "Epoch 154/200\n",
      "346/346 [==============================] - 0s 1ms/step - loss: 0.2883 - acc: 0.9538 - val_loss: 0.1663 - val_acc: 0.9855\n",
      "\n",
      "Epoch 00154: val_loss did not improve from 0.00799\n",
      "Epoch 155/200\n",
      "346/346 [==============================] - 0s 1ms/step - loss: 0.2737 - acc: 0.9509 - val_loss: 0.1611 - val_acc: 0.9884\n",
      "\n",
      "Epoch 00155: val_loss did not improve from 0.00799\n",
      "Epoch 156/200\n",
      "346/346 [==============================] - 0s 1ms/step - loss: 0.2495 - acc: 0.9451 - val_loss: 0.1516 - val_acc: 0.9855\n",
      "\n",
      "Epoch 00156: val_loss did not improve from 0.00799\n",
      "Epoch 157/200\n",
      "346/346 [==============================] - 0s 1ms/step - loss: 0.2576 - acc: 0.9335 - val_loss: 0.0711 - val_acc: 0.9913\n",
      "\n",
      "Epoch 00157: val_loss did not improve from 0.00799\n",
      "Epoch 158/200\n",
      "346/346 [==============================] - 0s 1ms/step - loss: 0.1616 - acc: 0.9740 - val_loss: 0.0673 - val_acc: 0.9942\n",
      "\n",
      "Epoch 00158: val_loss did not improve from 0.00799\n",
      "Epoch 159/200\n",
      "346/346 [==============================] - 0s 955us/step - loss: 0.1959 - acc: 0.9480 - val_loss: 0.0183 - val_acc: 0.9971\n",
      "\n",
      "Epoch 00159: val_loss did not improve from 0.00799\n",
      "Epoch 160/200\n",
      "346/346 [==============================] - 0s 1ms/step - loss: 0.2943 - acc: 0.9277 - val_loss: 0.1028 - val_acc: 0.9827\n",
      "\n",
      "Epoch 00160: val_loss did not improve from 0.00799\n",
      "Epoch 161/200\n",
      "346/346 [==============================] - 0s 952us/step - loss: 0.1908 - acc: 0.9538 - val_loss: 0.0634 - val_acc: 0.9913\n",
      "\n",
      "Epoch 00161: val_loss did not improve from 0.00799\n",
      "Epoch 162/200\n",
      "346/346 [==============================] - 0s 986us/step - loss: 0.1720 - acc: 0.9509 - val_loss: 0.0455 - val_acc: 0.9913\n",
      "\n",
      "Epoch 00162: val_loss did not improve from 0.00799\n",
      "Epoch 163/200\n",
      "346/346 [==============================] - 0s 1ms/step - loss: 0.1829 - acc: 0.9480 - val_loss: 0.0394 - val_acc: 0.9913\n",
      "\n",
      "Epoch 00163: val_loss did not improve from 0.00799\n",
      "Epoch 164/200\n",
      "346/346 [==============================] - 0s 1ms/step - loss: 0.1737 - acc: 0.9393 - val_loss: 0.0262 - val_acc: 0.9942\n",
      "\n",
      "Epoch 00164: val_loss did not improve from 0.00799\n",
      "Epoch 165/200\n",
      "346/346 [==============================] - 0s 1ms/step - loss: 0.1405 - acc: 0.9740 - val_loss: 0.0171 - val_acc: 0.9971\n",
      "\n",
      "Epoch 00165: val_loss did not improve from 0.00799\n",
      "Epoch 166/200\n",
      "346/346 [==============================] - 0s 953us/step - loss: 0.1339 - acc: 0.9538 - val_loss: 0.0147 - val_acc: 0.9971\n",
      "\n",
      "Epoch 00166: val_loss did not improve from 0.00799\n",
      "Epoch 167/200\n",
      "346/346 [==============================] - 0s 1ms/step - loss: 0.1203 - acc: 0.9711 - val_loss: 0.0129 - val_acc: 0.9971\n"
     ]
    },
    {
     "name": "stdout",
     "output_type": "stream",
     "text": [
      "\n",
      "Epoch 00167: val_loss did not improve from 0.00799\n",
      "Epoch 168/200\n",
      "346/346 [==============================] - 0s 884us/step - loss: 0.1046 - acc: 0.9653 - val_loss: 0.0136 - val_acc: 0.9971\n",
      "\n",
      "Epoch 00168: val_loss did not improve from 0.00799\n",
      "Epoch 169/200\n",
      "346/346 [==============================] - 0s 894us/step - loss: 0.1739 - acc: 0.9595 - val_loss: 0.0171 - val_acc: 0.9942\n",
      "\n",
      "Epoch 00169: val_loss did not improve from 0.00799\n",
      "Epoch 170/200\n",
      "346/346 [==============================] - 0s 947us/step - loss: 0.1066 - acc: 0.9595 - val_loss: 0.0103 - val_acc: 0.9971\n",
      "\n",
      "Epoch 00170: val_loss did not improve from 0.00799\n",
      "Epoch 171/200\n",
      "346/346 [==============================] - 0s 868us/step - loss: 0.0940 - acc: 0.9740 - val_loss: 0.0096 - val_acc: 0.9971\n",
      "\n",
      "Epoch 00171: val_loss did not improve from 0.00799\n",
      "Epoch 172/200\n",
      "346/346 [==============================] - 0s 848us/step - loss: 0.1061 - acc: 0.9711 - val_loss: 0.0087 - val_acc: 0.9971\n",
      "\n",
      "Epoch 00172: val_loss did not improve from 0.00799\n",
      "Epoch 173/200\n",
      "346/346 [==============================] - 0s 959us/step - loss: 0.1044 - acc: 0.9566 - val_loss: 0.0084 - val_acc: 0.9971\n",
      "\n",
      "Epoch 00173: val_loss did not improve from 0.00799\n",
      "Epoch 174/200\n",
      "346/346 [==============================] - 0s 1ms/step - loss: 0.1350 - acc: 0.9624 - val_loss: 0.0092 - val_acc: 0.9971\n",
      "\n",
      "Epoch 00174: val_loss did not improve from 0.00799\n",
      "Epoch 175/200\n",
      "346/346 [==============================] - 0s 1ms/step - loss: 0.0924 - acc: 0.9682 - val_loss: 0.0090 - val_acc: 0.9971\n",
      "\n",
      "Epoch 00175: val_loss did not improve from 0.00799\n",
      "Epoch 176/200\n",
      "346/346 [==============================] - 0s 850us/step - loss: 0.1562 - acc: 0.9306 - val_loss: 0.0241 - val_acc: 0.9942\n",
      "\n",
      "Epoch 00176: val_loss did not improve from 0.00799\n",
      "Epoch 177/200\n",
      "346/346 [==============================] - 0s 1ms/step - loss: 0.2094 - acc: 0.9451 - val_loss: 0.0207 - val_acc: 0.9913\n",
      "\n",
      "Epoch 00177: val_loss did not improve from 0.00799\n",
      "Epoch 178/200\n",
      "346/346 [==============================] - 0s 1ms/step - loss: 0.2403 - acc: 0.9306 - val_loss: 0.0305 - val_acc: 0.9942\n",
      "\n",
      "Epoch 00178: val_loss did not improve from 0.00799\n",
      "Epoch 179/200\n",
      "346/346 [==============================] - 0s 1ms/step - loss: 0.2902 - acc: 0.9104 - val_loss: 0.0878 - val_acc: 0.9682\n",
      "\n",
      "Epoch 00179: val_loss did not improve from 0.00799\n",
      "Epoch 180/200\n",
      "346/346 [==============================] - 0s 1ms/step - loss: 0.3210 - acc: 0.9104 - val_loss: 0.1015 - val_acc: 0.9682\n",
      "\n",
      "Epoch 00180: val_loss did not improve from 0.00799\n",
      "Epoch 181/200\n",
      "346/346 [==============================] - 0s 853us/step - loss: 0.2131 - acc: 0.9335 - val_loss: 0.0494 - val_acc: 0.9855\n",
      "\n",
      "Epoch 00181: val_loss did not improve from 0.00799\n",
      "Epoch 182/200\n",
      "346/346 [==============================] - 0s 1ms/step - loss: 0.2509 - acc: 0.9364 - val_loss: 0.1600 - val_acc: 0.9566\n",
      "\n",
      "Epoch 00182: val_loss did not improve from 0.00799\n",
      "Epoch 183/200\n",
      "346/346 [==============================] - 0s 943us/step - loss: 0.3209 - acc: 0.9017 - val_loss: 0.2995 - val_acc: 0.9364\n",
      "\n",
      "Epoch 00183: val_loss did not improve from 0.00799\n",
      "Epoch 184/200\n",
      "346/346 [==============================] - 0s 910us/step - loss: 0.2221 - acc: 0.9335 - val_loss: 0.0333 - val_acc: 0.9942\n",
      "\n",
      "Epoch 00184: val_loss did not improve from 0.00799\n",
      "Epoch 185/200\n",
      "346/346 [==============================] - 0s 1ms/step - loss: 0.1343 - acc: 0.9653 - val_loss: 0.0274 - val_acc: 0.9942\n",
      "\n",
      "Epoch 00185: val_loss did not improve from 0.00799\n",
      "Epoch 186/200\n",
      "346/346 [==============================] - 0s 971us/step - loss: 0.1239 - acc: 0.9653 - val_loss: 0.0194 - val_acc: 0.9971\n",
      "\n",
      "Epoch 00186: val_loss did not improve from 0.00799\n",
      "Epoch 187/200\n",
      "346/346 [==============================] - 0s 1ms/step - loss: 0.1263 - acc: 0.9653 - val_loss: 0.0126 - val_acc: 0.9971\n",
      "\n",
      "Epoch 00187: val_loss did not improve from 0.00799\n",
      "Epoch 188/200\n",
      "346/346 [==============================] - 0s 884us/step - loss: 0.1345 - acc: 0.9653 - val_loss: 0.0121 - val_acc: 0.9971\n",
      "\n",
      "Epoch 00188: val_loss did not improve from 0.00799\n",
      "Epoch 189/200\n",
      "346/346 [==============================] - 0s 1ms/step - loss: 0.1103 - acc: 0.9740 - val_loss: 0.0103 - val_acc: 0.9971\n",
      "\n",
      "Epoch 00189: val_loss did not improve from 0.00799\n",
      "Epoch 190/200\n",
      "346/346 [==============================] - 0s 1ms/step - loss: 0.1064 - acc: 0.9538 - val_loss: 0.0097 - val_acc: 0.9971\n",
      "\n",
      "Epoch 00190: val_loss did not improve from 0.00799\n",
      "Epoch 191/200\n",
      "346/346 [==============================] - 0s 1ms/step - loss: 0.0914 - acc: 0.9827 - val_loss: 0.0087 - val_acc: 0.9971\n",
      "\n",
      "Epoch 00191: val_loss did not improve from 0.00799\n",
      "Epoch 192/200\n",
      "346/346 [==============================] - 0s 1ms/step - loss: 0.1047 - acc: 0.9682 - val_loss: 0.0111 - val_acc: 0.9971\n",
      "\n",
      "Epoch 00192: val_loss did not improve from 0.00799\n",
      "Epoch 193/200\n",
      "346/346 [==============================] - 0s 1ms/step - loss: 0.1053 - acc: 0.9711 - val_loss: 0.0093 - val_acc: 0.9971\n",
      "\n",
      "Epoch 00193: val_loss did not improve from 0.00799\n",
      "Epoch 194/200\n",
      "346/346 [==============================] - 0s 1ms/step - loss: 0.0837 - acc: 0.9711 - val_loss: 0.0081 - val_acc: 0.9971\n",
      "\n",
      "Epoch 00194: val_loss did not improve from 0.00799\n",
      "Epoch 195/200\n",
      "346/346 [==============================] - 0s 1ms/step - loss: 0.0975 - acc: 0.9653 - val_loss: 0.0072 - val_acc: 0.9971\n",
      "\n",
      "Epoch 00195: val_loss improved from 0.00799 to 0.00724, saving model to dir_01.h5\n",
      "Epoch 196/200\n",
      "346/346 [==============================] - 0s 998us/step - loss: 0.1071 - acc: 0.9595 - val_loss: 0.0074 - val_acc: 0.9971\n",
      "\n",
      "Epoch 00196: val_loss did not improve from 0.00724\n",
      "Epoch 197/200\n",
      "346/346 [==============================] - 0s 1ms/step - loss: 0.1007 - acc: 0.9740 - val_loss: 0.0125 - val_acc: 0.9942\n",
      "\n",
      "Epoch 00197: val_loss did not improve from 0.00724\n",
      "Epoch 198/200\n",
      "346/346 [==============================] - 0s 1ms/step - loss: 0.1182 - acc: 0.9653 - val_loss: 0.0081 - val_acc: 0.9971\n",
      "\n",
      "Epoch 00198: val_loss did not improve from 0.00724\n",
      "Epoch 199/200\n",
      "346/346 [==============================] - 0s 1ms/step - loss: 0.1014 - acc: 0.9711 - val_loss: 0.0071 - val_acc: 0.9971\n",
      "\n",
      "Epoch 00199: val_loss improved from 0.00724 to 0.00715, saving model to dir_01.h5\n",
      "Epoch 200/200\n",
      "346/346 [==============================] - 0s 1ms/step - loss: 0.0851 - acc: 0.9798 - val_loss: 0.0076 - val_acc: 0.9971\n",
      "\n",
      "Epoch 00200: val_loss did not improve from 0.00715\n",
      "Elapsed time in seconds:  74.25503921508789\n"
     ]
    }
   ],
   "source": [
    "import time\n",
    "\n",
    "filename = 'dir_01.h5'\n",
    "checkpoint = ModelCheckpoint(filename, monitor='val_loss', verbose=1, save_best_only=True, mode='min')\n",
    "\n",
    "start = time.time()\n",
    "\n",
    "hist = model.fit(train_X, train_Y, epochs = 200, batch_size = 32, validation_data = (val_X, val_Y), callbacks = [checkpoint])\n",
    "\n",
    "print(\"Elapsed time in seconds: \", time.time() - start)\n"
   ]
  },
  {
   "cell_type": "code",
   "execution_count": 70,
   "metadata": {
    "colab": {},
    "colab_type": "code",
    "id": "YjXKos8ocXvw"
   },
   "outputs": [],
   "source": [
    " model = load_model(\"dir_01.h5\")"
   ]
  },
  {
   "cell_type": "code",
   "execution_count": 71,
   "metadata": {
    "colab": {},
    "colab_type": "code",
    "id": "qSTEzrlzcuya"
   },
   "outputs": [],
   "source": [
    "def predictions(text):\n",
    "    clean = re.sub(r'[^ a-z A-Z 0-9]', \" \", text)\n",
    "    test_word = word_tokenize(clean)\n",
    "    test_word = [w.lower() for w in test_word]\n",
    "    test_ls = token.texts_to_sequences(test_word)\n",
    "    #print(test_word)\n",
    "    #Check for unknown words\n",
    "    if [] in test_ls:\n",
    "        test_ls = list(filter(None, test_ls))\n",
    "    \n",
    "    test_ls = np.array(test_ls).reshape(1, len(test_ls))\n",
    "\n",
    "    #print(\"test_ls: \", test_ls)\n",
    "\n",
    "    x = pad_sequences(test_ls, maxlen = MAX_SENT_LENGTH, padding = \"post\")\n",
    "    \n",
    "    # print (\"x: \", x)\n",
    "    \n",
    "    pred = model.predict_proba(x)\n",
    "  \n",
    "    return pred\n"
   ]
  },
  {
   "cell_type": "code",
   "execution_count": 72,
   "metadata": {
    "colab": {},
    "colab_type": "code",
    "id": "P1ddofshmdzK"
   },
   "outputs": [],
   "source": [
    "def get_final_output(pred, classes):\n",
    "    #print (type (pred))\n",
    "    #print (pred)\n",
    "    \n",
    "    predictions = pred[0]\n",
    " \n",
    "    classes = np.array(classes)\n",
    "    ids = np.argsort(-predictions)\n",
    "    classes = classes[ids]\n",
    "#    predictions = -np.sort(-predictions)\n",
    "\n",
    "#    for i in range(pred.shape[1]):\n",
    "#        print(\"%s has confidence = %s\" % (classes[i], (predictions[i])))\n",
    "    \n",
    "    return classes[0]\n"
   ]
  },
  {
   "cell_type": "code",
   "execution_count": 73,
   "metadata": {
    "colab": {
     "base_uri": "https://localhost:8080/",
     "height": 391
    },
    "colab_type": "code",
    "id": "23VpGuihMdEU",
    "outputId": "cd36c932-0fb0-4166-92ae-546a7676e645"
   },
   "outputs": [
    {
     "name": "stdout",
     "output_type": "stream",
     "text": [
      "greet\n"
     ]
    }
   ],
   "source": [
    "text = \"Good morning\"\n",
    "pred = predictions(text)\n",
    "out = get_final_output(pred, intents_unique)\n",
    "print (out)"
   ]
  },
  {
   "cell_type": "code",
   "execution_count": 77,
   "metadata": {},
   "outputs": [
    {
     "name": "stdout",
     "output_type": "stream",
     "text": [
      "thanks this is great news recognized as goodbye, correct is thanks\n",
      "merci recognized as confirm, correct is thanks\n",
      "how is your evening recognized as what_is_your_name, correct is how_are_you\n",
      "how nice! recognized as goodbye, correct is confirm\n",
      "definitely recognized as greet, correct is confirm\n",
      "never recognized as confirm, correct is deny\n",
      "yep if i have to recognized as skills, correct is confirm\n",
      "no you did it wrong recognized as goodbye, correct is deny\n",
      "worthless recognized as confirm, correct is insult\n",
      "greetings recognized as confirm, correct is greet\n",
      "cool! recognized as thanks, correct is confirm\n",
      "where am i recognized as greet, correct is skills\n",
      "have a nice day recognized as how_are_you, correct is goodbye\n",
      "nope recognized as confirm, correct is deny\n",
      "i'm off recognized as sorry, correct is goodbye\n",
      "planned leaves recognized as greet, correct is leave_budget\n",
      "What's new? recognized as goodbye, correct is how_are_you\n",
      "correct recognized as greet, correct is confirm\n",
      "i apologize recognized as greet, correct is sorry\n",
      "yes you're stupid recognized as conversation_restart, correct is insult\n",
      "amazing recognized as confirm, correct is thanks\n",
      "Do you have an answer for me? recognized as how_are_you, correct is skills\n",
      "sorry for what i just said recognized as how_are_you, correct is sorry\n",
      "very sorry recognized as confirm, correct is sorry\n",
      "restart please recognized as thanks, correct is conversation_restart\n",
      "What are your features? recognized as are_you_a_robot, correct is skills\n",
      "who am i recognized as deny, correct is skills\n",
      "not really recognized as confirm, correct is deny\n",
      "how much is left? recognized as how_are_you, correct is leave_budget\n",
      "stop! recognized as confirm, correct is conversation_restart\n",
      "Results: 57 from 87 correct = 65.52 percent\n"
     ]
    }
   ],
   "source": [
    "with open('mowgli_test_new.csv', newline='') as csvfile:\n",
    "    testfilelist = list(csv.reader(csvfile))\n",
    "\n",
    "total   = 0\n",
    "correct = 0\n",
    "\n",
    "for s in testfilelist:\n",
    "    right_label = s[1]\n",
    "    message     = s[0]\n",
    "\n",
    "    pred   = predictions(message)\n",
    "    intent = get_final_output(pred, intents_unique)\n",
    "\n",
    "    if intent == right_label:\n",
    "        correct += 1\n",
    "    else:\n",
    "        print (\"%s recognized as %s, correct is %s\" % (message, intent, right_label))\n",
    "    total += 1\n",
    "\n",
    "print (\"Results: %d from %d correct = %4.2f percent\" % (correct, total, (correct/total)*100.0))\n"
   ]
  },
  {
   "cell_type": "code",
   "execution_count": null,
   "metadata": {},
   "outputs": [],
   "source": []
  }
 ],
 "metadata": {
  "accelerator": "TPU",
  "colab": {
   "collapsed_sections": [],
   "include_colab_link": true,
   "name": "Intent_classification_final.ipynb",
   "provenance": [],
   "version": "0.3.2"
  },
  "kernelspec": {
   "display_name": "Python 3",
   "language": "python",
   "name": "python3"
  },
  "language_info": {
   "codemirror_mode": {
    "name": "ipython",
    "version": 3
   },
   "file_extension": ".py",
   "mimetype": "text/x-python",
   "name": "python",
   "nbconvert_exporter": "python",
   "pygments_lexer": "ipython3",
   "version": "3.7.3"
  }
 },
 "nbformat": 4,
 "nbformat_minor": 1
}
